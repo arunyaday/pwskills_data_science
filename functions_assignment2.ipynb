{
 "cells": [
  {
   "cell_type": "markdown",
   "id": "be49a887-e2bb-4b25-8c2e-1257ea8073db",
   "metadata": {},
   "source": [
    "#### Q1. Create a python program to sort the given list of tuples based on integer value using a  lambda function.  \n",
    "[('Sachin Tendulkar', 34357), ('Ricky Ponting', 27483), ('Jack Kallis', 25534), ('Virat Kohli', 24936)] \\\n",
    "Ans:"
   ]
  },
  {
   "cell_type": "code",
   "execution_count": 37,
   "id": "dbd664b5-4f51-429f-a7d6-ce45509739f7",
   "metadata": {},
   "outputs": [
    {
     "name": "stdout",
     "output_type": "stream",
     "text": [
      "[('Virat Kohli', 24936), ('Jack Kallis', 25534), ('Ricky Ponting', 27483), ('Sachin Tendulkar', 34357)]\n"
     ]
    }
   ],
   "source": [
    "lst=[('Sachin Tendulkar', 34357), ('Ricky Ponting', 27483), ('Jack Kallis', 25534), ('Virat Kohli', 24936)] \n",
    "print(sorted(lst, key = lambda x : x[1]))"
   ]
  },
  {
   "cell_type": "code",
   "execution_count": null,
   "id": "9ae4b5ad-bb4f-4262-9eb5-22a0c68d9a19",
   "metadata": {},
   "outputs": [],
   "source": []
  },
  {
   "cell_type": "markdown",
   "id": "8fa653ac-b416-4084-80b6-908652f3c063",
   "metadata": {},
   "source": [
    "#### Q2. Write a Python Program to find the squares of all the numbers in the given list of integers using  lambda and map functions. \n",
    "[1, 2, 3, 4, 5, 6, 7, 8, 9, 10] \\\n",
    "Ans:"
   ]
  },
  {
   "cell_type": "code",
   "execution_count": 33,
   "id": "febc9b91-e65e-440d-8203-8a092dc90218",
   "metadata": {},
   "outputs": [
    {
     "name": "stdout",
     "output_type": "stream",
     "text": [
      "[1, 4, 9, 16, 25, 36, 49, 64, 81, 100]\n"
     ]
    }
   ],
   "source": [
    "nums=[1, 2, 3, 4, 5, 6, 7, 8, 9, 10]\n",
    "print(list((map(lambda x: x**2,nums))))"
   ]
  },
  {
   "cell_type": "markdown",
   "id": "6de2a885-376a-4326-bd4f-43a0d8b2440c",
   "metadata": {},
   "source": [
    "#### Q3. Write a python program to convert the given list of integers into a tuple of strings. Use map and  lambda functions \\\n",
    "Given String: [1, 2, 3, 4, 5, 6, 7, 8, 9, 10] \\\n",
    "Expected output: ('1', '2', '3', '4', '5', '6', '7', '8', '9', '10') \\\n",
    "Ans:"
   ]
  },
  {
   "cell_type": "code",
   "execution_count": 31,
   "id": "f500728a-aec6-4f41-96c6-10d5a7f8abcf",
   "metadata": {},
   "outputs": [
    {
     "name": "stdout",
     "output_type": "stream",
     "text": [
      "('1', '2', '3', '4', '5', '6', '7', '8', '9', '10')\n"
     ]
    }
   ],
   "source": [
    "srt1=[1, 2, 3, 4, 5, 6, 7, 8, 9, 10]\n",
    "print(tuple(map(lambda x: str(x),srt1)))"
   ]
  },
  {
   "cell_type": "markdown",
   "id": "46675701-79a3-450e-8d4f-8969c81e94c6",
   "metadata": {},
   "source": [
    "#### Q4.  Write a python program using reduce function to compute the product of a list containing numbers  from 1 to 25. \\\n",
    "Ans:"
   ]
  },
  {
   "cell_type": "code",
   "execution_count": 29,
   "id": "893f00d8-0b70-463e-bde2-3c0bd5e6b0b0",
   "metadata": {},
   "outputs": [
    {
     "name": "stdout",
     "output_type": "stream",
     "text": [
      "15511210043330985984000000\n"
     ]
    }
   ],
   "source": [
    "from functools import reduce\n",
    "lst=[ i for i in range(1,26)]\n",
    "print(reduce(lambda x,y:x*y, lst))"
   ]
  },
  {
   "cell_type": "markdown",
   "id": "9aef24c6-ea49-4b62-92d7-4cc990c222d1",
   "metadata": {},
   "source": [
    "#### Q5. Write a python program to filter the numbers in a given list that are divisible by 2 and 3 using the  filter function. \\\n",
    "[2, 3, 6, 9, 27, 60, 90, 120, 55, 46] \\\n",
    "Ans:"
   ]
  },
  {
   "cell_type": "code",
   "execution_count": 45,
   "id": "5e79e7b2-b74a-489b-99dc-202be1059216",
   "metadata": {},
   "outputs": [
    {
     "name": "stdout",
     "output_type": "stream",
     "text": [
      "[6, 60, 90, 120]\n"
     ]
    }
   ],
   "source": [
    "lst=[2, 3, 6, 9, 27, 60, 90, 120, 55, 46]\n",
    "print(list(filter(lambda x: x%2==0 and x%3==0, lst)))"
   ]
  },
  {
   "cell_type": "markdown",
   "id": "337fdc9f-f176-409b-9a72-87026dfc05a4",
   "metadata": {},
   "source": [
    "#### Q6. Write a python program to find palindromes in the given list of strings using lambda and filter  function. \n",
    "['python', 'php', 'aba', 'radar', 'level'] "
   ]
  },
  {
   "cell_type": "code",
   "execution_count": 47,
   "id": "cee6a3d3-ffc3-4c02-87d3-7f1f994d9f36",
   "metadata": {},
   "outputs": [
    {
     "name": "stdout",
     "output_type": "stream",
     "text": [
      "['php', 'aba', 'radar', 'level']\n"
     ]
    }
   ],
   "source": [
    "lst=['python', 'php', 'aba', 'radar', 'level']\n",
    "print(list(filter(lambda x: x==x[::-1], lst)))"
   ]
  }
 ],
 "metadata": {
  "kernelspec": {
   "display_name": "Python 3 (ipykernel)",
   "language": "python",
   "name": "python3"
  },
  "language_info": {
   "codemirror_mode": {
    "name": "ipython",
    "version": 3
   },
   "file_extension": ".py",
   "mimetype": "text/x-python",
   "name": "python",
   "nbconvert_exporter": "python",
   "pygments_lexer": "ipython3",
   "version": "3.10.8"
  }
 },
 "nbformat": 4,
 "nbformat_minor": 5
}
