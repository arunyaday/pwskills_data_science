{
 "cells": [
  {
   "cell_type": "markdown",
   "id": "90bb9294-7e97-4034-b9d2-a3f5ceab80e1",
   "metadata": {},
   "source": [
    "#### Q1. What is MongoDB? Explain non-relational databases in short. In which scenarios it is preferred to use MongoDB over SQL databases?\n",
    "Ans: \n",
    "As a definition, MongoDB is an open-source database that uses a document-oriented data model and a non-structured query language. It is one of the most powerful NoSQL systems and databases around, today.\\\n",
    "MongoDB Atlas is a cloud database solution for contemporary applications that is available globally. This best-in-class automation and established practices offer to deploy fully managed MongoDB across AWS, Google Cloud, and Azure.\\\n",
    "It also ensures availability, scalability, and compliance with the most stringent data security and privacy requirements. MongoDB Cloud is a unified data platform that includes a global cloud database, search, data lake, mobile, and application services.\n",
    "\n",
    "Being a NoSQL tool means that it does not use the usual rows and columns that you so much associate with relational database management. It is an architecture that is built on collections and documents. The basic unit of data in this database consists of a set of key-value pairs. It allows documents to have different fields and structures. This database uses a document storage format called BSON which is a binary style of JSON documents.\n",
    "\n",
    "* Non-relational databases\n",
    "\n",
    "NoSQL Database is a non-relational Data Management System, that does not require a fixed schema.\n",
    "It avoids joins, and is easy to scale.\n",
    "The major purpose of using a NoSQL database is for distributed data stores with humongous data storage needs.\n",
    "NoSQL is used for Big data and real-time web apps.\n",
    "For example, companies like Twitter, Facebook and Google collect terabytes of user data every single day.\n",
    "\n",
    "Benefits of NoSQL\n",
    "\n",
    "* highly and easily scalable\\\n",
    "Relational database or RDBMS databases are vertically Scalable When load increase on RDBMS database then we scale database by increasing server hardware power, need to by expensive and bigger servers and NoSQL databases are designed to expand horizontally and in Horizontal scaling means that you scale by adding more machines into your pool of resources.\n",
    "* Maintaining NoSQL Servers is Less Expensive\\\n",
    "Maintaining high-end RDBMS systems is expensive and need trained manpower for database management but NoSQL databases require less management. it supports many Features like automatic repair, easier data distribution, and simpler data models make administration and tuning requirements lesser in NoSQL.\n",
    "* Lesser Server Cost and Open-Source\\\n",
    "NoSQL databases are cheap and open source. NoSQL database implementation is easy and typically uses cheap servers to manage the exploding data and transaction while RDBMS databases are expensive and it uses big servers and storage systems. So the storing and processing data cost per gigabyte in the case of NoSQL can be many times lesser than the cost of RDBMS.\n",
    "* No Schema or Fixed Data model\\\n",
    "NoSQL database is schema less so Data can be inserted in a NoSQL database without any predefined schema. So the format or data model can be changed any time, without application disruption. And change management is a big headache in SQL.\n",
    "* Support Integrated Caching\\\n",
    "NoSQL database support caching in system memory so it increases data output performance and SQL database where this has to be done using separate infrastructure."
   ]
  },
  {
   "cell_type": "code",
   "execution_count": null,
   "id": "446410d0-44cb-4ec7-8877-ef8a50eb3a8b",
   "metadata": {},
   "outputs": [],
   "source": []
  },
  {
   "cell_type": "markdown",
   "id": "6c1bc29c-a772-4e05-a0af-bf34d8cb7f3c",
   "metadata": {},
   "source": [
    "#### Q2. State and Explain the features of MongoDB.\n",
    "Ans: Features of MongoDB –\n",
    "\n",
    "* Schema-less Database: It is the great feature provided by the MongoDB. A Schema-less database means one collection can hold different types of documents in it. Or in other words, in the MongoDB database, a single collection can hold multiple documents and these documents may consist of the different numbers of fields, content, and size. It is not necessary that the one document is similar to another document like in the relational databases. Due to this cool feature, MongoDB provides great flexibility to databases.\n",
    "* Document Oriented: In MongoDB, all the data stored in the documents instead of tables like in RDBMS. In these documents, the data is stored in fields(key-value pair) instead of rows and columns which make the data much more flexible in comparison to RDBMS. And each document contains its unique object id.\n",
    "* Indexing: In MongoDB database, every field in the documents is indexed with primary and secondary indices this makes easier and takes less time to get or search data from the pool of the data. If the data is not indexed, then database search each document with the specified query which takes lots of time and not so efficient.\n",
    "* Scalability: MongoDB provides horizontal scalability with the help of sharding. Sharding means to distribute data on multiple servers, here a large amount of data is partitioned into data chunks using the shard key, and these data chunks are evenly distributed across shards that reside across many physical servers. It will also add new machines to a running database.\n",
    "* Replication: MongoDB provides high availability and redundancy with the help of replication, it creates multiple copies of the data and sends these copies to a different server so that if one server fails, then the data is retrieved from another server.\n",
    "* Aggregation: It allows to perform operations on the grouped data and get a single result or computed result. It is similar to the SQL GROUPBY clause. It provides three different aggregations i.e, aggregation pipeline, map-reduce function, and single-purpose aggregation methods\n",
    "* High Performance: The performance of MongoDB is very high and data persistence as compared to another database due to its features like scalability, indexing, replication, etc."
   ]
  },
  {
   "cell_type": "code",
   "execution_count": null,
   "id": "a3b06d0d-78a2-4bb8-8c7e-ac108a6e4d43",
   "metadata": {},
   "outputs": [],
   "source": []
  },
  {
   "cell_type": "markdown",
   "id": "59514bb5-f630-4983-a4a1-b5005749dd98",
   "metadata": {},
   "source": [
    "Q3. Write a code to connect MongoDB to Python. Also, create a database and a collection in MongoDB."
   ]
  },
  {
   "cell_type": "code",
   "execution_count": null,
   "id": "68bcc7d8-7a9b-4b98-bab1-c01b44517664",
   "metadata": {},
   "outputs": [],
   "source": [
    "# Import the PyMongo library\n",
    "import pymongo\n",
    "\n",
    "# Connect to the MongoDB server\n",
    "client = pymongo.MongoClient(\"mongodb://localhost:27017/\")\n",
    "\n",
    "# Create a new database\n",
    "db = client[\"mydatabase\"]\n",
    "\n",
    "# Create a new collection in the database\n",
    "collection = db[\"mycollection\"]\n",
    "\n",
    "# Insert a new document into the collection\n",
    "document = {\"name\": \"John\", \"age\": 30, \"city\": \"New York\"}\n",
    "collection.insert_one(document)\n",
    "\n",
    "# Find a document in the collection\n",
    "query = {\"name\": \"John\"}\n",
    "result = collection.find_one(query)\n",
    "print(result)"
   ]
  },
  {
   "cell_type": "code",
   "execution_count": null,
   "id": "8f797256-2bc2-4a90-9e25-dd87ce45cce1",
   "metadata": {},
   "outputs": [],
   "source": []
  },
  {
   "cell_type": "markdown",
   "id": "119b1067-d54f-4827-ab6e-311b96381779",
   "metadata": {},
   "source": [
    "#### Q4. Using the database and the collection created in question number 3, write a code to insert one record, and insert many records. Use the find() and find_one() methods to print the inserted record.\n",
    "Ans: "
   ]
  },
  {
   "cell_type": "code",
   "execution_count": null,
   "id": "e6d86994-98c4-4893-854c-9c2b1c82ea88",
   "metadata": {},
   "outputs": [],
   "source": [
    "# Import the PyMongo library\n",
    "import pymongo\n",
    "\n",
    "# Connect to the MongoDB server\n",
    "client = pymongo.MongoClient(\"mongodb://localhost:27017/\")\n",
    "\n",
    "# Create a reference to the \"mycollection\" collection in the \"mydatabase\" database\n",
    "db = client[\"mydatabase\"]\n",
    "collection = db[\"mycollection\"]\n",
    "\n",
    "# Insert one record into the collection\n",
    "record_one = {\"name\": \"Alice\", \"age\": 25, \"city\": \"Los Angeles\"}\n",
    "result_one = collection.insert_one(record_one)\n",
    "print(\"Inserted record ID:\", result_one.inserted_id)\n",
    "\n",
    "# Insert many records into the collection\n",
    "records_many = [\n",
    "    {\"name\": \"Bob\", \"age\": 30, \"city\": \"New York\"},\n",
    "    {\"name\": \"Charlie\", \"age\": 35, \"city\": \"San Francisco\"},\n",
    "    {\"name\": \"David\", \"age\": 40, \"city\": \"Boston\"}\n",
    "]\n",
    "result_many = collection.insert_many(records_many)\n",
    "print(\"Inserted records IDs:\", result_many.inserted_ids)\n",
    "\n",
    "# Find one record in the collection\n",
    "query = {\"name\": \"Alice\"}\n",
    "result = collection.find_one(query)\n",
    "print(\"Found record:\", result)\n",
    "\n",
    "# Find all records in the collection\n",
    "results = collection.find()\n",
    "print(\"All records:\")\n",
    "for result in results:\n",
    "    print(result)"
   ]
  },
  {
   "cell_type": "code",
   "execution_count": null,
   "id": "0e2497a7-1a1a-49e6-a2d9-67bd52d4426e",
   "metadata": {},
   "outputs": [],
   "source": []
  },
  {
   "cell_type": "markdown",
   "id": "a0e0177e-7c14-4049-8363-b97dac194078",
   "metadata": {},
   "source": [
    "#### Q5. Explain how you can use the find() method to query the MongoDB database. Write a simple code to demonstrate this.\n",
    "Ans: \n",
    "The find() method is used to query a MongoDB database for documents that match a specified set of criteria. This method returns a cursor object that can be used to iterate over the matching documents.\n",
    "\n",
    "Here's an example code to demonstrate how to use the find() method to query a MongoDB database:"
   ]
  },
  {
   "cell_type": "code",
   "execution_count": null,
   "id": "e3179096-7e56-47e3-ae29-c6bddbbacd31",
   "metadata": {},
   "outputs": [],
   "source": [
    "# Import the PyMongo library\n",
    "import pymongo\n",
    "\n",
    "# Connect to the MongoDB server\n",
    "client = pymongo.MongoClient(\"mongodb://localhost:27017/\")\n",
    "\n",
    "# Create a reference to the \"mycollection\" collection in the \"mydatabase\" database\n",
    "db = client[\"mydatabase\"]\n",
    "collection = db[\"mycollection\"]\n",
    "\n",
    "# Find all documents in the collection\n",
    "results = collection.find()\n",
    "\n",
    "# Iterate over the results and print each document\n",
    "for result in results:\n",
    "    print(result)"
   ]
  },
  {
   "cell_type": "code",
   "execution_count": null,
   "id": "662cc263-8c57-48b2-b41f-23f39c71d2de",
   "metadata": {},
   "outputs": [],
   "source": []
  },
  {
   "cell_type": "markdown",
   "id": "8c460833-23a2-4c0d-8805-47f75aa9aadb",
   "metadata": {},
   "source": [
    "#### Q.6 Explain the sort() method. Give an example to demonstrate sorting in MongoDB.\n",
    "Ans: \n"
   ]
  },
  {
   "cell_type": "code",
   "execution_count": null,
   "id": "d6a46274-f844-4247-9d7d-68c82982391d",
   "metadata": {},
   "outputs": [],
   "source": [
    "# Import the PyMongo library\n",
    "import pymongo\n",
    "\n",
    "# Connect to the MongoDB server\n",
    "client = pymongo.MongoClient(\"mongodb://localhost:27017/\")\n",
    "\n",
    "# Create a reference to the \"mycollection\" collection in the \"mydatabase\" database\n",
    "db = client[\"mydatabase\"]\n",
    "collection = db[\"mycollection\"]\n",
    "\n",
    "# Insert some sample documents into the collection\n",
    "collection.insert_many([\n",
    "    {\"name\": \"Alice\", \"age\": 25},\n",
    "    {\"name\": \"Bob\", \"age\": 30},\n",
    "    {\"name\": \"Charlie\", \"age\": 35}\n",
    "])\n",
    "\n",
    "# Sort the documents in the collection by age in ascending order\n",
    "results = collection.find().sort(\"age\", pymongo.ASCENDING)\n",
    "\n",
    "# Print the sorted documents\n",
    "for result in results:\n",
    "    print(result)"
   ]
  },
  {
   "cell_type": "code",
   "execution_count": null,
   "id": "090464e9-1981-45d4-bf36-a0cf59de4aac",
   "metadata": {},
   "outputs": [],
   "source": []
  },
  {
   "cell_type": "markdown",
   "id": "2f92b364-23e4-4d78-bc9e-ff686edf0869",
   "metadata": {},
   "source": [
    "#### Q7. Explain why delete_one(), delete_many(), and drop() is used.\n",
    "\n",
    "In MongoDB, the delete_one() and delete_many() methods are used to remove documents from a collection that match a specified set of criteria. The drop() method is used to remove an entire collection from a database.\n",
    "\n",
    "Here's a brief explanation of each method:\n",
    "\n",
    "* delete_one(filter): This method deletes the first document that matches the specified filter criteria. If there are multiple documents that match the criteria, only the first one is deleted. This method returns a DeleteResult object that contains information about the operation, such as the number of documents deleted.\n",
    "\n",
    "* delete_many(filter): This method deletes all documents that match the specified filter criteria. This method returns a DeleteResult object that contains information about the operation, such as the number of documents deleted.\n",
    "\n",
    "* drop(): This method removes an entire collection from the database. This method returns None.\n",
    "\n",
    "These methods are used to remove documents from a MongoDB collection for various reasons, such as removing outdated or invalid data, cleaning up unused records, or removing duplicates. The drop() method is used when you want to completely remove a collection from the database and all of its associated documents.\n",
    "\n",
    "It's important to note that when using any of these methods, you should exercise caution and double-check that you are deleting the correct documents or collections, as the deleted data cannot be recovered."
   ]
  }
 ],
 "metadata": {
  "kernelspec": {
   "display_name": "Python 3 (ipykernel)",
   "language": "python",
   "name": "python3"
  },
  "language_info": {
   "codemirror_mode": {
    "name": "ipython",
    "version": 3
   },
   "file_extension": ".py",
   "mimetype": "text/x-python",
   "name": "python",
   "nbconvert_exporter": "python",
   "pygments_lexer": "ipython3",
   "version": "3.10.8"
  }
 },
 "nbformat": 4,
 "nbformat_minor": 5
}
