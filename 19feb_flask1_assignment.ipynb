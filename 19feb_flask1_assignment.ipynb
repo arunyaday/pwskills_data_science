{
 "cells": [
  {
   "cell_type": "markdown",
   "id": "48051887-ff69-420e-8c35-39f16c71f537",
   "metadata": {},
   "source": [
    "#### Q1. What is Flask Framework? What are the advantages of Flask Framework?\n",
    "Ans:Flask is a popular web framework for building web applications using Python. It is a lightweight and modular framework that is easy to use and provides flexibility for developers.\n",
    "Flask is known as a micro-framework because it is lightweight and only provides components that are essential. It only provides the necessary components for web development, such as routing, request handling, sessions, and so on. For the other functionalities such as data handling, the developer can write a custom module or use an extension. This approach avoids unnecessary boilerplate code, which is not even being used.\n",
    "\n",
    "Advantages of Flask:\n",
    "* Lightweight: Flask is a lightweight framework that does not come with any pre-built components, allowing developers to choose the components they need and avoiding any unnecessary bloat in their application.\n",
    "* Easy to use: Flask is easy to learn and use, making it an excellent choice for beginners. It also has a simple and intuitive API that allows developers to quickly build web applications.\n",
    "* Flexible: Flask allows developers to customize and extend the framework according to their needs. It does not impose any specific architecture or directory structure, giving developers more freedom in building their applications.\n",
    "* Built-in development server: Flask comes with a built-in development server, making it easy to test and debug applications without the need for additional tools.\n",
    "* Large community: Flask has a large community of developers who contribute to the framework's development and provide support to other developers. This community provides a wealth of resources, such as plugins, extensions, and documentation, that can help developers to build applications more quickly and efficiently."
   ]
  },
  {
   "cell_type": "code",
   "execution_count": null,
   "id": "6795c820-85ee-4138-9ff6-0bb97d4e2e85",
   "metadata": {},
   "outputs": [],
   "source": []
  },
  {
   "cell_type": "markdown",
   "id": "65f782a3-736f-42e6-b446-c907196cb373",
   "metadata": {},
   "source": [
    "#### Q2. Create a simple Flask application to display ‘Hello World!!’. Attach the screenshot of the output in Jupyter Notebook.\n"
   ]
  },
  {
   "cell_type": "code",
   "execution_count": null,
   "id": "ccd98a0d-5448-4d48-8f26-6f2b6a7fb590",
   "metadata": {},
   "outputs": [],
   "source": [
    "from flask import Flask\n",
    "\n",
    "app = Flask(__name__)\n",
    "\n",
    "@app.route(\"/\")\n",
    "def hello_world():\n",
    "    return \"<h1>Hello World!!</h1>\"\n",
    "\n",
    "if __name__==\"__main__\":\n",
    "    app.run(host=\"0.0.0.0\")\n"
   ]
  },
  {
   "attachments": {
    "35b2056d-3b1f-44e5-91ce-f2371329cf65.png": {
     "image/png": "[encoded data removed]"
    }
   },
   "cell_type": "markdown",
   "id": "ae73d85b-dee3-45ae-abbc-55a908217c83",
   "metadata": {},
   "source": [
    "![image.png](attachment:35b2056d-3b1f-44e5-91ce-f2371329cf65.png)"
   ]
  },
  {
   "cell_type": "code",
   "execution_count": null,
   "id": "f7038bd6-93e4-4bae-871c-bb81cc0bd70a",
   "metadata": {},
   "outputs": [],
   "source": []
  },
  {
   "cell_type": "markdown",
   "id": "2f364d5e-aa32-466b-be67-e55d7e429aee",
   "metadata": {},
   "source": [
    "#### Q3. What is App routing in Flask? Why do we use app routes?\n",
    "Ans: App routing is the technique used to map the specific URL with the associated function intended to perform some task. The Latest Web frameworks use the routing technique to help users remember application URLs. It is helpful to access the desired page directly without navigating from the home page.\n",
    "\n",
    "The URL (‘/’) is linked with the root URL in every application.  \n",
    "\n",
    "Let’s say if our website domain is www.abc.com and we want to add routing to “www.abc.com/hello”, we will use “/hello”. \n",
    "\n",
    "There are two ways through which we can bind the URLs to their associated function:-\n",
    "* Using route() decorator\n",
    "* Using add_url_rule() function\n",
    "\n",
    "App routing is used to map the specific URL with the associated function that is intended to perform some task\n",
    "\n",
    "App routes is used to define dynamic URLs that can accept parameters, such as user IDs or product names. By using dynamic routes, a developer can create a single function to handle requests to multiple URLs, reducing the amount of duplicated code and making the application more maintainable.\n"
   ]
  },
  {
   "cell_type": "code",
   "execution_count": null,
   "id": "1ba6fe29-c6e7-4532-a94a-72c811ab593f",
   "metadata": {},
   "outputs": [],
   "source": []
  },
  {
   "cell_type": "markdown",
   "id": "c61e86b6-97a7-4d8c-9dab-65f90609284b",
   "metadata": {},
   "source": [
    "#### Q4. Create a “/welcome” route to display the welcome message “Welcome to ABC Corporation” and a “/” route to show the following details:\n",
    "Company Name: ABC Corporation\\\n",
    "Location: India\\\n",
    "Contact Detail: 999-999-9999\\\n",
    "Attach the screenshot of the output in Jupyter Notebook."
   ]
  },
  {
   "cell_type": "code",
   "execution_count": null,
   "id": "e2c30c66-905b-465e-b812-eaa09d876a47",
   "metadata": {},
   "outputs": [],
   "source": [
    "from flask import Flask\n",
    "\n",
    "app = Flask(__name__)\n",
    "\n",
    "@app.route('/welcome')\n",
    "def welcome():\n",
    "    return \"<h1>Welcome to ABC Corporation</h1>\"\n",
    "\n",
    "@app.route('/')\n",
    "def details():\n",
    "    company_name = 'ABC Corporation'\n",
    "    location = 'India'\n",
    "    contact_detail = '999-999-9999'\n",
    "    return f'Company Name: {company_name}<br>Location: {location}<br>Contact Detail: {contact_detail}'\n",
    "\n",
    "\n",
    "if __name__==\"__main__\":\n",
    "    app.run(host=\"0.0.0.0\")\n"
   ]
  },
  {
   "attachments": {
    "8990ac04-5932-4434-9bd6-c2b03fd2638b.png": {
     "image/png": "[encoded data removed]"
    },
    "c6af43be-a257-43e3-8ead-207c1719c533.png": {
     "image/png": "[encoded data removed]"
    }
   },
   "cell_type": "markdown",
   "id": "7bcc8ded-4cd1-4df8-89f1-d5d4567a0544",
   "metadata": {},
   "source": [
    "https://black-salesmen-gljyb.pwskills.app:5000/welcome\n",
    "\n",
    "![image.png](attachment:c6af43be-a257-43e3-8ead-207c1719c533.png)\n",
    "\n",
    "\n",
    "https://black-salesmen-gljyb.pwskills.app:5000\n",
    "\n",
    "![image.png](attachment:8990ac04-5932-4434-9bd6-c2b03fd2638b.png)\n",
    "\n"
   ]
  },
  {
   "cell_type": "code",
   "execution_count": null,
   "id": "80278675-5cef-4ff1-ba4e-9898a674c8a6",
   "metadata": {},
   "outputs": [],
   "source": []
  },
  {
   "cell_type": "markdown",
   "id": "0a205a59-8d2a-41d7-bf37-984fb21b150e",
   "metadata": {},
   "source": [
    "#### Q5. What function is used in Flask for URL Building? Write a Python code to demonstrate the working of the url_for() function.\n",
    "Ans: The url_for() function is used to build a URL to the specific function dynamically. The first argument is the name of the specified function, and then we can pass any number of keyword argument corresponding to the variable part of the URL.\n",
    "\n",
    "This function is useful in the sense that we can avoid hard-coding the URLs into the templates by dynamically building them using this function."
   ]
  },
  {
   "cell_type": "code",
   "execution_count": null,
   "id": "4fcd04a0-4080-4c08-861a-d4998fec85ca",
   "metadata": {},
   "outputs": [],
   "source": [
    "from flask import *  \n",
    "\n",
    "app = Flask(__name__)\n",
    "\n",
    "\n",
    "@app.route('/admin')  \n",
    "def admin():  \n",
    "    return 'Welcome back admin!!'  \n",
    "  \n",
    "@app.route('/librarion')  \n",
    "def librarion():  \n",
    "    return 'Welcome back librarion!!'  \n",
    "  \n",
    "@app.route('/student')  \n",
    "def student():  \n",
    "    return 'Welcome back student!!'  \n",
    "  \n",
    "@app.route('/user/<name>')  \n",
    "def user(name):  \n",
    "    if name == 'admin':  \n",
    "        return redirect(url_for('admin'))  \n",
    "    if name == 'librarion':  \n",
    "        return redirect(url_for('librarion'))  \n",
    "    if name == 'student':  \n",
    "        return redirect(url_for('student'))  \n",
    "\n",
    "\n",
    "\n",
    "if __name__==\"__main__\":\n",
    "    app.run(host=\"0.0.0.0\")\n",
    "    app.run(debug = True)  "
   ]
  }
 ],
 "metadata": {
  "kernelspec": {
   "display_name": "Python 3 (ipykernel)",
   "language": "python",
   "name": "python3"
  },
  "language_info": {
   "codemirror_mode": {
    "name": "ipython",
    "version": 3
   },
   "file_extension": ".py",
   "mimetype": "text/x-python",
   "name": "python",
   "nbconvert_exporter": "python",
   "pygments_lexer": "ipython3",
   "version": "3.10.8"
  }
 },
 "nbformat": 4,
 "nbformat_minor": 5
}
