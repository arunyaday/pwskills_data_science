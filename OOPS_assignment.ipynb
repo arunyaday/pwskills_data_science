{
 "cells": [
  {
   "cell_type": "markdown",
   "id": "c3a740f7-1827-4a06-9269-a70390f4b825",
   "metadata": {},
   "source": [
    "### Q1. Explain Class and Object with respect to Object-Oriented Programming. Give a suitable example.\n",
    "Ans:\n",
    "#### Class\n",
    "Classes are used to generate data structures that are unique to the user. Classes define methods, which identify the behaviors and activities that a class-created object can execute with its data. A class is a blueprint for an object and can be thought of as a collection of objects. For example, if you have an employee class, it should have an attribute and method, such as an email id, name, age, salary, and so on.\n",
    "\n",
    "Defining a class –\n",
    "All class definitions begin with the class keyword, followed by the class name and a colon. Any code indented beneath the class definition is assumed to be part of the class’s body.\n",
    "\n",
    "Syntax example:\\\n",
    "class Employee:\\\n",
    "<code>&nbsp;&nbsp;</code> def __init__(self):\\\n",
    "pass\n",
    "\n",
    "\n",
    "#### Object\n",
    "The object is a self-contained entity with state and behavior. It might be any real-world object, such as a mouse, keyboard, chair, table, pen, and so on. In Python, everything is an object, and nearly everything has attributes and functions.\n",
    "\n",
    "The process of creating a new object from a class is known as instantiating an object. When a class is defined, only the object’s description is specified. As a result, no memory or storage space is allocated. We build the class’s object to allocate memory. The objector instance is made up of real facts or information\n",
    "\n",
    "Syntax example:\\\n",
    "obj = Employee()\\\n",
    "Here, obj is an object of the class Employee."
   ]
  },
  {
   "cell_type": "code",
   "execution_count": 1,
   "id": "032e8597-92a7-4cfa-bce9-8b31b01183fa",
   "metadata": {},
   "outputs": [
    {
     "name": "stdout",
     "output_type": "stream",
     "text": [
      "Ajay has a salary of 20000 and his position is CMO\n",
      "Manik has a salary of 45000 and his position is VP\n"
     ]
    }
   ],
   "source": [
    "#Example:\n",
    "class Employee:\n",
    "    def __init__(self, name, salary, designation):\n",
    "        self.name = name\n",
    "        self.salary = salary\n",
    "        self.designation = designation\n",
    "\n",
    "\n",
    "e1 = Employee('Ajay', 20000, 'CMO')\n",
    "e2 = Employee('Manik', 45000, 'VP')\n",
    "\n",
    "# access the instance attributes\n",
    "print(e1.name, 'has a salary of', e1.salary, 'and his position is', e1.designation)\n",
    "print(e2.name, 'has a salary of', e2.salary, 'and his position is', e2.designation)\n"
   ]
  },
  {
   "cell_type": "code",
   "execution_count": null,
   "id": "ec9be2e4-91ed-40fb-98f9-aff7d375b857",
   "metadata": {},
   "outputs": [],
   "source": []
  },
  {
   "cell_type": "markdown",
   "id": "7690572e-d2ad-4cc0-8884-bce4234d7131",
   "metadata": {},
   "source": [
    "#### Q2. Name the four pillars of OOPs.\n",
    "Ans: Python is an Object-Oriented Programming language. Everything in Python is an object. Like other Object-Oriented languages, when creating objects using classes, there are four basic principles for writing clean and concise code. These principles are called the four pillars of object-oriented programming (OOP). These four pillars are Abstraction, Encapsulation, Inheritance and Polymorphism.\n",
    "\n",
    "* Abstraction: Abstraction refers to the practice of exposing only the relevant information and hiding the complexity of the implementation. It allows the user to focus on what the object does rather than how it does it.\n",
    "\n",
    "* Encapsulation: Encapsulation is the mechanism of wrapping the data (variables) and functions that operate on that data within a single unit or object. This protects the data from accidental corruption and provides a secure way to access the data.\n",
    "\n",
    "* Inheritance: In Python it is possible to create an object that inherits the methods and properties of another object. This is called inheritance. In inheritance, there is a parent class and a child class. A child class inherits the properties and methods of the parent class. Child class also have its own attributes and behaviors. Inheritance enables code reuse and makes it easier to create and maintain large, complex systems.\n",
    "\n",
    "* Polymorphism: Polymorphism simply means 'many forms'. In Python this means that you can have one function or object that can be used in different ways. Polymorphism is the ability of an object to take on multiple forms. This is achieved in OOP by defining methods with the same name in different classes that are related by inheritance. When a method is called on an object, the correct implementation of that method is executed based on the object's actual class."
   ]
  },
  {
   "cell_type": "markdown",
   "id": "d1250cdf-c9b4-414e-9be6-74bd6a4144b0",
   "metadata": {},
   "source": [
    "#### Q3. Explain why the __init__() function is used. Give a suitable example.\n",
    "Ans: The init() function is used in object-oriented programming to initialize the attributes of an object at the time of its creation. It is a special method that is automatically called when an object is created from a class. The init() method is also known as a constructor.\n",
    "\n",
    "The init() function allows you to set the default values for the object's attributes, perform any initializations, and allocate any required memory when the object is created. The method takes the newly created object as its first argument (usually referred to as self), and additional arguments can be passed to initialize the object's attributes.\n"
   ]
  },
  {
   "cell_type": "code",
   "execution_count": 3,
   "id": "f1637171-71a0-4c3a-8816-916ba8de62ab",
   "metadata": {},
   "outputs": [
    {
     "name": "stdout",
     "output_type": "stream",
     "text": [
      "Hello, my name is Nikhil\n",
      "Hello, my name is Abhinav\n",
      "Hello, my name is Anshul\n"
     ]
    }
   ],
   "source": [
    "#Example:\n",
    "class Person:\n",
    "\tdef __init__(self, name):\n",
    "\t\tself.name = name\n",
    "\tdef say_hi(self):\n",
    "\t\tprint('Hello, my name is', self.name)\n",
    "\n",
    "p1 = Person('Nikhil')\n",
    "p2 = Person('Abhinav')\n",
    "p3 = Person('Anshul')\n",
    "\n",
    "p1.say_hi()\n",
    "p2.say_hi()\n",
    "p3.say_hi()\n"
   ]
  },
  {
   "cell_type": "markdown",
   "id": "760a56d2-94eb-4630-9915-59616baa8121",
   "metadata": {},
   "source": [
    "#### Q4. Why self is used in OOPs?\n",
    "Ans: The self is used to represent the instance of the class. With this keyword, you can access the attributes and methods of the class in python. It binds the attributes with the given arguments. The reason why we use self is that Python does not use the ‘@’ syntax to refer to instance attributes. In Python, we have methods that make the instance to be passed automatically, but not received automatically.\n",
    "\n",
    "When a method is called on an object, the object is passed as the first argument to the method, and it can be accessed using the self reference. This allows the method to access and modify the object's attributes and perform other operations on the object."
   ]
  },
  {
   "cell_type": "code",
   "execution_count": 8,
   "id": "8191711c-f45f-4905-93e7-35c17d2454b9",
   "metadata": {},
   "outputs": [
    {
     "name": "stdout",
     "output_type": "stream",
     "text": [
      "fruit is apple and color is red\n",
      "fruit is grapes and color is green\n"
     ]
    }
   ],
   "source": [
    "#example\n",
    "class food():\n",
    "    def __init__(self, fruit, color):\n",
    "        self.fruit = fruit\n",
    "        self.color = color\n",
    "    \n",
    "    def show(self):\n",
    "        print(\"fruit is\", self.fruit,\"and color is\", self.color )\n",
    "        \n",
    "    \n",
    "    \n",
    "apple = food(\"apple\", \"red\")\n",
    "grapes = food(\"grapes\", \"green\")\n",
    "apple.show()\n",
    "grapes.show()"
   ]
  },
  {
   "cell_type": "code",
   "execution_count": null,
   "id": "cb6d7c67-b27c-43d8-88c6-5c05a2fe5098",
   "metadata": {},
   "outputs": [],
   "source": []
  },
  {
   "cell_type": "markdown",
   "id": "9a93c87e-0f3b-4ab5-942d-81949ee7540e",
   "metadata": {},
   "source": [
    "#### Q5. What is inheritance? Give an example for each type of inheritance.\n",
    "Ans: In Python it is possible to create an object that inherits the methods and properties of another object. This is called inheritance. In inheritance, there is a parent class and a child class. A child class inherits the properties and methods of the parent class. Child class also have its own attributes and behaviors. Inheritance enables code reuse and makes it easier to create and maintain large, complex systems.\n",
    "\n",
    "* Types of Inheritance in Python \n",
    "Types of Inheritance depend upon the number of child and parent classes involved. There are several types of inheritance, including:\n",
    "\n",
    "1. Single Inheritance: \\\n",
    "Single inheritance enables a derived class to inherit properties from a single parent class, thus enabling code reusability and the addition of new features to existing code.\n",
    "\n",
    "\n",
    "\n",
    "\n"
   ]
  },
  {
   "cell_type": "code",
   "execution_count": 9,
   "id": "e84df897-bfdb-4d0a-9983-0efeb82a0ae2",
   "metadata": {},
   "outputs": [
    {
     "name": "stdout",
     "output_type": "stream",
     "text": [
      "This function is in parent class.\n",
      "This function is in child class.\n"
     ]
    }
   ],
   "source": [
    "\n",
    "class Parent:\n",
    "\tdef func1(self):\n",
    "\t\tprint(\"This function is in parent class.\")\n",
    "\n",
    "\n",
    "\n",
    "class Child(Parent):\n",
    "\tdef func2(self):\n",
    "\t\tprint(\"This function is in child class.\")\n",
    "\n",
    "\n",
    "object = Child()\n",
    "object.func1()\n",
    "object.func2()\n"
   ]
  },
  {
   "cell_type": "markdown",
   "id": "d74ec04d-1213-4f13-8ccd-d6224c018909",
   "metadata": {},
   "source": [
    "2. Multiple Inheritance:\\\n",
    "When a class can be derived from more than one base class this type of inheritance is called multiple inheritances. In multiple inheritances, all the features of the base classes are inherited into the derived class. "
   ]
  },
  {
   "cell_type": "code",
   "execution_count": 10,
   "id": "666e8319-32ef-41e8-87a2-479e7521fa6a",
   "metadata": {},
   "outputs": [
    {
     "name": "stdout",
     "output_type": "stream",
     "text": [
      "Father : RAM\n",
      "Mother : SITA\n"
     ]
    }
   ],
   "source": [
    "\n",
    "class Mother:\n",
    "\tmothername = \"\"\n",
    "\n",
    "\tdef mother(self):\n",
    "\t\tprint(self.mothername)\n",
    "\n",
    "class Father:\n",
    "\tfathername = \"\"\n",
    "\n",
    "\tdef father(self):\n",
    "\t\tprint(self.fathername)\n",
    "\n",
    "class Son(Mother, Father):\n",
    "\tdef parents(self):\n",
    "\t\tprint(\"Father :\", self.fathername)\n",
    "\t\tprint(\"Mother :\", self.mothername)\n",
    "\n",
    "\n",
    "s1 = Son()\n",
    "s1.fathername = \"RAM\"\n",
    "s1.mothername = \"SITA\"\n",
    "s1.parents()\n"
   ]
  },
  {
   "cell_type": "markdown",
   "id": "c79be9be-ddae-4959-801c-cd7e8743a106",
   "metadata": {},
   "source": [
    "3. Multilevel Inheritance :\\\n",
    "    In multilevel inheritance, features of the base class and the derived class are further inherited into the new derived class. This is similar to a relationship representing a child and a grandfather. "
   ]
  },
  {
   "cell_type": "code",
   "execution_count": 25,
   "id": "700090d8-02a6-480b-b560-e03e3b2b616d",
   "metadata": {},
   "outputs": [
    {
     "name": "stdout",
     "output_type": "stream",
     "text": [
      "Grandfather name : Lal mani\n",
      "Father name : Rampal\n",
      "Son name : Prince\n"
     ]
    }
   ],
   "source": [
    "\n",
    "class Grandfather:\n",
    "\n",
    "\tdef __init__(self, grandfathername):\n",
    "\t\tself.grandfathername = grandfathername\n",
    "\n",
    "class Father(Grandfather):\n",
    "    def __init__(self, fathername, grandfathername):\n",
    "        self.fathername = fathername\n",
    " \n",
    "        \n",
    "        Grandfather.__init__(self, grandfathername)\n",
    "\n",
    "class Son(Father):\n",
    "\tdef __init__(self, sonname, fathername, grandfathername):\n",
    "\t\tself.sonname = sonname\n",
    "\n",
    "\t\t# invoking constructor of Father class\n",
    "\t\tFather.__init__(self, fathername, grandfathername)\n",
    "\n",
    "\tdef print_name(self):\n",
    "\t\tprint('Grandfather name :', self.grandfathername)\n",
    "\t\tprint(\"Father name :\", self.fathername)\n",
    "\t\tprint(\"Son name :\", self.sonname)\n",
    "\n",
    "\n",
    "# Driver code\n",
    "s1 = Son('Prince', 'Rampal', 'Lal mani')\n",
    "s1.print_name()\n"
   ]
  },
  {
   "cell_type": "markdown",
   "id": "d46cc9cf-3bb0-41b3-9276-5209c25cb3c3",
   "metadata": {},
   "source": [
    "4. Hierarchical Inheritance:\\\n",
    "When more than one derived class are created from a single base this type of inheritance is called hierarchical inheritance. In this program, we have a parent (base) class and two child (derived) classes."
   ]
  },
  {
   "cell_type": "code",
   "execution_count": 26,
   "id": "c8a4e02a-c6e2-48cc-b125-d7ddc2174fd3",
   "metadata": {},
   "outputs": [
    {
     "name": "stdout",
     "output_type": "stream",
     "text": [
      "This function is in school.\n",
      "This function is in student 1. \n"
     ]
    }
   ],
   "source": [
    "class School:\n",
    "\tdef func1(self):\n",
    "\t\tprint(\"This function is in school.\")\n",
    "\n",
    "\n",
    "class Student1(School):\n",
    "\tdef func2(self):\n",
    "\t\tprint(\"This function is in student 1. \")\n",
    "\n",
    "\n",
    "class Student2(School):\n",
    "\tdef func3(self):\n",
    "\t\tprint(\"This function is in student 2.\")\n",
    "\n",
    "\n",
    "class Student3(Student1, School):\n",
    "\tdef func4(self):\n",
    "\t\tprint(\"This function is in student 3.\")\n",
    "\n",
    "\n",
    "\n",
    "object = Student3()\n",
    "object.func1()\n",
    "object.func2()\n"
   ]
  }
 ],
 "metadata": {
  "kernelspec": {
   "display_name": "Python 3 (ipykernel)",
   "language": "python",
   "name": "python3"
  },
  "language_info": {
   "codemirror_mode": {
    "name": "ipython",
    "version": 3
   },
   "file_extension": ".py",
   "mimetype": "text/x-python",
   "name": "python",
   "nbconvert_exporter": "python",
   "pygments_lexer": "ipython3",
   "version": "3.10.8"
  }
 },
 "nbformat": 4,
 "nbformat_minor": 5
}
