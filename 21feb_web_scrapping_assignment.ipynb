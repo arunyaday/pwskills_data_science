{
 "cells": [
  {
   "cell_type": "markdown",
   "id": "202ba62f-dc5c-47ee-a585-dfa33d703187",
   "metadata": {},
   "source": [
    "#### Q1. What is Web Scraping? Why is it Used? Give three areas where Web Scraping is used to get data.\n",
    "Ans: Web scraping is a term used to describe the use of a program or algorithm to extract and process large amounts of data from the web. Whether you are a data scientist, engineer, or anybody who analyzes large amounts of datasets, the ability to scrape data from the web is a useful skill to have. Let's consider we find data from the web, and there is no direct way to download it, web scraping using Python is a skill you can use to extract the data into a useful form that can be imported. After getting data we can work on our analysis.\n",
    "\n",
    "Areas where web scraping is commonly used:\n",
    "\n",
    "* E-commerce: Web scraping is widely used in the e-commerce industry to collect data about products, prices, and reviews from different websites. This helps retailers to keep track of their competitors' prices, monitor customer reviews, and analyze market trends to make better business decisions.\n",
    "* Social media: Web scraping is also used to collect data from social media platforms, such as Twitter and Facebook, to monitor public sentiment about a particular topic, brand, or event. This data can be used for sentiment analysis, market research, and to inform social media marketing campaigns.\n",
    "* Research: Web scraping is used in academic and scientific research to collect data from various sources on the web. This data can be used to conduct surveys, analyze trends, and support research projects in various fields, such as social sciences, economics, and public health."
   ]
  },
  {
   "cell_type": "code",
   "execution_count": null,
   "id": "4fbcee52-a273-4b84-8876-256cf422c958",
   "metadata": {},
   "outputs": [],
   "source": []
  },
  {
   "cell_type": "markdown",
   "id": "9018c01e-2862-480c-b902-656a0f1850a4",
   "metadata": {},
   "source": [
    "#### Q2. What are the different methods used for Web Scraping?\n",
    "Ans: Methods used for Web Scraping\n",
    "* HTML Parsing: HTML parsing involves the use of JavaScript to target a linear or nested HTML page. It is a powerful and fast method for extracting text and links (e.g. a nested link or email address), scraping screens and pulling resources.\n",
    "\n",
    "* DOM Parsing: The Document Object Model (DOM) defines the structure, style and content of an XML file. Scrapers typically use a DOM parser to view the structure of web pages in depth. DOM parsers can be used to access the nodes that contain information and scrape the web page with tools like XPath. For dynamically generated content, scrapers can embed web browsers like Firefox and Internet Explorer to extract whole web pages (or parts of them).\n",
    "\n",
    "* Vertical Aggregation: Companies that use extensive computing power can create vertical aggregation platforms to target particular verticals. These are data harvesting platforms that can be run on the cloud and are used to automatically generate and monitor bots for certain verticals with minimal human intervention. Bots are generated according to the information required to each vertical, and their efficiency is determined by the quality of data they extract.\n",
    "\n",
    "* XPath: XPath is short for XML Path Language, which is a query language for XML documents. XML documents have tree-like structures, so scrapers can use XPath to navigate through them by selecting nodes according to various parameters. A scraper may combine DOM parsing with XPath to extract whole web pages and publish them on a destination site.\n",
    "\n",
    "* Google Sheets: Google Sheets is a popular tool for data scraping. Scarpers can use the IMPORTXML function in Sheets to scrape from a website, which is useful if they want to extract a specific pattern or data from the website. This command also makes it possible to check if a website can be scraped or is protected.\n"
   ]
  },
  {
   "cell_type": "code",
   "execution_count": null,
   "id": "55a70e5e-3f77-464a-ae3e-688881a466fb",
   "metadata": {},
   "outputs": [],
   "source": []
  },
  {
   "cell_type": "markdown",
   "id": "488f8c36-d721-49b9-9f65-9ea209561c77",
   "metadata": {},
   "source": [
    "#### Q3. What is Beautiful Soup? Why is it used?\n",
    "Ans:\n",
    "Beautiful Soup is a Python library for getting data out of HTML, XML, and other markup languages. lets consider we found some webpages that display data relevant to your research, such as date or address information, but that do not provide any way of downloading the data directly. Beautiful Soup helps you pull particular content from a webpage, remove the HTML markup, and save the information. It is a tool for web scraping that helps you clean up and parse the documents you have pulled down from the web.\n",
    "\n",
    "Advantage\n",
    "* Easy parsing: Beautiful Soup provides a simple and intuitive interface for parsing HTML and XML documents. It can handle nested tags, malformed HTML, and other common issues that can arise when scraping web pages.\n",
    "\n",
    "* Powerful search capabilities: Beautiful Soup allows you to search for specific tags, attributes, and text content within a document, making it easy to extract the data you need.\n",
    "\n",
    "* Integration with other libraries: Beautiful Soup can be easily integrated with other Python libraries, such as Requests for making HTTP requests and Pandas for data analysis.\n",
    "\n",
    "* Support for different parsers: Beautiful Soup supports different parsers, including the built-in Python parser, lxml, and html5lib. This makes it flexible and adaptable to different scraping tasks.\n",
    "\n",
    "\n"
   ]
  },
  {
   "cell_type": "code",
   "execution_count": null,
   "id": "baf27c7d-4e43-4645-88d5-2bffb32665f1",
   "metadata": {},
   "outputs": [],
   "source": []
  },
  {
   "cell_type": "markdown",
   "id": "7cc4c3be-1cb8-4ed4-8e14-6521b4779427",
   "metadata": {},
   "source": [
    "#### Q4. Why is flask used in this Web Scraping project?\n",
    "Ans: Flask is a popular Python web framework that is often used for building web applications and APIs. It is lightweight, flexible, and easy to use, making it a good choice for web scraping projects that require a simple web interface for interacting with the scraped data.\n",
    "\n",
    "In a web scraping project, Flask can be used to build a simple web application that allows users to enter search parameters or URLs, and then display the scraped data in a user-friendly format. Flask can also handle routing, templating, and other web-related tasks, making it easy to build a functional and responsive web interface for your scraping project.\n",
    "\n",
    "Reason why flask used in this Web Scraping:\n",
    "\n",
    "Easy to use: Flask is a simple and intuitive framework, making it easy for developers to get started and build web applications quickly.\n",
    "\n",
    "Flexible: Flask is a flexible framework that can be customized and extended to meet the specific needs of your web scraping project.\n",
    "\n",
    "Lightweight: Flask is a lightweight framework that is easy to deploy and can run on small servers or cloud-based services.\n",
    "\n",
    "Integrates well with other Python libraries: Flask can be easily integrated with other Python libraries, such as Beautiful Soup or Scrapy, making it a good choice for web scraping projects that require data extraction from multiple sources."
   ]
  },
  {
   "cell_type": "code",
   "execution_count": null,
   "id": "b23e731d-94ca-44d8-a2c2-8cb1f69a31ea",
   "metadata": {},
   "outputs": [],
   "source": []
  },
  {
   "cell_type": "markdown",
   "id": "5fde4a16-9762-49b1-8aba-5c7418aa3454",
   "metadata": {},
   "source": [
    "#### Q5. Write the names of AWS services used in this project. Also, explain the use of each service.\n",
    "Ans: \n",
    "\n",
    "**CodePipeline:** AWS CodePipeline is a fully managed continuous delivery service that helps us automate our software release process. With CodePipeline, we can build, test, and deploy our code every time there is a change, based on the release model of our choice.\n",
    "\n",
    "CodePipeline allows us to create a pipeline that consists of a series of stages, each of which represents a step in our software release process. Each stage can have one or more actions, such as building our code, running tests, and deploying our code to a production environment.\n",
    "\n",
    "We can integrate CodePipeline with other AWS services, such as AWS CodeBuild and AWS CodeDeploy, to automate our entire software release process. We can also use CodePipeline with third-party tools and services, such as Jenkins and GitHub, to customize our pipeline and incorporate our existing workflows.\n",
    "\n",
    "By using CodePipeline, we can increase the speed and reliability of our software release process, reduce manual errors, and improve collaboration between development and operations teams.\n",
    "\n",
    "**Elastic Beanstalk:** AWS Elastic Beanstalk is a fully managed service that makes it easy for us to deploy, manage, and scale our web applications and services. Elastic Beanstalk supports a wide range of popular programming languages, such as Java, .NET, Node.js, Python, Ruby, PHP, and Go.\n",
    "\n",
    "With Elastic Beanstalk, we can simply upload our code and Elastic Beanstalk automatically handles the deployment, capacity provisioning, load balancing, and automatic scaling of our application. Elastic Beanstalk also provides us with a range of tools for monitoring and managing our application, including dashboards, logs, and alerts.\n",
    "\n",
    "We can customize the environment that Elastic Beanstalk creates for our application, including the instance type, operating system, and database configuration. We can also integrate our application with other AWS services, such as Amazon RDS for databases, Amazon S3 for storage, and Amazon CloudWatch for monitoring.\n",
    "\n",
    "Elastic Beanstalk offers us a range of deployment options, including rolling updates, blue/green deployments, and canary deployments. This enables us to choose the deployment method that best suits our application and business needs."
   ]
  }
 ],
 "metadata": {
  "kernelspec": {
   "display_name": "Python 3 (ipykernel)",
   "language": "python",
   "name": "python3"
  },
  "language_info": {
   "codemirror_mode": {
    "name": "ipython",
    "version": 3
   },
   "file_extension": ".py",
   "mimetype": "text/x-python",
   "name": "python",
   "nbconvert_exporter": "python",
   "pygments_lexer": "ipython3",
   "version": "3.10.8"
  }
 },
 "nbformat": 4,
 "nbformat_minor": 5
}
