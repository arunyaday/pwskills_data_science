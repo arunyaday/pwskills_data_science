{
 "cells": [
  {
   "cell_type": "markdown",
   "id": "61eccc5c-7ad2-42e3-8e26-a6dcdf94cb98",
   "metadata": {},
   "source": [
    "#### Q1. Create a function which will take a list as an argument and return the product of all the numbers after creating a flat list.\n",
    "Use the below-given list as an argument for your function.\\\n",
    "list1 = [1,2,3,4, [44,55,66, True], False, (34,56,78,89,34), {1,2,3,3,2,1}, {1:34, \"key2\": [55, 67, 78, 89], 4: (45,\n",
    "22, 61, 34)}, [56, 'data science'], 'Machine Learning']\\\n",
    "Note: you must extract numeric keys and values of the dictionary also.\n",
    "\n"
   ]
  },
  {
   "cell_type": "code",
   "execution_count": 20,
   "id": "15e2a691-a5c5-4699-bd67-e88f5aca3564",
   "metadata": {},
   "outputs": [
    {
     "name": "stdout",
     "output_type": "stream",
     "text": [
      "Flat List:  [1, 2, 3, 4, 44, 55, 66, 34, 56, 78, 89, 34, 1, 2, 3, 1, 4, 34, 55, 67, 78, 89, 45, 22, 61, 34, 56]\n",
      "Product of all the numbers:  231543862983276786814695109558272000\n"
     ]
    }
   ],
   "source": [
    "def flat_func(given_collection):\n",
    "    flat_list=[]\n",
    "    for element in given_collection:\n",
    "        if type(element)==int or type(element)==float:\n",
    "            flat_list.append(element)\n",
    "        elif type(element)==list or type(element)==set or type(element)==tuple:\n",
    "            flat_list.extend(flat_func(element))\n",
    "        elif type(element)==dict:\n",
    "            for nested_element in element.keys():\n",
    "                if type(nested_element)==int or type(nested_element)==float:\n",
    "                    flat_list.append(nested_element)\n",
    "            for nested_element in element.values():\n",
    "                if type(nested_element)==int or type(nested_element)==float:\n",
    "                    flat_list.append(nested_element)\n",
    "                elif type(nested_element)==list or type(nested_element)==tuple or type(nested_element)==set:\n",
    "                    flat_list.extend(flat_func(nested_element))\n",
    "            \n",
    "    return flat_list\n",
    "\n",
    "given_list = [1,2,3,4,[44,55,66,True],False,(34,56,78,89,34),{1,2,3,3,2,1},{1:34,'key2':[55,67,78,89],4:(45,22,61,34)},[56,'data science'],'Machine Learning']\n",
    "\n",
    "flat_list=flat_func(given_list)\n",
    "\n",
    "product = 1\n",
    "for each_element in flat_list:\n",
    "    product = result*each_element\n",
    "\n",
    "print('Flat List: ', flat_list)\n",
    "print('Product of all the numbers: ',product)"
   ]
  },
  {
   "cell_type": "code",
   "execution_count": null,
   "id": "5069e5a4-6d16-41ad-86c2-3068701636d3",
   "metadata": {},
   "outputs": [],
   "source": []
  },
  {
   "cell_type": "code",
   "execution_count": null,
   "id": "1f4b8cf5-3b4e-449d-8a12-ad702387b91b",
   "metadata": {},
   "outputs": [],
   "source": [
    "Q2. Write a python program for encrypting a message sent to you by your friend. The logic of encryption\n",
    "should be such that, for a the output should be z. For b, the output should be y. For c, the output should\n",
    "be x respectively. Also, the whitespace should be replaced with a dollar sign. Keep the punctuation\n",
    "marks unchanged.\n",
    "Input Sentence: I want to become a Data Scientist.\n",
    "Encrypt the above input sentence using the program you just created."
   ]
  },
  {
   "cell_type": "code",
   "execution_count": 21,
   "id": "aee974e2-4729-4d26-9193-d163736d35b3",
   "metadata": {},
   "outputs": [
    {
     "name": "stdin",
     "output_type": "stream",
     "text": [
      " I want to become a Data Scientist.\n"
     ]
    },
    {
     "name": "stdout",
     "output_type": "stream",
     "text": [
      "Encrypted message: I$dzmg$gl$yvxlnv$z$Dzgz$Sxrvmgrhg.\n"
     ]
    }
   ],
   "source": [
    "def encrypt(message):\n",
    "    # Map each letter to its encrypted form\n",
    "    mapping = {'a': 'z', 'b': 'y', 'c': 'x', 'd': 'w', 'e': 'v', 'f': 'u', 'g': 't', 'h': 's', 'i': 'r', 'j': 'q',\n",
    "               'k': 'p', 'l': 'o', 'm': 'n', 'n': 'm', 'o': 'l', 'p': 'k', 'q': 'j', 'r': 'i', 's': 'h', 't': 'g',\n",
    "               'u': 'f', 'v': 'e', 'w': 'd', 'x': 'c', 'y': 'b', 'z': 'a', ' ': '$'}\n",
    "\n",
    "    encrypted_message = \"\"\n",
    "    for char in message:\n",
    "        if char in mapping:\n",
    "            encrypted_message += mapping[char]\n",
    "        else:\n",
    "            encrypted_message += char\n",
    "\n",
    "    return encrypted_message\n",
    "\n",
    "message = input()\n",
    "encrypted_message = encrypt(message)\n",
    "print(\"Encrypted message:\", encrypted_message)"
   ]
  },
  {
   "cell_type": "code",
   "execution_count": 22,
   "id": "4805c4ae-d0ca-4b38-94b5-2f979dac4a2f",
   "metadata": {},
   "outputs": [
    {
     "name": "stdin",
     "output_type": "stream",
     "text": [
      "Enter your message: I want to become a Data Scientist.\n"
     ]
    },
    {
     "name": "stdout",
     "output_type": "stream",
     "text": [
      "Encrypted message: r$dzmg$gl$yvxlnv$z$wzgz$hxrvmgrhg.\n"
     ]
    }
   ],
   "source": [
    "import string\n",
    "ascii_alph = string.ascii_lowercase\n",
    "mapping = dict(zip(ascii_alph, ascii_alph[::-1]))\n",
    "mapping[' ']='$'\n",
    "#print(mapping)\n",
    "\n",
    "\n",
    "def encrypted(message):\n",
    "    encrypted_message = \"\"\n",
    "    for char in message.lower():\n",
    "        if char in mapping:\n",
    "            encrypted_message += mapping[char]\n",
    "        else: \n",
    "             encrypted_message += char\n",
    "    return encrypted_message\n",
    "message = input('Enter your message:') \n",
    "#print(message)\n",
    "print(\"Encrypted message:\",encrypted(message))"
   ]
  }
 ],
 "metadata": {
  "kernelspec": {
   "display_name": "Python 3 (ipykernel)",
   "language": "python",
   "name": "python3"
  },
  "language_info": {
   "codemirror_mode": {
    "name": "ipython",
    "version": 3
   },
   "file_extension": ".py",
   "mimetype": "text/x-python",
   "name": "python",
   "nbconvert_exporter": "python",
   "pygments_lexer": "ipython3",
   "version": "3.10.8"
  }
 },
 "nbformat": 4,
 "nbformat_minor": 5
}
