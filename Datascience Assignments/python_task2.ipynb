{
 "cells": [
  {
   "cell_type": "markdown",
   "id": "4b554a0e-b9dc-4f78-a4fa-a8dd328b9e9a",
   "metadata": {},
   "source": [
    "#### Q1. You are writing code for a company. The requirement of the company is that you create a python function that will check whether the password entered by the user is correct or not.\n",
    "The function should take the password as input and return the string “Valid Password” if the entered password follows the\n",
    "below-given password guidelines else it should return “Invalid Password”.\n",
    "Note:\n",
    "1. The Password should contain at least two uppercase letters and at least two lowercase letters.\n",
    "2. The Password should contain at least a number and three special characters.\n",
    "3. The length of the password should be 10 characters long.\n"
   ]
  },
  {
   "cell_type": "code",
   "execution_count": 28,
   "id": "d57d1cfa-1e63-4eac-ab82-fc576cdf5512",
   "metadata": {},
   "outputs": [
    {
     "name": "stdin",
     "output_type": "stream",
     "text": [
      "Enter your passord: JHON5628@&^%hjsgb5876\n"
     ]
    },
    {
     "data": {
      "text/plain": [
       "'Valid Password'"
      ]
     },
     "execution_count": 28,
     "metadata": {},
     "output_type": "execute_result"
    }
   ],
   "source": [
    "from string import punctuation\n",
    "\n",
    "def checkPass(password):\n",
    "    uppercase = 0\n",
    "    lowercase = 0\n",
    "    special_char = 0\n",
    "    number = 0\n",
    "    valid = False\n",
    "    if len(password)>=10:\n",
    "        for i in password:\n",
    "            if i.isupper():\n",
    "                uppercase+=1\n",
    "            if i.islower():\n",
    "                lowercase+=1\n",
    "            if i in punctuation:\n",
    "                special_char+=1\n",
    "            if i.isnumeric():\n",
    "                number+=1\n",
    "            \n",
    "                \n",
    "        if uppercase>=2 and lowercase>=2 and special_char>=3 and number>=1:\n",
    "            valid=True\n",
    "        else:\n",
    "            valid= False\n",
    "    if valid:\n",
    "        return \"Valid Password\" \n",
    "    else:\n",
    "        return \"Invalid Password\" \n",
    "    \n",
    "\n",
    "password=input('Enter your passord:')\n",
    "checkPass(password)"
   ]
  },
  {
   "cell_type": "markdown",
   "id": "0d2784af-bce5-40b8-86ff-0a3767c82ef9",
   "metadata": {},
   "source": [
    "\n",
    "Q2. Solve the below-given questions using at least one of the following:\n",
    "1. Lambda function\n",
    "2. Filter function\n",
    "3. Map function\n",
    "4. List Comprehension\n",
    "* Check if the string starts with a particular letter\n",
    "* Check if the string is numeric\n",
    "* Sort a list of tuples having fruit names and their quantity. [(\"mango\",99),(\"orange\",80), (\"grapes\", 1000)]\n",
    "* Find the squares of numbers from 1 to 10\n",
    "* Find the cube root of numbers from 1 to 10\n",
    "* Check if a given number is even\n",
    "* Filter odd numbers from the given list.\n",
    "[1,2,3,4,5,6,7,8,9,10]\n",
    "* Sort a list of integers into positive and negative integers lists.\n",
    "[1,2,3,4,5,6,-1,-2,-3,-4,-5,0]"
   ]
  },
  {
   "cell_type": "code",
   "execution_count": 39,
   "id": "b7e2a0ba-3c0d-4096-82ab-c4780d403eda",
   "metadata": {},
   "outputs": [
    {
     "data": {
      "text/plain": [
       "'Yes, is start with I'"
      ]
     },
     "execution_count": 39,
     "metadata": {},
     "output_type": "execute_result"
    }
   ],
   "source": [
    "# Check if the string starts with a particular letter\n",
    "st='I want to become a Data Scientist.'\n",
    "\n",
    "check_str_start_with = lambda string, start_letter: f\"Yes, is start with {start_letter}\" if string.startswith(start_letter) else f\"No, its not start with {start_letter}\"\n",
    "check_str_start_with(st, 'I')\n"
   ]
  },
  {
   "cell_type": "code",
   "execution_count": 47,
   "id": "b8b89019-a683-49d8-a652-68a67b83e3b7",
   "metadata": {},
   "outputs": [
    {
     "name": "stdout",
     "output_type": "stream",
     "text": [
      "string is not numeric\n",
      "string is numeric\n"
     ]
    }
   ],
   "source": [
    "#Check if the string is numeric\n",
    "st='I want to become a Data Scientist.'\n",
    "st2='567895315'\n",
    "check_string_numeric_lambda = lambda string: 'string is numeric' if string.isdigit() else 'string is not numeric'\n",
    "print(check_string_numeric_lambda(st))\n",
    "print(check_string_numeric_lambda(st2))"
   ]
  },
  {
   "cell_type": "code",
   "execution_count": 55,
   "id": "10c87164-cd01-491c-8af5-d42d2a8aa017",
   "metadata": {},
   "outputs": [
    {
     "name": "stdout",
     "output_type": "stream",
     "text": [
      "[('orange', 80), ('mango', 99), ('grapes', 1000)]\n",
      "[('orange', 80), ('mango', 99), ('grapes', 1000)]\n"
     ]
    }
   ],
   "source": [
    "#Sort a list of tuples having fruit names and their quantity.\n",
    "fruit=[(\"mango\",99),(\"orange\",80), (\"grapes\", 1000)]\n",
    "# using lambda function\n",
    "sorted_fruits = sorted(fruit, key = lambda x : x[1])\n",
    "print(sorted_fruits)\n",
    "\n",
    "# using List Comprehension \n",
    "sorted_fruits=[fruit for fruit in sorted(fruit, key = lambda x : x[1])]\n",
    "print(sorted_fruits)\n"
   ]
  },
  {
   "cell_type": "code",
   "execution_count": 59,
   "id": "57c6ab2f-2712-46a9-88d1-639043778ebf",
   "metadata": {},
   "outputs": [
    {
     "name": "stdout",
     "output_type": "stream",
     "text": [
      "[1, 2, 3, 4, 5, 6, 7, 8, 9, 10]\n",
      "[1, 4, 9, 16, 25, 36, 49, 64, 81, 100]\n"
     ]
    }
   ],
   "source": [
    "#Find the squares of numbers from 1 to 10\n",
    "\n",
    "nums=[i for i in range(1, 11)]\n",
    "print(nums)\n",
    "square_nums=list((map(lambda x: x**2,nums)))\n",
    "print(square_nums)"
   ]
  },
  {
   "cell_type": "code",
   "execution_count": 2,
   "id": "c9fda596-12a6-405b-8c6d-c4e72c96c6e7",
   "metadata": {},
   "outputs": [
    {
     "name": "stdout",
     "output_type": "stream",
     "text": [
      "[1, 2, 3, 4, 5, 6, 7, 8, 9, 10]\n",
      "[1.0, 1.26, 1.44, 1.59, 1.71, 1.82, 1.91, 2.0, 2.08, 2.15]\n"
     ]
    }
   ],
   "source": [
    "# Find the cube root of numbers from 1 to 10\n",
    "nums=[i for i in range(1, 11)]  #round(5.76543, 2)\n",
    "print(nums)\n",
    "square_nums=list(map(lambda square_nums: round(square_nums**(1/3),2),nums))\n",
    "print(square_nums)\n"
   ]
  },
  {
   "cell_type": "code",
   "execution_count": 8,
   "id": "1345a51e-7132-4c8e-a3eb-b650e99e294e",
   "metadata": {},
   "outputs": [
    {
     "name": "stdout",
     "output_type": "stream",
     "text": [
      "15 number is not even.\n",
      "40 number is even.\n"
     ]
    }
   ],
   "source": [
    "# Check if a given number is even\n",
    "\n",
    "check_even_nums = lambda num: f\"{num} number is even.\" if num%2==0 else f\"{num} number is not even.\"\n",
    "print(check_even_nums(15))\n",
    "print(check_even_nums(40))"
   ]
  },
  {
   "cell_type": "code",
   "execution_count": 13,
   "id": "1180bf42-2b09-43f1-bed2-2676491f7797",
   "metadata": {},
   "outputs": [
    {
     "name": "stdout",
     "output_type": "stream",
     "text": [
      "odd numbers: [1, 3, 5, 7, 9]\n"
     ]
    }
   ],
   "source": [
    "#Filter odd numbers from the given list. [1,2,3,4,5,6,7,8,9,10]\n",
    "lst= [1,2,3,4,5,6,7,8,9,10]\n",
    "odd_nums = list(filter(lambda x: x%2!=0 , lst))\n",
    "print(\"odd numbers:\",odd_nums)"
   ]
  },
  {
   "cell_type": "code",
   "execution_count": 23,
   "id": "5f3c73fd-16d7-4c52-81a1-1a4af1f0259a",
   "metadata": {},
   "outputs": [
    {
     "name": "stdout",
     "output_type": "stream",
     "text": [
      "Postive numbers: [1, 2, 3, 4, 5, 6]\n",
      "Negative numbers: [-1, -2, -3, -4, -5]\n",
      "Using List Comprehension\n",
      "Postive numbers: [1, 2, 3, 4, 5, 6]\n",
      "Negative numbers: [-1, -2, -3, -4, -5]\n"
     ]
    }
   ],
   "source": [
    "#Sort a list of integers into positive and negative integers lists.\n",
    "lst = [1,2,3,4,5,6,-1,-2,-3,-4,-5,0]\n",
    "postive_nums = list(filter(lambda x: x>0 , lst))\n",
    "print(\"Postive numbers:\",postive_nums)\n",
    "negative_nums = list(filter(lambda x: x<0 , lst))\n",
    "print(\"Negative numbers:\",negative_nums)\n",
    "\n",
    "print(\"Using List Comprehension\")\n",
    "\n",
    "# Using List Comprehension\n",
    "positive_numbers = [num for num in lst if num > 0]\n",
    "negative_numbers = [num for num in lst if num < 0]\n",
    "print(\"Postive numbers:\",postive_nums)\n",
    "print(\"Negative numbers:\",negative_nums)"
   ]
  }
 ],
 "metadata": {
  "kernelspec": {
   "display_name": "Python 3 (ipykernel)",
   "language": "python",
   "name": "python3"
  },
  "language_info": {
   "codemirror_mode": {
    "name": "ipython",
    "version": 3
   },
   "file_extension": ".py",
   "mimetype": "text/x-python",
   "name": "python",
   "nbconvert_exporter": "python",
   "pygments_lexer": "ipython3",
   "version": "3.10.8"
  }
 },
 "nbformat": 4,
 "nbformat_minor": 5
}
