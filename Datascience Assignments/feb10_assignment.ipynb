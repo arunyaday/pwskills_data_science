{
 "cells": [
  {
   "cell_type": "markdown",
   "id": "6606e973-7ff6-43d0-9382-97c8a39fceca",
   "metadata": {},
   "source": [
    "#### Q1. Which function is used to open a file? What are the different modes of opening a file? Explain each mode of file opening.\n",
    "Ans: In Python, we use the open() function to open files.\\\n",
    "Different Modes to Open a File in Python\n",
    "* r\t--Open a file for reading. (default)\n",
    "* w\t--Open a file for writing. Creates a new file if it does not exist or truncates the file if it exists.\n",
    "* x\t--Open a file for exclusive creation. If the file already exists, the operation fails.\n",
    "* a\t--Open a file for appending at the end of the file without truncating it. Creates a new file if it does not exist.\n",
    "* t\t--Open in text mode. (default)\n",
    "* b\t--Open in binary mode.\n",
    "* '+' --Open a file for updating (reading and writing)\n",
    "\n"
   ]
  },
  {
   "cell_type": "code",
   "execution_count": null,
   "id": "845f49a2-75e9-44e7-b043-86f160f8cfe2",
   "metadata": {},
   "outputs": [],
   "source": []
  },
  {
   "cell_type": "markdown",
   "id": "80af3861-358e-400e-b2d0-d69441842814",
   "metadata": {},
   "source": [
    "#### Q2. Why close() function is used? Why is it important to close a file?\n",
    "Ans: The close() function closes an open file.\\\n",
    "Reson: Because files are limited resources managed by the operating system, making sure files are closed after use will protect against hard-to-debug issues like running out of file handles or experiencing corrupted data. The best defense is always to open files with a context manager.\\\n",
    "You should always close your files, in some cases, due to buffering, changes made to a file may not show until you close the file.\n"
   ]
  },
  {
   "cell_type": "code",
   "execution_count": null,
   "id": "2051cd22-7802-4b54-bf54-eaae7e303b1d",
   "metadata": {},
   "outputs": [],
   "source": []
  },
  {
   "cell_type": "markdown",
   "id": "7a5a6986-be2f-4069-9d6f-6a4e3c0513f8",
   "metadata": {},
   "source": [
    "#### Q3. Write a python program to create a text file. Write ‘I want to become a Data Scientist’ in that file. Then close the file. Open this file and read the content of the file.\n",
    "Ans: "
   ]
  },
  {
   "cell_type": "code",
   "execution_count": 13,
   "id": "c646e1b4-64a9-43d2-a34e-0b2f50cceae1",
   "metadata": {},
   "outputs": [
    {
     "name": "stdout",
     "output_type": "stream",
     "text": [
      "I want to become a Data Scientist.\n"
     ]
    }
   ],
   "source": [
    "with open('test.txt', 'w') as f:\n",
    "    f.write('I want to become a Data Scientist.')\n",
    "    f.close()\n",
    "    \n",
    "with open('test.txt', 'r') as fr:\n",
    "    read_content=fr.read()\n",
    "    print(read_content)\n",
    "    fr.close()"
   ]
  },
  {
   "cell_type": "code",
   "execution_count": null,
   "id": "f319eda1-4a09-46d0-934e-e9dd744253e3",
   "metadata": {},
   "outputs": [],
   "source": []
  },
  {
   "cell_type": "markdown",
   "id": "d208c897-1c56-47d3-a9ce-04045591af7e",
   "metadata": {},
   "source": [
    "#### Q4. Explain the following with python code: read(), readline() and readlines().\n",
    "Ans: \n",
    "* Read ( ): Returns the read bytes in the form of a string. Reads n bytes; if n is not specified, then reads the entire file.\n"
   ]
  },
  {
   "cell_type": "code",
   "execution_count": 12,
   "id": "24a5edfa-3f32-4026-aebf-e9e0cfac0570",
   "metadata": {},
   "outputs": [
    {
     "name": "stdout",
     "output_type": "stream",
     "text": [
      "This is 1st line\n",
      "This is 2nd line\n",
      "This is 3rd line\n",
      "This is 4th line\n",
      "This is 5th line\n"
     ]
    }
   ],
   "source": [
    "A = [\"This is 1st line\\nThis is 2nd line\\nThis is 3rd line\\nThis is 4th line\\nThis is 5th line\"]\n",
    "\n",
    "# Writing on our file:  \n",
    "with open('file1.txt', 'w') as f:\n",
    "    f.writelines(A)\n",
    "    f.close()\n",
    "  \n",
    "# Using readlines() function\n",
    "f = open('file1.txt', 'r')\n",
    "lines = f.read()\n",
    "print(lines)\n",
    "f.close()"
   ]
  },
  {
   "cell_type": "markdown",
   "id": "424da1a4-ce12-44c4-8612-6d40a90223e5",
   "metadata": {},
   "source": [
    "* Readline ( ): Reads a line of the file and returns in the form of a string. For specified n, reads at most n bytes. readline ( ) function does not read more than one line at a time; even if n exceeds, it reads only one line. Readline ( ) function reads a line of the file and returns it in the string. It takes an integer value n as a parameter to read the number of characters read at a time. Readline ( ) method is very efficient in reading the data from a very large file because it fetches the data line by line and returns and prints on the screen. Readline ( ) returns the next line of the file, which contains a newline character in the end. Also, if the end of the file is reached, it will return an empty string."
   ]
  },
  {
   "cell_type": "code",
   "execution_count": 8,
   "id": "a87f5de5-1168-43a4-a872-5ef72cf75861",
   "metadata": {},
   "outputs": [
    {
     "name": "stdout",
     "output_type": "stream",
     "text": [
      "This is 1st line\n",
      "\n"
     ]
    }
   ],
   "source": [
    "A = [\"This is 1st line\\nThis is 2nd line\\nThis is 3rd line\\nThis is 4th line\\nThis is 5th line\"]\n",
    "\n",
    "# Writing on our file:  \n",
    "with open('file1.txt', 'w') as f:\n",
    "    f.writelines(A)\n",
    "    f.close()\n",
    "  \n",
    "# Using readlines() function\n",
    "f = open('file1.txt', 'r')\n",
    "lines = f.readline()\n",
    "print(lines)\n",
    "f.close()"
   ]
  },
  {
   "cell_type": "markdown",
   "id": "1d40f01d-fba7-433d-b630-b03cebce763e",
   "metadata": {},
   "source": [
    "* readlines ( ): Reads all the lines and returns them as a string element in a list.Readlines ( ) is used to read all the lines at a single go and then return them as a string element in a list. This function can be used for small files, as it reads the whole file content to the memory, then splits it into separate lines. Using the strip () function, we can iterate over the list and strip the newline ' \\n ' character using the strip ( ) function.\n"
   ]
  },
  {
   "cell_type": "code",
   "execution_count": 10,
   "id": "6bf01c16-3005-40ca-ac82-ab5f13e0ae1b",
   "metadata": {},
   "outputs": [
    {
     "name": "stdout",
     "output_type": "stream",
     "text": [
      "1: I\n",
      "2: love\n",
      "3: Python\n"
     ]
    }
   ],
   "source": [
    "\n",
    "A = [\"I\\n\", \"love\\n\", \"Python\\n\"]\n",
    "\n",
    "# Writing on our file:  \n",
    "f = open('file1.txt', 'w')\n",
    "f.writelines(A)\n",
    "f.close()\n",
    "  \n",
    "# Using readlines() function\n",
    "f = open('file1.txt', 'r')\n",
    "lines = f.readlines()\n",
    "  \n",
    "number_of_lines = 0\n",
    "# Prints lines after a newline\n",
    "for line in lines:\n",
    "    number_of_lines += 1\n",
    "    print(\"{}: {}\".format(number_of_lines, line.strip()))\n"
   ]
  },
  {
   "cell_type": "code",
   "execution_count": null,
   "id": "8a013ce7-683b-4da8-8129-b188c6cbe0ff",
   "metadata": {},
   "outputs": [],
   "source": []
  },
  {
   "cell_type": "markdown",
   "id": "d6773f29-f360-46ff-97e2-39795c031d55",
   "metadata": {},
   "source": [
    "#### Q5. Explain why with statement is used with open(). What is the advantage of using with statement and open() together?\n",
    "Ans: In Python, with statement is used in exception handling to make the code cleaner and much more readable. It simplifies the management of common resources like file streams.\n",
    "\n",
    "Supporting with statement in your objects will ensure that you never leave any resource open. To use with statement in user defined objects you only need to add the methods __enter__() and __exit__() in the object methods. Consider the following example for further clarification.\n",
    "\n",
    "The main advantage of using with statement and open() together is that it helps avoid common errors that can occur when working with files, such as forgetting to close a file after opening it or not handling exceptions properly. By using the with statement, you can ensure that the file is closed properly, even if an exception is raised during the execution of the block of code.\n",
    "\n",
    "In summary, using with statement and open() together provides a cleaner and safer way to work with files in Python, ensuring that files are properly opened and closed and making the code easier to read and maintain.\n"
   ]
  },
  {
   "cell_type": "code",
   "execution_count": 17,
   "id": "cdd03516-6345-4752-b420-a65f469ef1b0",
   "metadata": {},
   "outputs": [
    {
     "name": "stdout",
     "output_type": "stream",
     "text": [
      "I want to become a Data Scientist.\n"
     ]
    }
   ],
   "source": [
    "with open('test.txt', 'r') as file:\n",
    "    contents = file.read()\n",
    "    print(contents)\n"
   ]
  },
  {
   "cell_type": "code",
   "execution_count": null,
   "id": "3d7f4ff1-eadb-4629-94a5-bf073a613040",
   "metadata": {},
   "outputs": [],
   "source": []
  },
  {
   "cell_type": "markdown",
   "id": "f94a7b51-85c1-4ad1-a163-1c12591ef371",
   "metadata": {},
   "source": [
    "#### Q6. Explain the write() and writelines() functions. Give a suitable example.\n",
    "Ans: In Python, the write() and writelines() functions are used to write data to a file.\n",
    "\n",
    "write() function ---The write() function is used to write a string to a file. It takes a single argument, which is the string to be written to the file. Here's an example:\n"
   ]
  },
  {
   "cell_type": "code",
   "execution_count": 20,
   "id": "4ad78567-68bf-43d5-b8bb-34897dc91e48",
   "metadata": {},
   "outputs": [],
   "source": [
    "# Open a file for writing\n",
    "file = open('example.txt', 'w')\n",
    "\n",
    "# Write a string to the file\n",
    "file.write('I want to become a Data Scientist.\\n')\n",
    "\n",
    "# Close the file\n",
    "file.close()\n"
   ]
  },
  {
   "cell_type": "markdown",
   "id": "f7379f19-54b6-45e7-851c-e658b1a450af",
   "metadata": {},
   "source": [
    "writelines() function ---- The writelines() function is used to write a list of strings to a file. It takes a single argument, which is a list of strings to be written to the file. Here's an example:"
   ]
  },
  {
   "cell_type": "code",
   "execution_count": 19,
   "id": "d77cf877-f28e-4f5b-8e91-fb9ca328ccc8",
   "metadata": {},
   "outputs": [],
   "source": [
    "# Open a file for writing\n",
    "file = open('example.txt', 'w')\n",
    "\n",
    "# Write a list of strings to the file\n",
    "lines =[\"This is 1st line\\nThis is 2nd line\\nThis is 3rd line\\nThis is 4th line\\nThis is 5th line\"]\n",
    "file.writelines(lines)\n",
    "\n",
    "# Close the file\n",
    "file.close()"
   ]
  }
 ],
 "metadata": {
  "kernelspec": {
   "display_name": "Python 3 (ipykernel)",
   "language": "python",
   "name": "python3"
  },
  "language_info": {
   "codemirror_mode": {
    "name": "ipython",
    "version": 3
   },
   "file_extension": ".py",
   "mimetype": "text/x-python",
   "name": "python",
   "nbconvert_exporter": "python",
   "pygments_lexer": "ipython3",
   "version": "3.10.8"
  }
 },
 "nbformat": 4,
 "nbformat_minor": 5
}
