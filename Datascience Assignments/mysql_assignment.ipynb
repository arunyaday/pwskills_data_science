{
 "cells": [
  {
   "cell_type": "markdown",
   "id": "6ab28d51-2f2e-4ff9-89af-1f0b15f0f2d9",
   "metadata": {},
   "source": [
    "#### Q1. What is a database? Differentiate between SQL and NoSQL databases.\n",
    "Ans: \n",
    "A database is information that is set up for easy access, management and updating. Computer databases typically store aggregations of data records or files that contain information, such as sales transactions, customer data, financials and product information.\n",
    "\n",
    "Databases are used for storing, maintaining and accessing any sort of data. They collect information on people, places or things. That information is gathered in one place so that it can be observed and analyzed. Databases can be thought of as an organized collection of information.\n",
    "\n",
    "SQL stands for ‘Structured Query Language’. It is the most common programming language used for executing queries, and handling data by using CRUD (create, read, update and delete) operation on a Relational Database Management System (RDMS) like MySQL, PostgreSQL, etc.\n",
    "\n",
    "NoSQL stands for ‘Not-Only SQL’. These types of databases are Non-Relational or non-tabular. A No-SQL database does not require a specific schema and hence is schema-less, and all the entries/documents are JSON documents. Examples − MongoDB, DynamoDB, Redis, etc.\n",
    "\n",
    "\n",
    "| Key | SQL | NoSQL |\n",
    "| --- | --- | --- |\n",
    "| Type | SQL databases are classified as Relational databases, i.e., RDBMS. | NoSQL databases are known as non-relational or distributed database. |\n",
    "| Language | SQL databases use standard Structured Query Languages, as the name suggests. SQL is an industry-standard and very powerful language to execute complex queries. | NoSQL database has dynamic schema for unstructured data. The data stored in a NoSQL database is not structured.Data could be stored as document-oriented, column oriented, graph-based or organized as a Key-Value store. The syntax can vary from database to database. |\n",
    "| Scalability | SQL databases can extend their capacity on a single server by increasing their RAM, CPU or SSD. SQL databases are scalable vertically, as their storage could be increased for the same server by enhancing their storage components. | In order to increase the capacity of a NoSQL database, you would have to install new servers parallel to the parent server. NoSQL databases are horizontally scalable which means they can easily handle more traffic by adding new servers to the database, which makes them a great choice for large and constantly changing databases. |\n",
    "| Schema | SQL databases have a fixed, pre-defined schema, which makes the data storage more rigid, static, and restrictive. | NoSQL databases don’t have a pre-defined schema, which makes them schema-less and more flexible. |\n",
    "| Internal implementation | SQL follows ACID (Atomicity, Consistency, Isolation and Durability) properties for its operations. | NoSQL is based on CAP (Consistency, Availability, and Partition Tolerance). |\n",
    "| Data Storage | SQL databases can only be run on a single system and because of this, they don’t follow the distribution of data and hence they don’t support hierarchical storage of data. | NoSQL Databases can run on multiple systems, and hence, they support data distribution features like data repetition, partition, etc., making them the best option for hierarchical storage of data. |\n",
    "| Type of Data | SQL databases are table-based databases which makes them better for multi-row transaction applications. | NoSQL is document-based, key-value pair, and graph databases, which makes them better when there are a lot of changes in the data. |\n",
    "| Performance and suitability | SQL databases are best suited for complex queries but are not preferred for hierarchical large data storage. | NoSQL databases are not so good for complex queries because these are not as powerful as SQL queries but are best suited for hierarchical large data storage. |\n",
    "| Examples | SQL databases are implemented in both open source and commercial databases such as like Postgres & MySQL as open source and Oracle and Sqlite as commercial. | NoSQL is purely open source. Some of its famous implementation are MongoDB, BigTable, Redis, RavenDB, Cassandra, Hbase, Neo4j, and CouchDB. |"
   ]
  },
  {
   "cell_type": "markdown",
   "id": "45a0e7c1-14ab-4bc3-be9c-0d4b2fdac4cb",
   "metadata": {},
   "source": []
  },
  {
   "cell_type": "markdown",
   "id": "29bf2283-09bc-432a-83f9-b18f42b69dda",
   "metadata": {},
   "source": [
    "#### Q2. What is DDL? Explain why CREATE, DROP, ALTER, and TRUNCATE are used with an example.\n",
    "Ans: DDL stands for Data Definition Language. As the name suggests, the DDL commands help to define the structure of the databases or schema. When we execute DDL statements, it takes effect immediately. The changes made in the database using this command are saved permanently because its commands are auto-committed. The following commands come under DDL language:\n",
    "\n",
    "* CREATE: It is used to create a new database and its objects such as table, views, function, stored procedure, triggers, etc."
   ]
  },
  {
   "cell_type": "code",
   "execution_count": null,
   "id": "e6ac50fd-1021-4953-aed7-52781812b946",
   "metadata": {},
   "outputs": [],
   "source": [
    "example:\n",
    "CREATE TABLE employee (\n",
    "  id INT PRIMARY KEY,\n",
    "  name VARCHAR(50),\n",
    "  email VARCHAR(100)\n",
    ");"
   ]
  },
  {
   "cell_type": "markdown",
   "id": "9bd5f6b8-3be4-46e0-8e3f-ea971f0cf560",
   "metadata": {},
   "source": [
    "* DROP: It is used to delete the database and its objects, including structures, from the server permanently.\\\n",
    "Example:\\\n",
    "Drop table employee;\n",
    "\n",
    "* ALTER: It's used to update the database structure by modifying the characteristics of an existing attribute or adding new attributes.\\\n",
    "example:\\\n",
    "ALTER TABLE employee ADD COLUMN age INT;\n",
    "\n",
    "* TRUNCATE: It is used to completely remove all data from a table, including their structure and space allocates on the server.\n",
    "RENAME: This command renames the content in the database.\n",
    "Example:\\\n",
    "TRUNCATE TABLE employee;"
   ]
  },
  {
   "cell_type": "code",
   "execution_count": null,
   "id": "8b767414-7595-49f7-b246-8b44818351be",
   "metadata": {},
   "outputs": [],
   "source": []
  },
  {
   "cell_type": "markdown",
   "id": "81a3b5b3-daa2-4d3d-9f9c-795fba3098f4",
   "metadata": {},
   "source": [
    "#### Q3. What is DML? Explain INSERT, UPDATE, and DELETE with an example.\n",
    "Ans: It stands for Data Manipulation Language. The DML commands deal with the manipulation of existing records of a database. It is responsible for all changes that occur in the database. The changes made in the database using this command can't save permanently because its commands are not auto-committed. Therefore, changes can be rollback.\n",
    "\n",
    "The following commands come under DML language:\n",
    "* SELECT: This command is used to extract information from a table.\\\n",
    "Example:\\\n",
    "SELECT name, email FROM employee WHERE age > 30;\n",
    "\n",
    "* INSERT: It is a SQL query that allows us to add data into a table's row.\\\n",
    "Example:\\\n",
    "INSERT INTO employee (name, email, age) VALUES ('DAVE', 'dave@example.com', 35);\n",
    "\n",
    "* UPDATE: This command is used to alter or modify the contents of a table.\\\n",
    "Example:\\\n",
    "UPDATE employee SET email = 'dave@gmail.com' WHERE name = 'DAVE';\n",
    "\n",
    "* DELETE: This command is used to delete records from a database table, either individually or in groups.\\\n",
    "Example:\\\n",
    "DELETE FROM employee WHERE name = 'DAVE';\n"
   ]
  },
  {
   "cell_type": "code",
   "execution_count": null,
   "id": "142a44b0-2d21-4d14-9af2-6544be3ac371",
   "metadata": {},
   "outputs": [],
   "source": []
  },
  {
   "cell_type": "markdown",
   "id": "a4018066-f76a-4035-99c1-a41ee0ad5d98",
   "metadata": {},
   "source": [
    "#### Q4. What is DQL? Explain SELECT with an example.\n",
    "Ans: DQL stands for Data Query Language, which is a subset of SQL used to retrieve data from a database. DQL statements are used to query the database and retrieve specific data based on specified criteria. The most commonly used DQL statement is SELECT.\n",
    "\n",
    "* SELECT is used to retrieve data from one or more tables in a database. It allows you to specify the columns to retrieve, the table or tables to retrieve them from, and any conditions that the retrieved data must meet. Here's an example of a SELECT statement:\\\n",
    "Example:\\\n",
    "SELECT name, email FROM employee WHERE age > 25;"
   ]
  },
  {
   "cell_type": "code",
   "execution_count": null,
   "id": "50918ab2-94c6-4fa6-9f8c-ad1ddb106a1a",
   "metadata": {},
   "outputs": [],
   "source": []
  },
  {
   "cell_type": "markdown",
   "id": "02a36015-5159-4688-a82f-943a41a1dde0",
   "metadata": {},
   "source": [
    "#### Q5. Explain Primary Key and Foreign Key.\n",
    "Ans: \n",
    "##### primary key\n",
    "The primary key is a unique or non-null key that uniquely identifies every record in a table or relation. Each database needs a unique identifier for every row of a table, and the primary key plays a vital role in identifying rows in the table uniquely. The primary key column can't store duplicate values. It is also called a minimal super key; therefore, we cannot specify more than one primary key in any relationship.\n"
   ]
  },
  {
   "cell_type": "code",
   "execution_count": null,
   "id": "62690c2a-8532-4531-9517-b7eace2662ba",
   "metadata": {},
   "outputs": [],
   "source": [
    "Example:\n",
    "CREATE TABLE students (\n",
    "    students_id INT PRIMARY KEY,\n",
    "    name VARCHAR(50),\n",
    "    email VARCHAR(100),\n",
    "    age INT\n",
    ");"
   ]
  },
  {
   "cell_type": "markdown",
   "id": "cedf5b92-6d1e-4abc-99dc-03dec03df4cf",
   "metadata": {},
   "source": [
    "##### foreign key\n",
    "The foreign key is a group of one or more columns in a database to uniquely identify another database record in some other table to maintain the referential integrity. It is also known as the referencing key that establishes a relationship between two different tables in a database. A foreign key always matches the primary key column in another table. It means a foreign key column in one table refers to the primary key column of another table. A foreign key is beneficial in relational database normalization, especially when we need to access records from other tables."
   ]
  },
  {
   "cell_type": "code",
   "execution_count": null,
   "id": "1a276887-d0da-4064-999f-e1ee761dde9a",
   "metadata": {},
   "outputs": [],
   "source": [
    "Example:\n",
    "CREATE TABLE students (\n",
    "    students_id INT PRIMARY KEY,\n",
    "    name VARCHAR(50),\n",
    "    email VARCHAR(100),\n",
    "    age INT,\n",
    "    course_id\n",
    "    FOREIGN KEY (course_id) REFERENCES course(ID)\n",
    ");"
   ]
  },
  {
   "cell_type": "code",
   "execution_count": null,
   "id": "3b16245f-0805-4d06-860c-70e9c8cc5a8a",
   "metadata": {},
   "outputs": [],
   "source": []
  },
  {
   "cell_type": "markdown",
   "id": "de6f8db3-f27e-43fa-8f4c-1a152d9a0425",
   "metadata": {},
   "source": [
    "#### Q6. Write a python code to connect MySQL to python. Explain the cursor() and execute() method.\n",
    "Ans:\n",
    "    For connecting to MySQL server we need mysql.connector python Library. We can install it using pip, like this:\\\n",
    "        ----->pip install mysql-connector-python"
   ]
  },
  {
   "cell_type": "code",
   "execution_count": null,
   "id": "1e83841b-fec4-427c-9bbb-33ea5d4d27ab",
   "metadata": {},
   "outputs": [],
   "source": [
    "# python code to connect MYSQL.\n",
    "import mysql.connector\n",
    "# import mysql.connector\n",
    "#create user 'user'@'%' identified by 'password'\n",
    "mydb = mysql.connector.connect(\n",
    "  host=\"localhost\",\n",
    "  user=\"abc\",\n",
    "  password=\"password\"\n",
    ")\n",
    "print(mydb)\n",
    "\n",
    "\n",
    "sql = \"SELECT * FROM employee\"\n",
    "\n",
    "mycursor.execute(sql)\n",
    "myresult = mycursor.fetchall()\n",
    "\n",
    "for x in myresult:\n",
    "    print(x)"
   ]
  },
  {
   "cell_type": "markdown",
   "id": "8f779885-6abc-4ff4-9c56-123276ceaf33",
   "metadata": {},
   "source": [
    "In this code, we first import the mysql.connector module and use the connect() method to establish a connection to the MySQL database. We need to provide the database connection details, such as the host, username, password, and database name.\n",
    "\n",
    "After establishing the connection, we create a cursor object using the cursor() method of the database connection object. The cursor object allows us to execute SQL statements on the database.\n",
    "\n",
    "* The execute() method is used to execute an SQL statement on the database using the cursor object. It takes an SQL statement as its parameter and returns the result of the statement, if any. \n",
    "\n",
    "* The fetchall() method is used to fetch all the rows returned by the SELECT statement. It returns a list of tuples, where each tuple represents a row in the result set. You can then loop through the result set and print each row, as shown in the code above.\n",
    "\n",
    "* In summary, the cursor() method is used to create a cursor object, which allows you to execute SQL statements on the database. The execute() method is used to execute an SQL statement on the database using the cursor object, and the fetchall() method is used to retrieve the results of the SQL statement."
   ]
  },
  {
   "cell_type": "code",
   "execution_count": null,
   "id": "9e9b3b8d-e830-4cea-bce7-e97450e5979b",
   "metadata": {},
   "outputs": [],
   "source": []
  },
  {
   "cell_type": "markdown",
   "id": "c8a530d6-33b8-4b3b-af0d-e07a5553cdb7",
   "metadata": {},
   "source": [
    "#### Q7. Give the order of execution of SQL clauses in an SQL query.\n",
    "Ans:\n",
    "The order of execution of SQL clauses in an SQL query can be summarized as follows:\n",
    "\n",
    "* FROM clause: The FROM clause specifies the table or tables from which the data will be retrieved. If multiple tables are used, they may be joined using the JOIN clause.\n",
    "\n",
    "* WHERE clause: The WHERE clause filters the data based on a specified condition or set of conditions. It is used to retrieve only the rows that meet the specified criteria.\n",
    "\n",
    "* GROUP BY clause: The GROUP BY clause is used to group the result set by one or more columns. It is often used in conjunction with aggregate functions, such as COUNT, SUM, AVG, etc.\n",
    "\n",
    "* HAVING clause: The HAVING clause is used to filter the result set based on a specified condition or set of conditions. It is similar to the WHERE clause, but it is applied after the data has been grouped by the GROUP BY clause.\n",
    "\n",
    "* SELECT clause: The SELECT clause specifies the columns that will be included in the result set. It can also be used to apply functions or expressions to the data, such as CONCAT, DATE_FORMAT, etc.\n",
    "\n",
    "* ORDER BY clause: The ORDER BY clause is used to sort the result set based on one or more columns. It can sort the data in ascending or descending order.\n",
    "\n",
    "* LIMIT clause: The LIMIT clause is used to limit the number of rows returned by the query. It is often used in conjunction with the ORDER BY clause to retrieve the top N rows based on a specified criteria."
   ]
  }
 ],
 "metadata": {
  "kernelspec": {
   "display_name": "Python 3 (ipykernel)",
   "language": "python",
   "name": "python3"
  },
  "language_info": {
   "codemirror_mode": {
    "name": "ipython",
    "version": 3
   },
   "file_extension": ".py",
   "mimetype": "text/x-python",
   "name": "python",
   "nbconvert_exporter": "python",
   "pygments_lexer": "ipython3",
   "version": "3.10.8"
  }
 },
 "nbformat": 4,
 "nbformat_minor": 5
}
