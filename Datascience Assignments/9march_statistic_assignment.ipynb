{
 "cells": [
  {
   "cell_type": "markdown",
   "id": "3cc9de2f-b035-4580-a94d-8e7390400f14",
   "metadata": {},
   "source": [
    "#### Q1: What are the Probability Mass Function (PMF) and Probability Density Function (PDF)? Explain with an example.\n",
    "Ans: \n",
    "\n",
    "**Probability Mass Function (PMF)** \\\n",
    "The Probability Mass Function (PMF) is also called a probability function or frequency function which characterizes the distribution of a discrete random variable. Let X be a discrete random variable of a function, then the probability mass function of a random variable X is given by\n",
    "\n",
    "Px (x) = P( X=x ), For all x belongs to the range of X\n",
    "\n",
    "It is noted that the probability function should fall on the condition :\n",
    "\n",
    "* Px (x) ≥ 0 and\n",
    "* ∑xϵRange(x) Px (x) = 1\n",
    "\n",
    "Here the Range(X) is a countable set and it can be written as { x1, x2, x3, ….}. This means that the random variable X takes the value x1, x2, x3, ….\n",
    "\n",
    "Example:\n",
    "consider a coin that is flipped Two times.\\\n",
    "sample space(S)={HH,HT,TH,TT}\\\n",
    "Now lets calculate probability of comming heads\n",
    "| X | 0 | 1 | 2 |\n",
    "| --- | --- | --- | --|\n",
    "|Px (x) |1/4 | 2/4 | 1/4 |\n",
    "\n",
    "condition 1:\n",
    "Probability of any random variable is always positive and less then 1.\\\n",
    "P(X=0)=0.25 P(X=1)=0.5 P(X=2)=0.25\n",
    "\n",
    "condition 2:\n",
    "sum of all rabdom variable is always 1\\\n",
    "P(X=0) + P(X=1) + P(X=2)=0.25 + 0.5 + 0.25=1\n",
    "\n",
    "Hence Both condition is satisfy, we can say this the example of Probability Mass Function (PMF).\n",
    "\n",
    "\n",
    "**Probability Density Function (PDF)**\n",
    "\n",
    "A Probability Density Function (PDF) is a function that describes the relative likelihood that a continuous random variable takes on a certain value. In other words, the PDF gives the density of probability per unit of the random variable. The area under the curve of the PDF over a certain interval gives the probability of the random variable falling within that interval. The PDF is often denoted as f(X), where X is the random variable.\n",
    "\n",
    "For example, consider a continuous random variable X that follows a normal distribution with mean 0 and standard deviation 1. The PDF of X is:\n",
    "\n",
    "f(X) = (1 / sqrt(2π)) * exp(-X^2/2)\n",
    "\n",
    "This PDF describes the shape of the normal distribution, which is a bell-shaped curve centered at the mean of 0. The density of probability is highest at the mean and decreases symmetrically as X moves away from the mean in either direction. The area under the curve of the PDF between two values of X gives the probability that X falls within that range. For example, the probability that X falls between -1 and 1 can be calculated by integrating the PDF between -1 and 1:\n",
    "\n",
    "P(-1 ≤ X ≤ 1) = ∫[-1,1] f(X) dX = 0.6827\n",
    "\n",
    "This gives a probability of 0.6827, which represents the proportion of the total area under the PDF that falls between -1 and 1.\n"
   ]
  },
  {
   "cell_type": "code",
   "execution_count": null,
   "id": "1f98ba9b-29d8-4f03-8297-93d8df94a6a4",
   "metadata": {},
   "outputs": [],
   "source": []
  },
  {
   "cell_type": "markdown",
   "id": "e90ccc47-dd08-4a23-be40-99e19b48cad2",
   "metadata": {},
   "source": [
    "#### Q2: What is Cumulative Density Function (CDF)? Explain with an example. Why CDF is used?\n",
    "Ans:\n",
    "The Cumulative Distribution Function (CDF), of a real-valued random variable X, evaluated at x, is the probability function that X will take a value less than or equal to x. It is used to describe the probability distribution of random variables in a table.\n",
    "\n",
    "The CDF defined for a discrete random variable and is given as\n",
    "\n",
    "**FX(x) = P(X ≤ x)**\n",
    "\n",
    "Where X is the probability that takes a value less than or equal to x and that lies in the semi-closed interval (a,b], where a < b.\n",
    "\n",
    "This function is defined for all real values, sometimes it is defined implicitly rather than defining it explicitly. The CDF is an integral concept of PDF ( Probability Distribution Function )\n",
    "\n",
    "Consider a simple example for CDF which is given by rolling a fair six-sided die, where X is the random variable\\\n",
    "We know that the probability of getting an outcome by rolling a six-sided die is given as:\n",
    "Probability of getting 1 = P(X≤ 1 ) = 1 / 6\\\n",
    "Probability of getting 2 = P(X≤ 2 ) = 2 / 6\\\n",
    "Probability of getting 3 = P(X≤ 3 ) = 3 / 6\\\n",
    "Probability of getting 4 = P(X≤ 4 ) = 4 / 6\\\n",
    "Probability of getting 5 = P(X≤ 5 ) = 5 / 6\\\n",
    "Probability of getting 6 = P(X≤ 6 ) = 6 / 6 = 1\n",
    "\n",
    "From this, it is noted that the probability value always lies between 0 and 1 and it is non-decreasing and right continuous in nature."
   ]
  },
  {
   "cell_type": "markdown",
   "id": "6617ffc6-b708-406c-9c51-9f7d1ad09745",
   "metadata": {},
   "source": []
  },
  {
   "cell_type": "markdown",
   "id": "b0b3a4a7-03d6-4d73-88b8-d96d16eaa483",
   "metadata": {},
   "source": [
    "#### Q3. What are some examples of situations where the normal distribution might be used as a model? Explain how the parameters of the normal distribution relate to the shape of the distribution.\n",
    "Ans:\n",
    "\n",
    "The normal distribution is one of the most commonly used probability distributions in statistics and is often used as a model for many natural phenomena. Some examples of situations where the normal distribution might be used as a model include:\n",
    "\n",
    "* Height: The distribution of human height tends to follow a normal distribution, with a mean height of around 5'7\" for men and 5'3\" for women.\n",
    "\n",
    "* Test Scores: The distribution of test scores in a large population tends to follow a normal distribution, with most people scoring near the mean and fewer people scoring very high or very low.\n",
    "\n",
    "* IQ Scores: IQ scores also tend to follow a normal distribution, with the mean score set at 100 and a standard deviation of 15.\n",
    "\n",
    "* Measurement Errors: The distribution of errors in measurement tends to follow a normal distribution.\n",
    "\n",
    "\n",
    "The normal distribution is a bell-shaped probability distribution with the following properties:\n",
    "\n",
    "* The mean (μ) is the center of the distribution and determines the location of the peak.\n",
    "\n",
    "* The standard deviation (σ) determines the spread or width of the distribution. Larger standard deviations result in a wider distribution.\n",
    "\n",
    "The parameters of the normal distribution, namely the mean and the standard deviation, determine the shape of the distribution. If the mean increases, the distribution shifts to the right, and if the mean decreases, the distribution shifts to the left. If the standard deviation increases, the distribution becomes more spread out or wider, and if the standard deviation decreases, the distribution becomes more narrow. The mean and standard deviation also determine the height and shape of the bell curve. For example, a larger mean would result in a taller and narrower curve, while a smaller mean would result in a shorter and wider curve."
   ]
  },
  {
   "cell_type": "code",
   "execution_count": null,
   "id": "e41606ae-4bc9-4f8d-b841-64461d524f99",
   "metadata": {},
   "outputs": [],
   "source": []
  },
  {
   "cell_type": "markdown",
   "id": "90e506ca-97c4-4a21-bf30-a51c914a7568",
   "metadata": {},
   "source": [
    "#### Q4: Explain the importance of Normal Distribution. Give a few real-life examples of Normal Distribution.\n",
    "Ans:\n",
    "\n",
    "**Importance of Normal Distribution:**\n",
    "* The normal distribution is also termed as a gaussian distribution. It represents the data from the mean position. In the graph form normal distribution appears as a bell curve.\n",
    "* The normal distribution is widely used in financing industries. To examine the price action of the stocks and to account for the returns in the assent class.\n",
    "* The normal distribution is symmetric and has a skewness of zero. The skewness measures the symmetry of a distribution with respect to the normal distribution.\n",
    "* The normal distribution is an important probability distribution in math and statistics because many continuous data in nature and psychology display this bell-shaped curve when compiled and graphed.\n",
    "\n",
    "\n",
    "**Real-life examples of Normal Distribution:**\n",
    "* Height: The distribution of human height tends to follow a normal distribution, with a mean height of around 5'7\" for men and 5'3\" for women.\n",
    "* Test Scores: The distribution of test scores in a large population tends to follow a normal distribution, with most people scoring near the mean and fewer people scoring very high or very low.\n",
    "* IQ Scores: IQ scores also tend to follow a normal distribution, with the mean score set at 100 and a standard deviation of 15.\n",
    "* Measurement Errors: The distribution of errors in measurement tends to follow a normal distribution."
   ]
  },
  {
   "cell_type": "code",
   "execution_count": null,
   "id": "936199bf-9334-4368-84a5-c18c52ca936f",
   "metadata": {},
   "outputs": [],
   "source": []
  },
  {
   "attachments": {
    "a7c6520c-bdaa-4976-b392-9ea8e4f89335.png": {
     "image/png": "[encoded data removed]"
    }
   },
   "cell_type": "markdown",
   "id": "621cc664-af64-4873-a50f-1a6c46cfe82b",
   "metadata": {},
   "source": [
    "#### Q5. What is Bernaulli Distribution? Give an Example. What is the difference between Bernoulli Distribution and Binomial Distribution?\n",
    "Ans:\n",
    "\n",
    "Bernoulli distribution is a discret univariate probability distribution. A Bernoulli trial or experiment results in binary outcomes:  success or failure (0 or 1). The trial’s success is denoted as p (x=1), and failure is expressed as 1-p ( x=0).\n",
    "\n",
    "The Bernoulli distribution is a discrete probability indicator. It is used for determining the possible outcome of a single random experiment (Bernoulli trial). Such a trial can only have two results, success or failure.\n",
    "\n",
    "![image.png](attachment:a7c6520c-bdaa-4976-b392-9ea8e4f89335.png)\n",
    "\n",
    "\n",
    "\n",
    "Example:\n",
    "Let us assume that out of every 50 people in a city, 1 is a business owner. So, If one citizen is selected randomly, what is the distribution of business owners?\n",
    "Solution:\n",
    "Given:\n",
    "p = 1/50\n",
    "\n",
    "P (X = x) = p x (1-p) (1-x)\n",
    "\n",
    "Thus, P (X = x) = (1/50) x (1 – 1/50) (1-x)\n",
    "\n",
    "Let us compute for x = 0, 1\n",
    "\n",
    "If, x = 1\n",
    "Then P (X = 1) = 1/50 = 0.02\n",
    "If, x = 0\n",
    "Then P (X = 0) = q = 1 – p = 1 – 1/50 = 49/50 = 0.98\n",
    "Thus, the probability of success, i.e., the selected citizen being a business owner, is 0.02, and the probability of failure, i.e., the selected citizen not being a business owner, is 0.98.\n",
    "\n",
    "The Bernoulli distribution determines the probability of a single random experiment or a Bernoulli trial. The binomial distribution determines the probability of the N number of Bernoulli trials."
   ]
  },
  {
   "cell_type": "code",
   "execution_count": null,
   "id": "0dd285dc-8f33-4ac0-a14f-974edf84b55a",
   "metadata": {},
   "outputs": [],
   "source": []
  },
  {
   "cell_type": "markdown",
   "id": "4fa91ced-86bb-4a22-b0a8-3c3a236accb8",
   "metadata": {},
   "source": [
    "#### Q6. Consider a dataset with a mean of 50 and a standard deviation of 10. If we assume that the dataset is normally distributed, what is the probability that a randomly selected observation will be greater than 60? Use the appropriate formula and show your calculations.\n",
    "\n",
    "Given:\\\n",
    "mean (μ)= 50\\\n",
    "standard deviation( σ) = 10 \\\n",
    "xi=60\n",
    "\n",
    "we use z-score formula to calculate where data lies in the data distribution:\\\n",
    "z = (xi - μ) / σ\n",
    "\n",
    "z = (60 - 50)/10\\\n",
    "z=1\\\n",
    "caculate the area under the curve using Z-score table\\\n",
    "z=1==0.8413\n",
    "\n",
    "probability of greater than 60\\\n",
    "P(x>60)= 1- 0.8413== 0.1587\n",
    "\n",
    "Therefore, the probability that a randomly selected observation from the normally distributed dataset with a mean of 50 and standard deviation of 10 will be greater than 60 is approximately 0.1587 or 15.87%.\n",
    "\n"
   ]
  },
  {
   "cell_type": "code",
   "execution_count": null,
   "id": "dc65cb59-5dec-4c0c-b659-8b01624fc700",
   "metadata": {},
   "outputs": [],
   "source": []
  },
  {
   "cell_type": "markdown",
   "id": "a0d2f417-436f-4688-9598-99fafbd35e95",
   "metadata": {},
   "source": [
    "#### Q7: Explain uniform Distribution with an example.\n",
    "Ans:\n",
    "Uniform distribution is a continuous probability distribution where all values within a specific range have an equal chance of occurring. In other words, it is a probability distribution where the likelihood of any given value occurring is the same as the likelihood of any other value occurring within the same range.\n",
    "\n",
    "For example, let's say we have a fair six-sided die. When we roll the die, the outcome can be any number between 1 and 6, and each outcome has an equal probability of occurring. Therefore, the distribution of outcomes is uniform.\n",
    "\n",
    "We can represent the uniform distribution mathematically as:\n",
    "\n",
    "f(x) = 1 / (b - a)\n",
    "\n",
    "where f(x) is the probability density function, a is the minimum value in the range, and b is the maximum value in the range.\n",
    "\n",
    "For example, if we consider a uniform distribution between 0 and 10, the probability density function would be:\n",
    "\n",
    "f(x) = 1 / (10 - 0) = 0.1\n",
    "\n",
    "This means that the probability of getting any value between 0 and 10 is the same and equal to 0.1."
   ]
  },
  {
   "cell_type": "code",
   "execution_count": null,
   "id": "2896374f-e5a8-4920-a7d5-890f10074ceb",
   "metadata": {},
   "outputs": [],
   "source": []
  },
  {
   "cell_type": "markdown",
   "id": "5f698733-7b19-430b-837e-7f4c9e6fd962",
   "metadata": {},
   "source": [
    "#### Q8. What is the z score? State the importance of the z score.\n",
    "\n",
    "A z-score, also known as a standard score, is a statistical measure that represents the number of standard deviations a data point is from the mean of its population. It is calculated by subtracting the mean of the population from the data point and dividing the result by the standard deviation of the population.\n",
    "\n",
    "The formula for calculating z-score is:\n",
    "\n",
    "z = (x - μ) / σ\n",
    "\n",
    "where x is the data point, μ is the population mean, and σ is the population standard deviation.\n",
    "\n",
    "The importance of the z-score is that it allows us to standardize and compare different sets of data that may have different scales and units. By converting data points to z-scores, we can compare them to a standard normal distribution with a mean of 0 and a standard deviation of 1. This allows us to make meaningful comparisons and draw conclusions about the relative standing of different data points within their respective populations.\n",
    "\n",
    "For example, if we have two sets of data with different means and standard deviations, we can standardize the data using z-scores and compare them on a common scale. This is useful in fields such as finance, where we might want to compare the performance of different stocks, or in education, where we might want to compare the performance of students on different tests."
   ]
  },
  {
   "cell_type": "code",
   "execution_count": null,
   "id": "e3a28202-110e-4da1-8160-4708434a3161",
   "metadata": {},
   "outputs": [],
   "source": []
  },
  {
   "cell_type": "markdown",
   "id": "bfc4c597-1682-49f6-a57d-612f7461d06b",
   "metadata": {},
   "source": [
    "#### Q9: What is Central Limit Theorem? State the significance of the Central Limit Theorem.\n",
    "Ans:\n",
    "\n",
    "The Central Limit Theorem (CLT) is a fundamental concept in probability theory that states that, under certain conditions, the sample means from a large number of independent and identically distributed (i.i.d) random variables will be approximately normally distributed, regardless of the underlying distribution of the population.\n",
    "\n",
    "In other words, the CLT states that the sum or average of a large number of independent and identically distributed random variables will converge to a normal distribution as the sample size increases, regardless of the shape of the original distribution. This is true even if the original population is not normally distributed.\n",
    "\n",
    "The significance of the Central Limit Theorem is that it allows us to make inferences about a population using a sample, without having to know the underlying distribution of the population. This is because the CLT ensures that the sample mean will be approximately normally distributed, and we can use this fact to construct confidence intervals and perform hypothesis testing.\n",
    "\n",
    "For example, suppose we want to estimate the mean height of all students in a university, but we cannot measure the height of every student. Instead, we take a random sample of 100 students and calculate the sample mean. By the Central Limit Theorem, we know that the distribution of the sample mean will be approximately normal, regardless of the distribution of heights in the population. This allows us to make inferences about the population mean height based on our sample mean and standard error."
   ]
  },
  {
   "cell_type": "code",
   "execution_count": null,
   "id": "025b08c1-a43e-4cd7-bacc-4559b20e8cc7",
   "metadata": {},
   "outputs": [],
   "source": []
  },
  {
   "cell_type": "markdown",
   "id": "76dfcaed-4617-4cf8-9e5d-8819818cc71d",
   "metadata": {},
   "source": [
    "#### Q10: State the assumptions of the Central Limit Theorem.\n",
    "The Central Limit Theorem (CLT) relies on the following assumptions:\n",
    "\n",
    "* Independence: The samples or observations are independent of each other.\n",
    "* Sample size: The sample size is sufficiently large. While there is no hard and fast rule for the minimum sample size, a commonly used rule of thumb is that the sample size should be at least 30.\n",
    "* Identically distributed: The samples or observations are drawn from the same population, and therefore have the same mean and standard deviation.\n",
    "* Finite variance: The population from which the samples are drawn must have a finite variance.\n",
    "\n",
    "If these assumptions are met, then the sample means will converge to a normal distribution, regardless of the underlying distribution of the population. It is important to note that violating these assumptions can lead to inaccurate conclusions and the CLT may not hold."
   ]
  },
  {
   "cell_type": "code",
   "execution_count": null,
   "id": "36422f4b-08f7-4bfb-8e62-abde965d1917",
   "metadata": {},
   "outputs": [],
   "source": []
  }
 ],
 "metadata": {
  "kernelspec": {
   "display_name": "Python 3 (ipykernel)",
   "language": "python",
   "name": "python3"
  },
  "language_info": {
   "codemirror_mode": {
    "name": "ipython",
    "version": 3
   },
   "file_extension": ".py",
   "mimetype": "text/x-python",
   "name": "python",
   "nbconvert_exporter": "python",
   "pygments_lexer": "ipython3",
   "version": "3.10.8"
  }
 },
 "nbformat": 4,
 "nbformat_minor": 5
}
