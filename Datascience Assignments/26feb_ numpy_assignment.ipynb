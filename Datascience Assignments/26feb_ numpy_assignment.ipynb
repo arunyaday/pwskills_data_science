{
 "cells": [
  {
   "cell_type": "code",
   "execution_count": 37,
   "id": "c8b39273-177d-4c56-b1e6-3a22e0f2f41e",
   "metadata": {},
   "outputs": [
    {
     "data": {
      "text/plain": [
       "array(['1', '2', '3', '4', '5'], dtype='<U1')"
      ]
     },
     "execution_count": 37,
     "metadata": {},
     "output_type": "execute_result"
    }
   ],
   "source": [
    "# Consider the below code to answer further questions:\n",
    "import numpy as np\n",
    "\n",
    "list_ = [ '1' , '2' , '3' , '4' , '5' ]\n",
    "array_list = np.array(object = list_)\n",
    "array_list"
   ]
  },
  {
   "cell_type": "markdown",
   "id": "236b5caf-e09a-419f-9c58-3f72797e0663",
   "metadata": {},
   "source": [
    "#### Q1. Is there any difference in the data type of variables list_ and array_list? If there is then write a code to print the data types of both the variables."
   ]
  },
  {
   "cell_type": "code",
   "execution_count": 38,
   "id": "10824f34-ca14-4daa-9feb-d0a691297664",
   "metadata": {},
   "outputs": [
    {
     "name": "stdout",
     "output_type": "stream",
     "text": [
      "Data type of variables list_ : <class 'list'>\n"
     ]
    }
   ],
   "source": [
    "print(\"Data type of variables list_ :\",type(list_))"
   ]
  },
  {
   "cell_type": "code",
   "execution_count": 39,
   "id": "3570b0ed-5da5-4393-8671-682c430b2f7a",
   "metadata": {},
   "outputs": [
    {
     "name": "stdout",
     "output_type": "stream",
     "text": [
      "Data type of variables array_list : <U1\n"
     ]
    }
   ],
   "source": [
    "print(\"Data type of variables array_list :\",(array_list.dtype))"
   ]
  },
  {
   "cell_type": "markdown",
   "id": "cc07a04c-2a23-4aa2-8c9f-c504e0c114ce",
   "metadata": {},
   "source": [
    "#### Difference in the data type of variables list_ and array_list\n",
    "\n",
    "#### class 'list'\n",
    "* A list can be defined as a collection of values or items of different types.\n",
    "* This the a normal list that we use in python\n",
    "* It's data types is <class 'list'>\n",
    "\n",
    "\n",
    "#### class 'numpy.ndarray'\n",
    "* Ndarray is the n-dimensional array object defined in the numpy which stores the collection of the similar type of elements. In other words, we can define a ndarray as the collection of the data type (dtype) objects.\n",
    "* This is an numpy array\n",
    "* It's data types is <class 'numpy.ndarray'>\n"
   ]
  },
  {
   "cell_type": "code",
   "execution_count": null,
   "id": "19ee5432-b554-47a4-902e-1c8c506884ee",
   "metadata": {},
   "outputs": [],
   "source": []
  },
  {
   "cell_type": "markdown",
   "id": "525f4877-1a59-4b08-8adc-597709c7979c",
   "metadata": {},
   "source": [
    "#### Q2. Write a code to print the data type of each and every element of both the variables list_ and arra_list."
   ]
  },
  {
   "cell_type": "code",
   "execution_count": 40,
   "id": "a2039ed8-90c1-4fee-981e-d3afc8180590",
   "metadata": {},
   "outputs": [
    {
     "name": "stdout",
     "output_type": "stream",
     "text": [
      "<class 'str'>\n",
      "<class 'str'>\n",
      "<class 'str'>\n",
      "<class 'str'>\n",
      "<class 'str'>\n"
     ]
    }
   ],
   "source": [
    "#data type of each and every element of the variables list_\n",
    "for i in list_:\n",
    "    print(type(i))"
   ]
  },
  {
   "cell_type": "code",
   "execution_count": 41,
   "id": "46c90fb1-cc2c-4819-90c2-c1efa35031fd",
   "metadata": {},
   "outputs": [
    {
     "name": "stdout",
     "output_type": "stream",
     "text": [
      "<class 'numpy.str_'>\n",
      "<class 'numpy.str_'>\n",
      "<class 'numpy.str_'>\n",
      "<class 'numpy.str_'>\n",
      "<class 'numpy.str_'>\n"
     ]
    }
   ],
   "source": [
    "#data type of each and every element of the variables array_list\n",
    "for i in array_list:\n",
    "    print(type(i))"
   ]
  },
  {
   "cell_type": "markdown",
   "id": "23510d95-331f-4491-af53-a4d9cfa536b6",
   "metadata": {},
   "source": [
    "#### Difference in the data type of variables list_ and array_list\n",
    "\n",
    "#### class 'list'\n",
    "A list can be defined as a collection of values or items of different types.\n",
    "\n",
    "#### class 'numpy.ndarray'\n",
    "Ndarray is the n-dimensional array object defined in the numpy which stores the collection of the similar type of elements. In other words, we can define a ndarray as the collection of the data type (dtype) objects."
   ]
  },
  {
   "cell_type": "code",
   "execution_count": null,
   "id": "996a118e-ae9b-494f-9398-421bee330335",
   "metadata": {},
   "outputs": [],
   "source": []
  },
  {
   "cell_type": "markdown",
   "id": "7f96958d-5160-4406-a509-646dbdb1067e",
   "metadata": {},
   "source": [
    "#### Q3. Considering the following changes in the variable, array_list:\n",
    "\n",
    "**array_list = np.array(object = list_, dtype = int)**\n",
    "\n",
    "**Will there be any difference in the data type of the elements present in both the variables, list_ and\n",
    "arra_list? If so then print the data types of each and every element present in both the variables, list_\n",
    "and arra_list.**\n"
   ]
  },
  {
   "cell_type": "code",
   "execution_count": 42,
   "id": "5bde617e-03e9-479e-8a3d-275364a86ad5",
   "metadata": {},
   "outputs": [
    {
     "data": {
      "text/plain": [
       "array([1, 2, 3, 4, 5])"
      ]
     },
     "execution_count": 42,
     "metadata": {},
     "output_type": "execute_result"
    }
   ],
   "source": [
    "array_list2 = np.array(object = list_, dtype = int)\n",
    "array_list2"
   ]
  },
  {
   "cell_type": "code",
   "execution_count": 43,
   "id": "ad50e17c-7c04-4b04-a8be-abcf088a7921",
   "metadata": {},
   "outputs": [
    {
     "name": "stdout",
     "output_type": "stream",
     "text": [
      "<class 'str'>\n",
      "<class 'str'>\n",
      "<class 'str'>\n",
      "<class 'str'>\n",
      "<class 'str'>\n"
     ]
    }
   ],
   "source": [
    "#data type of each and every element of the variables list_\n",
    "for i in list_:\n",
    "    print(type(i))"
   ]
  },
  {
   "cell_type": "code",
   "execution_count": 44,
   "id": "32842d65-dbd4-4f6c-b941-08c9d396c4c2",
   "metadata": {},
   "outputs": [
    {
     "name": "stdout",
     "output_type": "stream",
     "text": [
      "<class 'numpy.int64'>\n",
      "<class 'numpy.int64'>\n",
      "<class 'numpy.int64'>\n",
      "<class 'numpy.int64'>\n",
      "<class 'numpy.int64'>\n"
     ]
    }
   ],
   "source": [
    "#data type of each and every element of the variables array_list2\n",
    "for i in array_list2:\n",
    "    print(type(i))\n",
    "      \n",
    "# This types has been changes form Str(Unicode string) to Integer"
   ]
  },
  {
   "cell_type": "code",
   "execution_count": null,
   "id": "a3984e6e-eaa4-419c-9bfa-72d9c4ec7f72",
   "metadata": {},
   "outputs": [],
   "source": []
  },
  {
   "cell_type": "code",
   "execution_count": 19,
   "id": "4e61cd20-adf5-4284-ab8e-b374e5b4616d",
   "metadata": {},
   "outputs": [
    {
     "data": {
      "text/plain": [
       "array([[1, 2, 3],\n",
       "       [4, 5, 6]])"
      ]
     },
     "execution_count": 19,
     "metadata": {},
     "output_type": "execute_result"
    }
   ],
   "source": [
    "# Consider the below code to answer further questions:**\n",
    "\n",
    "import numpy as np\n",
    "\n",
    "num_list = [ [ 1 , 2 , 3 ] , [ 4 , 5 , 6 ] ]\n",
    "num_array = np.array(object = num_list)\n",
    "num_array"
   ]
  },
  {
   "cell_type": "markdown",
   "id": "cb92a9e1-ae9f-42d5-b83b-d0dab240f782",
   "metadata": {},
   "source": [
    "#### Q4. Write a code to find the following characteristics of variable, num_array:"
   ]
  },
  {
   "cell_type": "code",
   "execution_count": 45,
   "id": "0bdec5c3-56a5-42f3-be93-0fa5eb75f529",
   "metadata": {},
   "outputs": [
    {
     "name": "stdout",
     "output_type": "stream",
     "text": [
      "Shape of the array:  (2, 3)\n",
      "Size of the array:  6\n"
     ]
    }
   ],
   "source": [
    "#(i) shape\n",
    "print(\"Shape of the array: \",num_array.shape)\n",
    "\n",
    "# (ii) size\n",
    "print(\"Size of the array: \",num_array.size)"
   ]
  },
  {
   "cell_type": "code",
   "execution_count": null,
   "id": "dc3db875-035e-4efd-8d05-8348ecead30b",
   "metadata": {},
   "outputs": [],
   "source": []
  },
  {
   "cell_type": "markdown",
   "id": "6dac3b79-d0bb-4189-8d64-7045390504e1",
   "metadata": {},
   "source": [
    "#### Q5. Write a code to create numpy array of 3*3 matrix containing zeros only, using a numpy array creation function.\n",
    "[Hint: The size of the array will be 9 and the shape will be (3,3).]"
   ]
  },
  {
   "cell_type": "code",
   "execution_count": 29,
   "id": "06479f33-e067-4ea3-af1b-7027f6f7064d",
   "metadata": {},
   "outputs": [
    {
     "name": "stdout",
     "output_type": "stream",
     "text": [
      "[[0. 0. 0.]\n",
      " [0. 0. 0.]\n",
      " [0. 0. 0.]]\n"
     ]
    }
   ],
   "source": [
    "arr=np.zeros((3, 3))\n",
    "print(arr)"
   ]
  },
  {
   "cell_type": "code",
   "execution_count": null,
   "id": "16c7b145-1775-4e36-9f3d-39585f7b8d06",
   "metadata": {},
   "outputs": [],
   "source": []
  },
  {
   "cell_type": "markdown",
   "id": "010f2293-2c71-40fd-91d6-d01b0fc3882a",
   "metadata": {},
   "source": [
    "#### Q6. Create an identity matrix of shape (5,5) using numpy functions?\n",
    "[Hint: An identity matrix is a matrix containing 1 diagonally and other elements will be 0.]"
   ]
  },
  {
   "cell_type": "code",
   "execution_count": 35,
   "id": "11acfa8a-15a6-4d8d-b21e-44f46dab340a",
   "metadata": {},
   "outputs": [
    {
     "name": "stdout",
     "output_type": "stream",
     "text": [
      "[[1. 0. 0. 0. 0.]\n",
      " [0. 1. 0. 0. 0.]\n",
      " [0. 0. 1. 0. 0.]\n",
      " [0. 0. 0. 1. 0.]\n",
      " [0. 0. 0. 0. 1.]]\n"
     ]
    }
   ],
   "source": [
    "id_mat=np.eye(5)\n",
    "print(id_mat)"
   ]
  },
  {
   "cell_type": "code",
   "execution_count": null,
   "id": "5ac697a9-ed58-4b1d-b84b-64117180c9ca",
   "metadata": {},
   "outputs": [],
   "source": []
  }
 ],
 "metadata": {
  "kernelspec": {
   "display_name": "Python 3 (ipykernel)",
   "language": "python",
   "name": "python3"
  },
  "language_info": {
   "codemirror_mode": {
    "name": "ipython",
    "version": 3
   },
   "file_extension": ".py",
   "mimetype": "text/x-python",
   "name": "python",
   "nbconvert_exporter": "python",
   "pygments_lexer": "ipython3",
   "version": "3.10.8"
  }
 },
 "nbformat": 4,
 "nbformat_minor": 5
}
