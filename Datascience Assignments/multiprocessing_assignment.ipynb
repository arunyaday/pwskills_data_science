{
 "cells": [
  {
   "cell_type": "markdown",
   "id": "e30d64a6-71ed-486d-acda-f94877933034",
   "metadata": {},
   "source": [
    "#### Q1. What is multiprocessing in python? Why is it useful?\n",
    "Ans: Multiprocessing is the ability of the system to run one or more processes in parallel. In simple words, multiprocessing uses the two or more CPU within the single computer system. This method is also capable to allocate the tasks between more than one process.\n",
    "\n",
    "Processing units share the main memory and peripherals to process programs simultaneously. Multiprocessing Application breaks into smaller parts and runs independently. Each process is allocated to the processor by the operating system.\n",
    "\n",
    "Advantages of multiprocessing operating system are:\n",
    "* Increased reliability: Due to the multiprocessing system, processing tasks can be distributed among several processors. This increases reliability as if one processor fails; the task can be given to another processor for completion.\n",
    "* Increased throughout: As several processors increase, more work can be done in less\n",
    "* The economy of Scale: As multiprocessors systems share peripherals, secondary storage devices, and power supplies, they are relatively cheaper than single-processor systems.\n"
   ]
  },
  {
   "cell_type": "code",
   "execution_count": null,
   "id": "88bcbb90-19e6-4992-9239-60944ebe243c",
   "metadata": {},
   "outputs": [],
   "source": []
  },
  {
   "cell_type": "markdown",
   "id": "87d2bd0f-674e-46a1-9a05-65fde9841d9c",
   "metadata": {},
   "source": [
    "#### Q2. What are the differences between multiprocessing and multithreading?\n",
    "Ans:\n",
    "Multiprocessing: Multiprocessing is a system that has more than one or two processors. In Multiprocessing, CPUs are added for increasing computing speed of the system. Because of Multiprocessing, There are many processes are executed simultaneously.\n",
    "* In Multiprocessing, CPUs are added for increasing computing power.\n",
    "* In Multiprocessing, Many processes are executed simultaneously.\n",
    "* Multiprocessing are classified into Symmetric and Asymmetric.\n",
    "* In Multiprocessing, Process creation is a time-consuming process.\n",
    "* In Multiprocessing, every process owned a separate address space.\n",
    "\n",
    "\n",
    "Multithreading: Multithreading is a system in which multiple threads are created of a process for increasing the computing speed of the system. In multithreading, many threads of a process are executed simultaneously and process creation in multithreading is done according to economical. \n",
    "* In Multithreading, many threads are created of a single process for increasing computing power.\n",
    "* In multithreading, many threads of a process are executed simultaneously.\n",
    "* Multithreading is not classified in any categories.\n",
    "* In Multithreading, process creation is according to economical.\n",
    "* In Multithreading, a common address space is shared by all the threads.\n"
   ]
  },
  {
   "cell_type": "code",
   "execution_count": null,
   "id": "ed3d150d-ac44-43ff-a44d-f7e713a108cb",
   "metadata": {},
   "outputs": [],
   "source": []
  },
  {
   "cell_type": "markdown",
   "id": "0c30ea18-717b-45f8-8a48-f9d66ddc2099",
   "metadata": {},
   "source": [
    "#### Q3. Write a python code to create a process using the multiprocessing module.\n",
    "Ans: "
   ]
  },
  {
   "cell_type": "code",
   "execution_count": 2,
   "id": "786cd7bd-9210-4e82-804e-7f1f5e640229",
   "metadata": {},
   "outputs": [
    {
     "name": "stdout",
     "output_type": "stream",
     "text": [
      "[1, 4, 9, 16, 25, 36, 49, 64, 81, 100]\n"
     ]
    }
   ],
   "source": [
    "import multiprocessing\n",
    "\n",
    "def square(n):\n",
    "    return n**2\n",
    "\n",
    "if __name__=='__main__':\n",
    "    with multiprocessing.Pool(processes=5) as pool:\n",
    "        out= pool.map(square,(i for i in range(1,11)))\n",
    "        print(out)\n",
    "        "
   ]
  },
  {
   "cell_type": "code",
   "execution_count": null,
   "id": "7f27d2b9-a69c-419d-a0d1-6c99f1c30539",
   "metadata": {},
   "outputs": [],
   "source": []
  },
  {
   "cell_type": "markdown",
   "id": "4b82a005-e959-41a7-8d7c-cb0241a28e8a",
   "metadata": {},
   "source": [
    "#### Q4. What is a multiprocessing pool in python? Why is it used?\n",
    "Ans: A process pool is a programming pattern for automatically managing a pool of worker processes.\n",
    "\n",
    "The pool is responsible for a fixed number of processes.\n",
    "\n",
    "* It controls when they are created, such as when they are needed.\n",
    "* It also controls what they should do when they are not being used, such as making them wait without consuming computational resources.\n",
    "\n",
    "The pool can provide a generic interface for executing ad hoc tasks with a variable number of arguments, much like the target property on the Process object, but does not require that we choose a process to run the task, start the process, or wait for the task to complete.\n",
    "\n",
    "Python provides a process pool via the multiprocessing.Pool class."
   ]
  },
  {
   "cell_type": "code",
   "execution_count": null,
   "id": "f6c6f3f8-0436-42fa-8e29-62099e2c0063",
   "metadata": {},
   "outputs": [],
   "source": []
  },
  {
   "cell_type": "markdown",
   "id": "9ba062cc-d24b-4d6e-992e-a0ab44475dc5",
   "metadata": {},
   "source": [
    "#### Q5. How can we create a pool of worker processes in python using the multiprocessing module?\n",
    "Ans: We can configure the number of worker processes in the multiprocessing.Pool by setting the “processes” argument in the constructor.\n",
    "We can set the “processes” argument to specify the number of child processes to create and use as workers in the process pool.\n"
   ]
  },
  {
   "cell_type": "code",
   "execution_count": 8,
   "id": "233e30ce-f1f3-4a17-b748-5e2151575533",
   "metadata": {},
   "outputs": [
    {
     "name": "stdout",
     "output_type": "stream",
     "text": [
      "[1, 4, 9, 16, 25, 36, 49, 64, 81, 100]\n"
     ]
    }
   ],
   "source": [
    "# example\n",
    "import multiprocessing\n",
    "\n",
    "def square(n):\n",
    "    return n**2\n",
    "\n",
    "if __name__=='__main__':\n",
    "    with multiprocessing.Pool(processes=5) as pool:\n",
    "        out= pool.map(square,(i for i in range(1,11)))\n",
    "        print(out)\n"
   ]
  },
  {
   "cell_type": "code",
   "execution_count": null,
   "id": "bf9da5d5-1620-4a30-8609-ec98ecc82703",
   "metadata": {},
   "outputs": [],
   "source": []
  },
  {
   "cell_type": "markdown",
   "id": "db7ea299-a179-4d93-af82-2fb2d3d344c9",
   "metadata": {},
   "source": [
    "#### Q6. Write a python program to create 4 processes, each process should print a different number using the multiprocessing module in python."
   ]
  },
  {
   "cell_type": "code",
   "execution_count": 3,
   "id": "b5fe0402-3581-48d7-8d33-e1805f698e73",
   "metadata": {},
   "outputs": [
    {
     "name": "stdout",
     "output_type": "stream",
     "text": [
      "25\n",
      "64\n",
      "16\n",
      "243\n"
     ]
    }
   ],
   "source": [
    "import  multiprocessing\n",
    "\n",
    "nums=[]\n",
    "def print_nums(n,l):\n",
    "    nums = l ** n \n",
    "    print(nums)\n",
    "\n",
    "\n",
    "if __name__ =='__main__':\n",
    "    p1=multiprocessing.Process(target=print_nums, args=(2,5))\n",
    "    p1.start()\n",
    "    p1.join()\n",
    "    \n",
    "    p2=multiprocessing.Process(target=print_nums, args=(3,4))\n",
    "    p2.start()\n",
    "    p2.join()\n",
    "    \n",
    "    p3=multiprocessing.Process(target=print_nums, args=(4,2))\n",
    "    p3.start()\n",
    "    p3.join()\n",
    "    \n",
    "    p4=multiprocessing.Process(target=print_nums, args=(5,3))\n",
    "    p4.start()\n",
    "    p4.join()\n",
    "    \n",
    "\n",
    "    "
   ]
  },
  {
   "cell_type": "code",
   "execution_count": null,
   "id": "d51b4791-5223-45e5-a68a-b2d076531ce6",
   "metadata": {},
   "outputs": [],
   "source": []
  }
 ],
 "metadata": {
  "kernelspec": {
   "display_name": "Python 3 (ipykernel)",
   "language": "python",
   "name": "python3"
  },
  "language_info": {
   "codemirror_mode": {
    "name": "ipython",
    "version": 3
   },
   "file_extension": ".py",
   "mimetype": "text/x-python",
   "name": "python",
   "nbconvert_exporter": "python",
   "pygments_lexer": "ipython3",
   "version": "3.10.8"
  }
 },
 "nbformat": 4,
 "nbformat_minor": 5
}
