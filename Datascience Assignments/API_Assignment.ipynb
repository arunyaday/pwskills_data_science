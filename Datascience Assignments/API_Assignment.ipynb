{
 "cells": [
  {
   "cell_type": "markdown",
   "id": "d65e21a5-3ce1-46a5-a20e-1f5393fe192c",
   "metadata": {
    "tags": []
   },
   "source": [
    "#### Q1. What is an API? Give an example, where an API is used in real life.\n",
    "Ans: An application programming interface, or API, enables companies to open up their applications’ data and functionality to external third-party developers, business partners, and internal departments within their companies. This allows services and products to communicate with each other and leverage each other’s data and functionality through a documented interface. Developers don't need to know how an API is implemented; they simply use the interface to communicate with other products and services. API use has surged over the past decade, to the degree that many of the most popular web applications today would not be possible without APIs.\n",
    "\n",
    "An API is a set of defined rules that explain how computers or applications communicate with one another. APIs sit between an application and the web server, acting as an intermediary layer that processes data transfer between systems.\n",
    "\n",
    "Here’s how an API works:\n",
    "\n",
    "* A client application initiates an API call to retrieve information—also known as a request. This request is processed from an application to the web server via the API’s Uniform Resource Identifier (URI) and includes a request verb, headers, and sometimes, a request body.\n",
    "* After receiving a valid request, the API makes a call to the external program or web server.\n",
    "* The server sends a response to the API with the requested information.\n",
    "* The API transfers the data to the initial requesting application.\n",
    "\n",
    "\n",
    "Example of API is used in real life\n",
    "\n",
    "* Third-party payment processing: For example, the now-ubiquitous \"Pay with PayPal\" function you see on ecommerce websites works through an API. This allows people to pay for products online without exposing any sensitive data or granting access to unauthorized individuals.\n",
    "* Travel booking comparisons: Travel booking sites aggregate thousands of flights, showcasing the cheapest options for every date and destination. This service is made possible through APIs that provide application users with access to the latest information about availability from hotels and airlines. With an autonomous exchange of data and requests, APIs dramatically reduce the time and effort involved in checking for available flights or accommodation."
   ]
  },
  {
   "cell_type": "code",
   "execution_count": null,
   "id": "69cbf3b0-9901-403c-a2e3-f569808d5f57",
   "metadata": {},
   "outputs": [],
   "source": []
  },
  {
   "cell_type": "markdown",
   "id": "09618888-2d90-486c-9f34-c5de70c97fe8",
   "metadata": {},
   "source": [
    "#### Q2. Give advantages and disadvantages of using API.\n",
    "Ans: Advantages of using APIs:\n",
    " \n",
    "* Automation: with APIs, computers rather than people can manage the work. Through APIs, agencies can update work flows to make them quicker and more productive.\n",
    "* Application: because APIs can access the app components, the delivery of services and information is more flexible.\n",
    "* More scope: with an API an application layer can be created which can be used to distribute information and services to new audiences which can be personalized to create custom user experiences.\n",
    "* New data available: an API allows all of the information generated at the government level to be available to every citizen, not just a select few.\n",
    "* Efficiency: when access is provided to an API, the content generated can be published automatically and is available for every channel. It allows it to be shared and distributed more easily.\n",
    "* Integration: APIs allow content to be embedded from any site or application more easily. This guarantees more fluid information delivery and an integrated user experience.\n",
    "* Personalization: through APIs any user or company can customize the content and services that they use the most.\n",
    " * Adaptation: needs change over time and APIs help to anticipate changes. When working with this technology, data migration is supported better, and the information is reviewed more closely. In short, APIs make service provision more flexible.\n",
    " \n",
    "Disadvantages of using APIs:\n",
    "* Security Risks: APIs can be vulnerable to security breaches if they are not properly secured or if they are used to access sensitive data. Hackers can exploit vulnerabilities in APIs to gain unauthorized access to systems or steal data.\n",
    "* Maintenance: APIs require maintenance and updates to ensure they are running smoothly and securely. This can be time-consuming and costly, especially if there are multiple APIs to maintain.\n",
    "* Complexity: APIs can be complex to use and require a certain level of technical expertise. This can make it difficult for non-technical users to understand how to use them.\n",
    "* Dependency: Applications that rely on third-party APIs are dependent on the availability and reliability of those APIs. If the API goes down or experiences performance issues, it can affect the functionality of the application."
   ]
  },
  {
   "cell_type": "code",
   "execution_count": null,
   "id": "3a8a510c-1142-4c57-b6f1-4aaa0d004c71",
   "metadata": {},
   "outputs": [],
   "source": []
  },
  {
   "cell_type": "markdown",
   "id": "00d8537a-b352-4601-b0ce-b8a190401a36",
   "metadata": {},
   "source": [
    "#### Q3. What is a Web API? Differentiate between API and Web API.\n",
    "Ans:\n",
    "A Web API, also known as a web service, is an API that is specifically designed for use over the internet. It uses HTTP requests to communicate with clients and can be accessed using a web browser or other software application. Web APIs are commonly used for sharing data and functionality between different software applications.\n",
    "\n",
    "The main difference between a generic API and a Web API is that a Web API is accessed over the internet, whereas a generic API can be accessed locally on a device or within a closed network. A Web API typically uses the HTTP protocol to make requests and receive responses, while a generic API can use a variety of different communication protocols, such as TCP/IP, UDP, or serial communication.\n",
    "\n",
    "Another difference is that Web APIs are often designed to be consumed by a wider range of clients, including web browsers, mobile devices, and other software applications. They typically use web-based technologies, such as XML, JSON, and REST (Representational State Transfer) to communicate with clients.\n",
    "\n",
    "In summary, while all Web APIs are APIs, not all APIs are Web APIs. Web APIs are specifically designed to be accessed over the internet and typically use HTTP to communicate with clients, while generic APIs can be accessed locally or within a closed network and can use a variety of different communication protocols."
   ]
  },
  {
   "cell_type": "code",
   "execution_count": null,
   "id": "c052167a-cf01-42fe-8838-57a3cd5f873d",
   "metadata": {},
   "outputs": [],
   "source": []
  },
  {
   "cell_type": "markdown",
   "id": "faeaf1a2-8f22-46d7-a86e-8e63ea48c0c5",
   "metadata": {},
   "source": [
    "#### Q4. Explain REST and SOAP Architecture. Mention shortcomings of SOAP.\n",
    "Ans: \n",
    "REST: representational state transfer\\\n",
    "REST is a set of architectural principles attuned to the needs of lightweight web services and mobile applications. Because it's a set of guidelines, it leaves the implementation of these recommendations to developers.\n",
    "\n",
    "When a request for data is sent to a REST API, it’s usually done through hypertext transfer protocol (commonly referred to as HTTP). Once a request is received, APIs designed for REST (called RESTful APIs or RESTful web services) can return messages in a variety of formats: HTML, XML, plain text, and JSON. JSON (JavaScript object notation) is favored as a message format because it can be read by any programming language (despite the name), is human- and machine-readable, and is lightweight. In this way, RESTful APIs are more flexible and can be easier to set up.\n",
    "\n",
    "An application is said to be RESTful if it follows 6 architectural guidelines. A RESTful application must have:\n",
    "\n",
    "* A client-server architecture composed of clients, servers, and resources.\n",
    "* Stateless client-server communication, meaning no client content is stored on the server between requests. Information about the session’s state is instead held with the client.\n",
    "* Cacheable data to eliminate the need for some client-server interactions.\n",
    "* A uniform interface between components so that information is transferred in a standardized form instead of specific to an application’s needs. This is described by Roy Fielding, the originator of REST, as “the central feature that distinguishes the REST architectural style from other network-based styles.”\n",
    "* A layered system constraint, where client-server interactions can be mediated by hierarchical layers.\n",
    "* Code on demand, allowing servers to extend the functionality of a client by transferring executable code (though also reducing visibility, making this an optional guideline).\n",
    "\n",
    "\n",
    "SOAP: simple object access protocol\\\n",
    "SOAP is a standard protocol that was first designed so that applications built with different languages and on different platforms could communicate. Because it is a protocol, it imposes built-in rules that increase its complexity and overhead, which can lead to longer page load times. However, these standards also offer built-in compliances that can make it preferable for enterprise scenarios. The built-in compliance standards include security, atomicity, consistency, isolation, and durability (ACID), which is a set of properties for ensuring reliable database transactions.\n",
    "\n",
    "Common web service specifications include:\n",
    "\n",
    "* Web services security (WS-security): Standardizes how messages are secured and transferred through unique identifiers called tokens.\n",
    "* WS-ReliableMessaging: Standardizes error handling between messages transferred across unreliable IT infrastructure.\n",
    "* Web services addressing (WS-addressing): Packages routing information as metadata within SOAP headers, instead of maintaining such information deeper within the network.\n",
    "* Web services description language (WSDL): Describes what a web service does, and where that service begins and ends.\n",
    "\n",
    "When a request for data is sent to a SOAP API, it can be handled through any of the application layer protocols: HTTP (for web browsers), SMTP (for email), TCP, and others. However, once a request is received, return SOAP messages must be returned as XML documents—a markup language that is both human- and machine-readable. A completed request to a SOAP API is not cacheable by a browser, so it cannot be accessed later without resending to the API.\n",
    "\n",
    "\n",
    "shortcomings of SOAP:\n",
    "* Highly complex\n",
    "\n",
    "In comparison to Rest, SOAP is significantly more complex. It's also less flexible. This might present a challenge for developers that are not highly skilled. The extensive processing required may also slow down performance.\n",
    "\n",
    "* No variety of data formats\n",
    "\n",
    "SOAP is also extremely limited in its support of data formats. The formats supported by Rest include HTML, JSON, YAML, XML and others. Meanwhile, SOAP only supports XML.\n",
    "\n",
    "* API calls are not cached\n",
    "\n",
    "The process where a request is sent after an API is set up with the correct endpoints is referred to as an API call. The process results in the information being transferred, processed and feedback being provided. It's not possible for SOAP API calls to be cached.\n",
    "\n",
    "* Uses more bandwidth\n",
    "\n",
    "SOAP is generally slower in comparison to Rest and it also uses more bandwidth given its very complex nature. It’s another limiting factor in the efficacy of this technology for certain projects."
   ]
  },
  {
   "cell_type": "code",
   "execution_count": null,
   "id": "530ab928-e4d0-498a-a578-3d5e1124f6d5",
   "metadata": {},
   "outputs": [],
   "source": []
  },
  {
   "cell_type": "markdown",
   "id": "37637ac1-df83-4094-b303-d66115ac3afc",
   "metadata": {},
   "source": [
    "#### Q5. Differentiate between REST and SOAP.\n",
    "Ans: \n",
    "| SOAP | REST |\n",
    "| --- | --- |\n",
    "| SOAP is a protocol. | REST is an architectural style. | \n",
    "| SOAP stands for Simple Object Access Protocol. | REST stands for REpresentational State Transfer. | \n",
    "| SOAP can't use REST because it is a protocol. | REST can use SOAP web services because it is a concept and can use any protocol like HTTP, SOAP. | \n",
    "| SOAP uses services interfaces to expose the business logic. | REST uses URI to expose business logic. | \n",
    "| JAX-WS is the java API for SOAP web services. | JAX-RS is the java API for RESTful web services. | \n",
    "| SOAP defines standards to be strictly followed. | REST does not define too much standards like SOAP. | \n",
    "| SOAP requires more bandwidth and resource than REST. | REST requires less bandwidth and resource than SOAP. | \n",
    "| SOAP defines its own security. | RESTful web services inherits security measures from the underlying transport. | \n",
    "| SOAP permits XML data format only. | REST permits different data format such as Plain text, HTML, XML, JSON etc. | \n",
    "| SOAP is less preferred than REST. | REST more preferred than SOAP. | \n"
   ]
  }
 ],
 "metadata": {
  "kernelspec": {
   "display_name": "Python 3 (ipykernel)",
   "language": "python",
   "name": "python3"
  },
  "language_info": {
   "codemirror_mode": {
    "name": "ipython",
    "version": 3
   },
   "file_extension": ".py",
   "mimetype": "text/x-python",
   "name": "python",
   "nbconvert_exporter": "python",
   "pygments_lexer": "ipython3",
   "version": "3.10.8"
  }
 },
 "nbformat": 4,
 "nbformat_minor": 5
}
