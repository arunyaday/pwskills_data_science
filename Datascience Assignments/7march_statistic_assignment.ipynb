{
 "cells": [
  {
   "cell_type": "markdown",
   "id": "19ac53f4-fec6-4488-bb4e-d0724d6ae2ef",
   "metadata": {},
   "source": [
    "#### Q1. What are the three measures of central tendency?\n",
    "Ans: Measures of central tendency and variability are commonly used in statistics to describe a dataset.\n",
    "\n",
    "Measures of central tendency:\n",
    "\n",
    "Mean: The mean is the sum of all the values in a dataset divided by the number of values in the dataset. It is often used to describe the average value of a dataset. For example, the mean salary of employees in a company can be used to describe the average salary of all employees.\n",
    "\n",
    "Median: The median is the middle value of a dataset when it is ordered from smallest to largest. It is often used to describe the central value of a dataset when there are outliers or when the distribution is not symmetrical. For example, the median income of a neighborhood can be used to describe the central income of the residents.\n",
    "\n",
    "Mode: The mode is the value that appears most frequently in a dataset. It is often used to describe the most common value of a dataset. For example, the mode of transportation used by commuters in a city can be used to describe the most common method of transportation."
   ]
  },
  {
   "cell_type": "code",
   "execution_count": null,
   "id": "a9fd84b8-3310-40bb-8899-6b249a432479",
   "metadata": {},
   "outputs": [],
   "source": []
  },
  {
   "cell_type": "markdown",
   "id": "afd5aac0-9ba8-4c94-a90e-5de8f491a198",
   "metadata": {},
   "source": [
    "#### Q2. What is the difference between the mean, median, and mode? How are they used to measure the central tendency of a dataset?\n",
    "Ans: Measure of central tendency mostly talk about central region where maximum data is present in the dataset.\n",
    "To measure the central tendency we mostly used mean, median and mode.\n",
    "\n",
    "Mean:The mean is the sum of all the values in a dataset divided by the number of values in the dataset. It is often used to describe the average value of a dataset.\n",
    "\n",
    "Median: The median is the middle value of a dataset when it is ordered from smallest to largest. It is often used to describe the central value of a dataset when there are outliers or when the distribution is not symmetrical.\n",
    "\n",
    "Mode: The mode is the value that appears most frequently in a dataset. It is often used to describe the most common value of a dataset. \n",
    "\n",
    "The choice of using central tendency is depend on charactistics of dataset and reserach analysis.For example, the mean is often used when the dataset has a normal distribution, while the median is preferred when the dataset is skewed. The mode is often used when describing categorical data or when looking for the most typical value in a dataset.\n",
    "\n"
   ]
  },
  {
   "cell_type": "code",
   "execution_count": null,
   "id": "6ee7d87e-fc6e-4ada-ae16-ee1d0242eb3c",
   "metadata": {},
   "outputs": [],
   "source": []
  },
  {
   "cell_type": "markdown",
   "id": "f90b673e-1848-4181-bb4a-30ea3fdf3b92",
   "metadata": {},
   "source": [
    "#### Q3. Measure the three measures of central tendency for the given height data:\n",
    "[178,177,176,177,178.2,178,175,179,180,175,178.9,176.2,177,172.5,178,176.5]"
   ]
  },
  {
   "cell_type": "markdown",
   "id": "1637830d-9a8f-4b1d-bd08-898cc24e3b21",
   "metadata": {},
   "source": [
    "Mean=(sum of total value in dataset)/number of total values in dataset\n",
    "Median= Middle value of sorted dataset\n",
    "Mode= Values appears most frequently in dataset\n",
    "\n",
    "sort the data in ascending order:\n",
    "(172.5, 175, 175, 176, 176.2, 176.5, 177, 177, 177, 178, 178, 178, 178.2, 178.9, 179, 180)\n",
    "\n",
    "mean= (172.5+175+175+176+176.2+176.5+177+177+177+178+178+178+178.2+178.9+179+180)/16\\\n",
    "mean= 2832.3/16\\\n",
    "mean= 177.01875 ==177.02\n",
    "\n",
    "Median == (177+177)/2 == 177\n",
    "\n",
    "**Mean == 177.02**\\\n",
    "**Median == 177**\\\n",
    "**Mode == (177,178)**\n",
    "\n",
    "#### Therefore, the mean height of the dataset is approximately 177.02 cm, the median height is 177 cm, and the mode is (177,178) cm.\n"
   ]
  },
  {
   "cell_type": "code",
   "execution_count": 8,
   "id": "64332d69-a508-42e0-be64-db77fe55b310",
   "metadata": {},
   "outputs": [
    {
     "name": "stdout",
     "output_type": "stream",
     "text": [
      "Mean 0    177.01875\n",
      "dtype: float64\n",
      "--------------------------\n",
      "Median 0    177.0\n",
      "dtype: float64\n",
      "--------------------------\n",
      "Mode        0\n",
      "0  177.0\n",
      "1  178.0\n"
     ]
    }
   ],
   "source": [
    "import pandas as pd\n",
    "import numpy as np  \n",
    "\n",
    "d= [178,177,176,177,178.2,178,175,179,180,175,178.9,176.2,177,172.5,178,176.5]\n",
    "\n",
    "df=pd.DataFrame(d)\n",
    "\n",
    "print(\"Mean\",df.mean())\n",
    "print(\"--------------------------\")\n",
    "print(\"Median\", df.median())\n",
    "print(\"--------------------------\")\n",
    "print(\"Mode\", (df.mode()))\n"
   ]
  },
  {
   "cell_type": "code",
   "execution_count": null,
   "id": "707e8397-81f4-4666-a886-92f6c17c5bed",
   "metadata": {},
   "outputs": [],
   "source": []
  },
  {
   "cell_type": "markdown",
   "id": "07beba60-4b57-4b20-a8b4-d9f6d00e312d",
   "metadata": {},
   "source": [
    "#### Q4. Find the standard deviation for the given data:\n",
    "[178,177,176,177,178.2,178,175,179,180,175,178.9,176.2,177,172.5,178,176.5]"
   ]
  },
  {
   "cell_type": "markdown",
   "id": "05582451-b6b8-4453-aaf9-3549b5048880",
   "metadata": {},
   "source": [
    "To calculate standard deviation of the given dataset we can use following formula.\n",
    "\n",
    "s = sqrt([∑(x - x̄)^2] / (n - 1))\\\n",
    "where s is the sample standard deviation,\\\n",
    "x is each value in the dataset,\\\n",
    "x̄ is the sample mean, and n is the sample size,\\\n",
    "n is number of dataset\n",
    "\n",
    "calculate the sample mean:\n",
    "\n",
    "x̄ = (178 + 177 + 176 + 177 + 178.2 + 178 + 175 + 179 + 180 + 175 + 178.9 + 176.2 + 177 + 172.5 + 178 + 176.5) / 16\n",
    "\n",
    "x̄ = 177.31\n",
    "\n",
    "calculate the sum of squared deviations from the mean:\n",
    "\n",
    "∑(x - x̄)^2 = (178 - 177.31)^2 + (177 - 177.31)^2 + (176 - 177.31)^2 + (177 - 177.31)^2 + (178.2 - 177.31)^2 + (178 - 177.31)^2 + (175 - 177.31)^2 + (179 - 177.31)^2 + (180 - 177.31)^2 + (175 - 177.31)^2 + (178.9 - 177.31)^2 + (176.2 - 177.31)^2 + (177 - 177.31)^2 + (172.5 - 177.31)^2 + (178 - 177.31)^2 + (176.5 - 177.31)^2\n",
    "\n",
    "∑(x - x̄)^2 = 314.46\n",
    "\n",
    "Finally, we can calculate the sample standard deviation:\n",
    "\n",
    "s = sqrt([∑(x - x̄)^2] / (n - 1))\n",
    "\n",
    "s = sqrt(314.46 / 15)\n",
    "\n",
    "s = 1.978\n",
    "\n",
    "Therefore, the sample standard deviation for the given data is approximately 1.978 cm.\n"
   ]
  },
  {
   "cell_type": "code",
   "execution_count": 9,
   "id": "da5fec31-27f8-435b-805d-520f6a28c191",
   "metadata": {},
   "outputs": [
    {
     "name": "stdout",
     "output_type": "stream",
     "text": [
      "std 0    1.847239\n",
      "dtype: float64\n"
     ]
    }
   ],
   "source": [
    "import pandas as pd \n",
    "import numpy as np\n",
    "\n",
    "data = [178,177,176,177,178.2,178,175,179,180,175,178.9,176.2,177,172.5,178,176.5]\n",
    "\n",
    "\n",
    "df=pd.DataFrame(data)\n",
    "print(\"std\", df.std())"
   ]
  },
  {
   "cell_type": "code",
   "execution_count": null,
   "id": "d0f2aabe-822e-4f3c-a5f5-c39cecfca43b",
   "metadata": {},
   "outputs": [],
   "source": []
  },
  {
   "cell_type": "markdown",
   "id": "38e0baba-a43f-40bf-895f-86612b5a3091",
   "metadata": {},
   "source": [
    "#### Q5. How are measures of dispersion such as range, variance, and standard deviation used to describe the spread of a dataset? Provide an example."
   ]
  },
  {
   "attachments": {
    "9173c27d-29d6-4d12-a43f-5858257f0c2a.png": {
     "image/png": "[encoded data removed]"
    },
    "b4c11ec5-b357-4eea-88f1-25c62f3005c6.png": {
     "image/png": "[encoded data removed]"
    }
   },
   "cell_type": "markdown",
   "id": "ad754ec4-41b2-4547-bc22-396648133f71",
   "metadata": {},
   "source": [
    "**Range**\\\n",
    "The range is the easiest dispersion of data or measure of variability. The range can measure by subtracting the lowest value from the massive Number. The wide range indicates high variability, and the small range specifies low variability in the distribution. To calculate a range, prepare all the values in ascending order, then subtract the lowest value from the highest value.\n",
    "\n",
    "**Range = Highest_value  – Lowest_value**\n",
    "\n",
    "**Variance**\\\n",
    "Variance is a simple measure of dispersion. Variance measures how far each number in the dataset from the mean. To compute variance first, calculate the mean and squared deviations from a mean.\n",
    "\n",
    "![image.png](attachment:b4c11ec5-b357-4eea-88f1-25c62f3005c6.png)\n",
    "\n",
    "**Standard Deviation**\\\n",
    "Standard deviation is a squared root of the variance to get original values. Low standard deviation indicates data points close to mean.\n",
    "![image.png](attachment:9173c27d-29d6-4d12-a43f-5858257f0c2a.png)\n",
    "\n",
    "The variance and standard deviation are more precise measures of dispersion that take into account the distance of each data point from the mean. The variance is calculated as the average of the squared deviations from the mean, while the standard deviation is the square root of the variance. A higher variance or standard deviation indicates that the data points are more spread out from the mean, while a lower variance or standard deviation indicates that the data points are more tightly clustered around the mean.\n",
    "\n",
    "For example, consider two datasets of student scores on a test:\n",
    "\n",
    "Dataset 1: [70, 75, 80, 85, 90]\\\n",
    "Dataset 2: [60, 70, 80, 90, 100]\n",
    "\n",
    "Both datasets have the same mean score of 80, but they have different spreads of scores. The range of Dataset 1 is 20 (90-70), while the range of Dataset 2 is 40 (100-60), indicating that the scores in Dataset 2 are more spread out. The variance of Dataset 1 is 62.5, and the standard deviation is 7.91, while the variance of Dataset 2 is 200 and the standard deviation is 14.14, again indicating that the scores in Dataset 2 are more spread out. Therefore, measures of dispersion such as range, variance, and standard deviation can provide valuable information about the spread of a dataset and help us better understand the distribution of data points.\n"
   ]
  },
  {
   "cell_type": "code",
   "execution_count": null,
   "id": "8cf2dedd-e0f3-44c0-a2ae-b10a60bf53c6",
   "metadata": {},
   "outputs": [],
   "source": []
  },
  {
   "cell_type": "markdown",
   "id": "efd3a1b4-52e8-44b3-a5dd-ca630a939042",
   "metadata": {},
   "source": [
    "#### Q6. What is a Venn diagram?\n",
    "Ans:\n",
    "A Venn diagram is a graphical representation of the relationships between different sets or groups of data. It consists of overlapping circles or ellipses, each representing a set or group, with the overlap representing the elements that are common to both sets.\n",
    "\n",
    "Venn diagrams are used to visually represent the similarities and differences between two or more sets or groups of data. They can be used to identify and compare the elements that are unique to each set or common to multiple sets, making them a useful tool in various fields such as mathematics, logic, statistics, and data science.\n",
    "\n",
    "Venn diagrams can be used to represent different types of relationships between sets or groups, including the following:\n",
    "\n",
    "Disjoint sets: Two sets that have no elements in common.\n",
    "\n",
    "Overlapping sets: Two or more sets that share some common elements.\n",
    "\n",
    "Nested sets: Sets that are contained within other sets.\n",
    "\n",
    "Venn diagrams can be drawn by hand or using software such as Microsoft Excel, Google Sheets, or specialized Venn diagram software. They are a powerful tool for visualizing data and communicating complex ideas in a clear and concise manner.\n",
    "\n"
   ]
  },
  {
   "cell_type": "code",
   "execution_count": null,
   "id": "caf57fb0-04bb-4927-8600-c784e6d55fdb",
   "metadata": {},
   "outputs": [],
   "source": []
  },
  {
   "cell_type": "markdown",
   "id": "224c08b8-8c51-47f6-b691-d7eb89254f21",
   "metadata": {},
   "source": [
    "#### Q7. For the two given sets A = (2,3,4,5,6,7) & B = (0,2,6,8,10). \n",
    "**Find:\n",
    "(i) A intersection B\n",
    "(ii) A ⋃ B**\n",
    "\n",
    "Ans:\n",
    "\n",
    "(i) A intersection B represents the set of elements that are common to both sets A and B. To find A intersection B, we need to identify the elements that appear in both sets. From the given sets, we see that the common element between A and B is 2 and 6.\\\n",
    "**Therefore, A intersection B = {2,6}**\n",
    "\n",
    "(ii) A ⋃ B represents the union of sets A and B, which includes all the elements that are in either set A or set B, or both. To find A ⋃ B, we need to combine the elements from both sets and remove any duplicates. \n",
    "The combined set is:{0, 2, 3, 4, 5, 6, 7, 8, 10}\\\n",
    "**Therefore, A ⋃ B = {0, 2, 3, 4, 5, 6, 7, 8, 10}**\n",
    "\n"
   ]
  },
  {
   "cell_type": "code",
   "execution_count": 10,
   "id": "8abd7e5a-aa09-4feb-ac3e-84068e037cd4",
   "metadata": {},
   "outputs": [
    {
     "name": "stdout",
     "output_type": "stream",
     "text": [
      "A intersection B =  {2, 6}\n",
      "A U B =  {0, 2, 3, 4, 5, 6, 7, 8, 10}\n"
     ]
    }
   ],
   "source": [
    "A = {2,3,4,5,6,7} \n",
    "B = {0,2,6,8,10}\n",
    "\n",
    "print('A intersection B = ',A.intersection(B))\n",
    "print('A U B = ', A.union(B))\n"
   ]
  },
  {
   "cell_type": "code",
   "execution_count": null,
   "id": "0c936292-ef1e-419e-a6bd-76eec928509a",
   "metadata": {},
   "outputs": [],
   "source": []
  },
  {
   "cell_type": "markdown",
   "id": "9f4f4cc6-6890-49aa-b810-033494ae7a33",
   "metadata": {},
   "source": [
    "#### Q8. What do you understand about skewness in data?\n",
    "\n",
    "Skewness is a measure of the asymmetry or lack of symmetry in a dataset. It indicates the degree to which the data is skewed or distorted from a normal distribution.\n",
    "\n",
    "In a normal distribution, the data is symmetrical, with an equal number of data points on either side of the mean. However, in a skewed distribution, the data is not evenly distributed, with one tail of the distribution being longer or stretched out than the other.\n",
    "\n",
    "There are two types of skewness:\n",
    "\n",
    "Positive skewness: In a positively skewed distribution, the tail of the distribution extends to the right, with most of the data concentrated on the left side of the distribution. This is also called right-skewed or right-tailed distribution.\n",
    "\n",
    "Negative skewness: In a negatively skewed distribution, the tail of the distribution extends to the left, with most of the data concentrated on the right side of the distribution. This is also called left-skewed or left-tailed distribution.\n",
    "\n",
    "Skewness can have an impact on statistical analysis, as it can affect the central tendency of the data (mean, median, and mode) and the accuracy of some statistical tests. It is important to identify the presence and degree of skewness in a dataset before making any conclusions or decisions based on the data."
   ]
  },
  {
   "cell_type": "code",
   "execution_count": null,
   "id": "9baf2016-3210-49a3-a0e4-c826dda2c81e",
   "metadata": {},
   "outputs": [],
   "source": []
  },
  {
   "cell_type": "markdown",
   "id": "2ea5d3d3-53f0-46e7-a776-daa1295a1ec4",
   "metadata": {},
   "source": [
    "#### Q9. If a data is right skewed then what will be the position of median with respect to mean?\n",
    "Ans:\n",
    "If a data is right skewed, the median will be less than the mean. This is because in a right-skewed distribution, the tail of the distribution is on the right side, which means there are some extreme values on the right side that pull the mean towards the right, making it higher than the median. The median, on the other hand, is not affected by extreme values and is only influenced by the values in the middle of the distribution. As a result, the median is typically less than the mean in a right-skewed distribution."
   ]
  },
  {
   "cell_type": "code",
   "execution_count": null,
   "id": "bacf7e75-1aed-4bc1-bbf4-4daca67f08d8",
   "metadata": {},
   "outputs": [],
   "source": []
  },
  {
   "cell_type": "markdown",
   "id": "65e76d83-3f01-4d28-be87-2a9bc64eaa78",
   "metadata": {},
   "source": [
    "#### Q10. Explain the difference between covariance and correlation. How are these measures used in statistical analysis?\n",
    "Ans:\n",
    "    \n",
    "Covariance and correlation are both measures of the relationship between two variables in a dataset. However, there are some key differences between these two measures:\n",
    "\n",
    "Definition: Covariance measures the degree to which two variables in a dataset vary together, while correlation measures the strength and direction of the linear relationship between two variables.\n",
    "\n",
    "Range of values: Covariance can take on any value between negative infinity and positive infinity, while correlation is limited to values between -1 and 1.\n",
    "\n",
    "Interpretation: A positive covariance indicates that two variables tend to increase or decrease together, while a negative covariance indicates that one variable tends to increase while the other decreases. However, the magnitude of covariance is difficult to interpret. On the other hand, correlation provides a clear indication of the strength and direction of the relationship between two variables. A positive correlation means that as one variable increases, the other variable tends to increase, and vice versa. A negative correlation means that as one variable increases, the other variable tends to decrease, and vice versa.\n",
    "\n",
    "Units: Covariance is expressed in the units of the variables being measured, while correlation is unitless, as it measures the relationship between variables relative to their standard deviations.\n",
    "\n",
    "In statistical analysis, covariance and correlation are both used to determine the relationship between two variables. Covariance is used to measure the strength of the linear relationship between two variables, while correlation is used to quantify both the strength and direction of the relationship. Correlation is considered to be a more useful measure than covariance because it is standardized and provides more meaningful results. Correlation is also used to identify relationships between variables in regression analysis, while covariance is used in portfolio analysis to calculate the risk and return of multiple assets\n",
    "\n"
   ]
  },
  {
   "cell_type": "code",
   "execution_count": null,
   "id": "f1b35cb8-abc3-4b39-b93e-bcda5eb652d6",
   "metadata": {},
   "outputs": [],
   "source": []
  },
  {
   "cell_type": "markdown",
   "id": "31eecded-7f89-43af-af32-593a26b37d7d",
   "metadata": {},
   "source": [
    "#### Q11. What is the formula for calculating the sample mean? Provide an example calculation for a dataset.\n",
    "Ans:\n",
    "\n",
    "The formula for calculating the sample mean (also known as the arithmetic mean) is:\n",
    "\n",
    "sample mean = (sum of all values in the dataset) / (number of values in the dataset)\n",
    "\n",
    "For example, consider the following dataset:\n",
    "\n",
    "4, 8, 6, 10, 12\n",
    "\n",
    "To find the sample mean of this dataset, we first need to add up all the values:\n",
    "\n",
    "4 + 8 + 6 + 10 + 12 = 40\n",
    "\n",
    "Next, we divide the sum by the number of values in the dataset, which is 5:\n",
    "\n",
    "sample mean = 40 / 5 = 8\n",
    "\n",
    "Therefore, the sample mean of this dataset is 8."
   ]
  },
  {
   "cell_type": "code",
   "execution_count": null,
   "id": "b06b8b67-fa0d-4dd9-bdda-3af0650a8566",
   "metadata": {},
   "outputs": [],
   "source": []
  },
  {
   "cell_type": "markdown",
   "id": "f92a49e3-5285-43f0-91fe-68f8ab4dfc72",
   "metadata": {},
   "source": [
    "#### Q12. For a normal distribution data what is the relationship between its measure of central tendency?\n",
    "Ans:\n",
    "For a normal distribution, the mean, median, and mode are all equal. In other words, the measure of central tendency is the same, and they are located at the center of the distribution. This is because a normal distribution is symmetric around its mean, so the middle value (median) is the same as the average value (mean), which is also the most frequent value (mode).\n",
    "\n",
    "This relationship between the mean, median, and mode is a key characteristic of a normal distribution and can be used to identify if a dataset is approximately normally distributed"
   ]
  },
  {
   "cell_type": "code",
   "execution_count": null,
   "id": "b4f584f1-c9f3-4383-9636-05ccbf7a9565",
   "metadata": {},
   "outputs": [],
   "source": []
  },
  {
   "cell_type": "markdown",
   "id": "ab0c3104-ad25-4f44-bb00-3c5a5f7b95fe",
   "metadata": {},
   "source": [
    "#### Q13. How is covariance different from correlation?\n",
    "Ans:\n",
    "    \n",
    "Covariance and correlation are two different measures of the relationship between two variables in a dataset:\n",
    "\n",
    "Definition: Covariance measures the degree to which two variables in a dataset vary together, while correlation measures the strength and direction of the linear relationship between two variables.\n",
    "\n",
    "Range of values: Covariance can take on any value between negative infinity and positive infinity, while correlation is limited to values between -1 and 1.\n",
    "\n",
    "Interpretation: A positive covariance indicates that two variables tend to increase or decrease together, while a negative covariance indicates that one variable tends to increase while the other decreases. However, the magnitude of covariance is difficult to interpret. On the other hand, correlation provides a clear indication of the strength and direction of the relationship between two variables. A positive correlation means that as one variable increases, the other variable tends to increase, and vice versa. A negative correlation means that as one variable increases, the other variable tends to decrease, and vice versa.\n",
    "\n",
    "Units: Covariance is expressed in the units of the variables being measured, while correlation is unitless, as it measures the relationship between variables relative to their standard deviations.\n",
    "\n",
    "In summary, covariance and correlation are both measures of the relationship between two variables, but correlation is considered a more useful measure than covariance because it is standardized, provides more meaningful results, and is easier to interpret."
   ]
  },
  {
   "cell_type": "code",
   "execution_count": null,
   "id": "087e9b3d-3486-45b0-b9ee-e54600e660a2",
   "metadata": {},
   "outputs": [],
   "source": []
  },
  {
   "cell_type": "markdown",
   "id": "49c76f61-764e-4ebf-8073-ed5a344b99fd",
   "metadata": {},
   "source": [
    "#### Q14. How do outliers affect measures of central tendency and dispersion? Provide an example.\n",
    "Outliers are extreme values that differ significantly from the other values in a dataset. They can have a significant impact on measures of central tendency and dispersion:\n",
    "\n",
    "Measures of central tendency: Outliers can greatly affect the mean, but have little effect on the median and mode. This is because the mean is sensitive to extreme values, and outliers can pull it towards the extreme end of the distribution. For example, consider a dataset of salaries for a company that looks like this:\n",
    "\n",
    "30,000, 35,000, 40,000, 45,000, 50,000, 55,000, 60,000, 75,000, 100,000\n",
    "\n",
    "The mean salary is (30,000+35,000+40,000+45,000+50,000+55,000+60,000+75,000+100,000) / 9 = 54,444. The outlier of 100,000 has pulled the mean towards the upper end of the distribution.\n",
    "\n",
    "Measures of dispersion: Outliers can greatly affect measures of dispersion such as range, variance, and standard deviation. For example, consider the same salary dataset as above. The range of salaries is 100,000 - 30,000 = 70,000. However, if we remove the outlier of 100,000, the range becomes 60,000 - 30,000 = 30,000. Similarly, the variance and standard deviation will be larger if the dataset includes an outlier.\n",
    "\n",
    "In summary, outliers can greatly affect measures of central tendency and dispersion, and it is important to identify and handle them appropriately in statistical analysis."
   ]
  },
  {
   "cell_type": "code",
   "execution_count": null,
   "id": "0019a711-f197-44d2-bd47-02ce2c2968c9",
   "metadata": {},
   "outputs": [],
   "source": []
  }
 ],
 "metadata": {
  "kernelspec": {
   "display_name": "Python 3 (ipykernel)",
   "language": "python",
   "name": "python3"
  },
  "language_info": {
   "codemirror_mode": {
    "name": "ipython",
    "version": 3
   },
   "file_extension": ".py",
   "mimetype": "text/x-python",
   "name": "python",
   "nbconvert_exporter": "python",
   "pygments_lexer": "ipython3",
   "version": "3.10.8"
  }
 },
 "nbformat": 4,
 "nbformat_minor": 5
}
