{
 "cells": [
  {
   "cell_type": "markdown",
   "id": "1ec0c5c4-c57f-4300-8c56-2c7ab26272d8",
   "metadata": {},
   "source": [
    "#### Q1. Create a Pandas Series that contains the following data: 4, 8, 15, 16, 23, and 42. Then, print the series.\n"
   ]
  },
  {
   "cell_type": "code",
   "execution_count": 12,
   "id": "dd4fa19d-034c-4698-8c11-3879e521e986",
   "metadata": {},
   "outputs": [
    {
     "name": "stdout",
     "output_type": "stream",
     "text": [
      "0     4\n",
      "1     8\n",
      "2    15\n",
      "3    16\n",
      "4    23\n",
      "5    42\n",
      "dtype: int64\n",
      "--------------------------\n",
      "Type: <class 'pandas.core.series.Series'>\n"
     ]
    }
   ],
   "source": [
    "import pandas as pd\n",
    "\n",
    "data=[4, 8, 15, 16, 23, 42]\n",
    "\n",
    "ser = pd.Series(data)\n",
    "print(ser)\n",
    "print('--------------------------')\n",
    "print('Type:',type(ser))"
   ]
  },
  {
   "cell_type": "code",
   "execution_count": null,
   "id": "2dd16004-f738-41a2-8086-bd22b1ce1c2d",
   "metadata": {},
   "outputs": [],
   "source": []
  },
  {
   "cell_type": "markdown",
   "id": "8e8b2c38-b11e-4599-a31c-12ab30487fe4",
   "metadata": {},
   "source": [
    "#### Q2. Create a variable of list type containing 10 elements in it, and apply pandas.Series function on the variable print it."
   ]
  },
  {
   "cell_type": "code",
   "execution_count": 11,
   "id": "34ce44a9-f802-49d0-a224-0c486dd6d388",
   "metadata": {},
   "outputs": [
    {
     "name": "stdout",
     "output_type": "stream",
     "text": [
      "0                          id\n",
      "1                 location_id\n",
      "2                  program_id\n",
      "3           accepted_payments\n",
      "4              alternate_name\n",
      "5         application_process\n",
      "6                    audience\n",
      "7                 description\n",
      "8                 eligibility\n",
      "9                       email\n",
      "10                       fees\n",
      "11            funding_sources\n",
      "12    interpretation_services\n",
      "13                   keywords\n",
      "14                  languages\n",
      "15                       name\n",
      "16         required_documents\n",
      "17              service_areas\n",
      "18                     status\n",
      "19                  wait_time\n",
      "20                    website\n",
      "21               taxonomy_ids\n",
      "dtype: object\n",
      "--------------------------\n",
      "Type: <class 'pandas.core.series.Series'>\n"
     ]
    }
   ],
   "source": [
    "data= ['id', 'location_id', 'program_id', 'accepted_payments',\n",
    "       'alternate_name', 'application_process', 'audience', 'description',\n",
    "       'eligibility', 'email', 'fees', 'funding_sources',\n",
    "       'interpretation_services', 'keywords', 'languages', 'name',\n",
    "       'required_documents', 'service_areas', 'status', 'wait_time', 'website',\n",
    "       'taxonomy_ids']\n",
    "\n",
    "ser = pd.Series(data)\n",
    "print(ser)\n",
    "print('--------------------------')\n",
    "print('Type:',type(ser))\n"
   ]
  },
  {
   "cell_type": "code",
   "execution_count": null,
   "id": "b9ced1d3-12ae-4b37-abac-8edb3ac152d7",
   "metadata": {},
   "outputs": [],
   "source": []
  },
  {
   "attachments": {
    "9eaaa7b9-a815-4c1a-9e4e-9559a532824c.png": {
     "image/png": "[encoded data removed]"
    }
   },
   "cell_type": "markdown",
   "id": "dd7ce608-6dcf-4199-ac04-ffe807ec6fad",
   "metadata": {},
   "source": [
    "#### Q3. Create a Pandas DataFrame that contains the following data: Then, print the DataFrame.\n",
    "![image.png](attachment:9eaaa7b9-a815-4c1a-9e4e-9559a532824c.png)"
   ]
  },
  {
   "cell_type": "code",
   "execution_count": 13,
   "id": "2f3f53e4-5ecb-43cf-81cf-2dacce8d6687",
   "metadata": {},
   "outputs": [
    {
     "name": "stdout",
     "output_type": "stream",
     "text": [
      "     Name  Age  Gender\n",
      "0   Alice   25  Female\n",
      "1     Bob   30    Male\n",
      "2  Claire   27  Female\n",
      "--------------------------\n",
      "Type: <class 'pandas.core.frame.DataFrame'>\n"
     ]
    }
   ],
   "source": [
    "data = {'Name': ['Alice', 'Bob', 'Claire'],\n",
    "        'Age': [25, 30, 27],\n",
    "        'Gender': ['Female','Male','Female']}\n",
    "\n",
    "df = pd.DataFrame(data)\n",
    "print(df)\n",
    "print('--------------------------')\n",
    "print('Type:',type(df))"
   ]
  },
  {
   "cell_type": "code",
   "execution_count": null,
   "id": "13cf7deb-23f9-466f-bf1d-471b5c6e267f",
   "metadata": {},
   "outputs": [],
   "source": []
  },
  {
   "cell_type": "markdown",
   "id": "fe3b3f0c-2d79-43ea-a296-fad1f3ff3887",
   "metadata": {
    "tags": []
   },
   "source": [
    "#### Q4. What is ‘DataFrame’ in pandas and how is it different from pandas.series? Explain with an example.\n",
    "Ans: \n",
    "Pandas DataFrame is a widely used data structure which works with a two-dimensional array with labeled axes (rows and columns). DataFrame is defined as a standard way to store data that has two different indexes, i.e., row index and column index.\n",
    "\n",
    "Pandas Series is a one-dimensional labeled array capable of holding data of any type (integer, string, float, python objects, etc.).\n",
    "\n",
    "**Diffrence between series and DataFrame**\n",
    "|Pandas Series|Pandas DataFrame|\n",
    "|----|-----|\n",
    "|series is One-dimensional|DataFrame is Two-dimensional|\n",
    "|Homogenous – Series elements must be of the same data type.|Heterogenous – DataFrame elements can have different data types.|\n",
    "|Size-immutable – Once created, the size of a Series object cannot be changed.|Size-mutable – Elements can be dropped or added in an existing DataFrame.|\n"
   ]
  },
  {
   "cell_type": "code",
   "execution_count": 26,
   "id": "6b55a3a7-2cf3-4c7d-876f-7d4c301e9398",
   "metadata": {},
   "outputs": [
    {
     "name": "stdout",
     "output_type": "stream",
     "text": [
      "Pandas Series:\n",
      " 0     4\n",
      "1     8\n",
      "2    15\n",
      "3    16\n",
      "4    23\n",
      "5    42\n",
      "dtype: int64\n",
      "---------------------------------\n",
      "Pandas DataFrame:\n",
      "      Name  Age  Gender\n",
      "0   Alice   25  Female\n",
      "1     Bob   30    Male\n",
      "2  Claire   27  Female\n"
     ]
    }
   ],
   "source": [
    "data1=[4, 8, 15, 16, 23, 42]\n",
    "\n",
    "# creating pandas series\n",
    "seri = pd.Series(data1)\n",
    "\n",
    "# creating pandas DataFrame\n",
    "data2 = {'Name': ['Alice', 'Bob', 'Claire'],\n",
    "        'Age': [25, 30, 27],\n",
    "        'Gender': ['Female','Male','Female']}\n",
    "dfs = pd.DataFrame(data2)\n",
    "\n",
    "# Printing the Series and DataFrame\n",
    "print(\"Pandas Series:\\n\", seri)\n",
    "print('---------------------------------')\n",
    "print(\"Pandas DataFrame:\\n\", dfs)"
   ]
  },
  {
   "cell_type": "code",
   "execution_count": null,
   "id": "7a3258a8-a974-443e-8e69-3a6c35e3567d",
   "metadata": {},
   "outputs": [],
   "source": []
  },
  {
   "cell_type": "markdown",
   "id": "64573c84-270f-4230-98ed-6fdb0f45c62c",
   "metadata": {},
   "source": [
    "#### Q5. What are some common functions you can use to manipulate data in a Pandas DataFrame? Can you give an example of when you might use one of these functions?\n",
    "Ans:\n",
    "\n",
    "Pandas provides a wide range of functions that can be used to manipulate data in a DataFrame. Some common functions include:\n",
    "\n",
    "* head() and tail(): to view the first or last n rows of a DataFrame\n",
    "* describe(): to view the statistical summary of the DataFrame \n",
    "* shape: to view the number of rows and columns in the DataFrame \n",
    "* drop(): to remove rows or columns from the DataFrame \n",
    "* groupby(): to group rows based on a column and apply a function to each group \n",
    "* sort_values(): to sort the DataFrame by one or more columns \n",
    "* fillna(): to fill missing values in the DataFrame with a specified value or method \n",
    "* apply(): to apply a function to each element of a DataFrame or a Series \n",
    "* merge(): to join two or more DataFrames based on a common column or index. \n",
    "\n",
    "example: lets assume we want to see the summary of age in the below DataFrame\n",
    "\n"
   ]
  },
  {
   "cell_type": "code",
   "execution_count": 31,
   "id": "f2c06709-1b04-4e94-a1e0-03e6c0ff6838",
   "metadata": {},
   "outputs": [
    {
     "name": "stdout",
     "output_type": "stream",
     "text": [
      "count        3.000000\n",
      "mean     27333.333333\n",
      "std       2516.611478\n",
      "min      25000.000000\n",
      "25%      26000.000000\n",
      "50%      27000.000000\n",
      "75%      28500.000000\n",
      "max      30000.000000\n",
      "Name: Salary, dtype: float64\n"
     ]
    }
   ],
   "source": [
    "data3 = {'Name': ['Alice', 'Bob', 'Claire'],\n",
    "        'Age': [25, 30, 27],\n",
    "        'Gender': ['Female','Male','Female'],\n",
    "        'Salary': [25000, 30000, 27000],}\n",
    "\n",
    "df3 = pd.DataFrame(data3)\n",
    "# Using the describe() function to view the statistical summary of the Salary column\n",
    "print(df3['Salary'].describe())"
   ]
  },
  {
   "cell_type": "code",
   "execution_count": null,
   "id": "2f2e255f-a697-4399-86ee-6e04814bf60f",
   "metadata": {},
   "outputs": [],
   "source": []
  },
  {
   "cell_type": "markdown",
   "id": "7af01072-a4cb-4164-afd2-70986839c977",
   "metadata": {},
   "source": [
    "#### Q6. Which of the following is mutable in nature Series, DataFrame, Panel?\n",
    "Ans:\n",
    "In pandas Series, DataFrame, Panel data structure only DataFrame and panel is mutable in nature beacause we are able to perform the operations like add or drop in an existing DataFrame.\n",
    "\n",
    "A DataFrame is mutable because you can add, remove or modify columns and rows. Similarly, a Panel is mutable because you can add or remove items along the axis.\n",
    "\n",
    "On the other hand, a Series is immutable because it represents a single column of data with an index. Once created, you cannot add or remove elements from a Series. However, you can modify the values of existing elements in a Series."
   ]
  },
  {
   "cell_type": "markdown",
   "id": "b34ed3c7-79df-46cb-9006-39bc6845e356",
   "metadata": {},
   "source": [
    "#### Q7. Create a DataFrame using multiple Series. Explain with an example."
   ]
  },
  {
   "cell_type": "code",
   "execution_count": 36,
   "id": "a353433c-dd8b-448b-aafa-3db01b04835e",
   "metadata": {},
   "outputs": [
    {
     "name": "stdout",
     "output_type": "stream",
     "text": [
      "     Name  Age  Gender  Salery\n",
      "0   Alice   25  Female   25000\n",
      "1     Bob   30    Male   30000\n",
      "2  Claire   27  Female   27000\n"
     ]
    }
   ],
   "source": [
    "#Importing Pandas library\n",
    "import pandas as pd\n",
    " \n",
    "#Creating two lists\n",
    "Name= ['Alice', 'Bob', 'Claire']\n",
    "Age = [25, 30, 27]\n",
    "Gender = ['Female','Male','Female']\n",
    "Salary= [25000, 30000, 27000]\n",
    "\n",
    "\n",
    "#Creating Series by passing lists\n",
    "name_series = pd.Series(Name)\n",
    "age_series = pd.Series(Age)\n",
    "gender_series = pd.Series(Gender)\n",
    "salery_series = pd.Series(Salary)\n",
    "#Creating a dictionary by passing Series objects as values\n",
    "frame = { 'Name':name_series,'Age':age_series,'Gender':gender_series,'Salery':salery_series }\n",
    "#Creating DataFrame by passing Dictionary\n",
    "result = pd.DataFrame(frame)\n",
    "#Printing elements of Dataframe\n",
    "print(result)"
   ]
  },
  {
   "cell_type": "code",
   "execution_count": null,
   "id": "f9ccb6eb-8885-4c72-9f64-a59b98892613",
   "metadata": {},
   "outputs": [],
   "source": []
  }
 ],
 "metadata": {
  "kernelspec": {
   "display_name": "Python 3 (ipykernel)",
   "language": "python",
   "name": "python3"
  },
  "language_info": {
   "codemirror_mode": {
    "name": "ipython",
    "version": 3
   },
   "file_extension": ".py",
   "mimetype": "text/x-python",
   "name": "python",
   "nbconvert_exporter": "python",
   "pygments_lexer": "ipython3",
   "version": "3.10.8"
  }
 },
 "nbformat": 4,
 "nbformat_minor": 5
}
