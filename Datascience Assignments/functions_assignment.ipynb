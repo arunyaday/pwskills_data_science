{
 "cells": [
  {
   "cell_type": "markdown",
   "id": "0e708c9d-42c9-4da4-9a0d-37e8d0c193c4",
   "metadata": {},
   "source": [
    "Q1. Which keyword is used to create a function?Create a function to return a list of odd numbers in the  range of 1 to 25.\\ \n",
    "\n",
    "Ans: def keyword is used to create a function. "
   ]
  },
  {
   "cell_type": "code",
   "execution_count": 15,
   "id": "1cdf73b7-254f-4c87-a595-21d2f28289a3",
   "metadata": {},
   "outputs": [
    {
     "data": {
      "text/plain": [
       "[1, 3, 5, 7, 9, 11, 13, 15, 17, 19, 21, 23, 25]"
      ]
     },
     "execution_count": 15,
     "metadata": {},
     "output_type": "execute_result"
    }
   ],
   "source": [
    "#function for return a list of odd numbers in the  range of 1 to 25\n",
    "def odd_num(start, end):\n",
    "    odd_nums=[]\n",
    "    for i in range(start,end+1):\n",
    "        if i%2!=0:\n",
    "            odd_nums.append(i)  \n",
    "    return odd_nums\n",
    "\n",
    "odd_num(1,25)\n"
   ]
  },
  {
   "cell_type": "code",
   "execution_count": null,
   "id": "c63a3f6b-6cee-4902-b71d-16fc64e2a88c",
   "metadata": {},
   "outputs": [],
   "source": []
  },
  {
   "cell_type": "markdown",
   "id": "6c955f37-7391-4ed1-b1af-b5b4114dd11a",
   "metadata": {},
   "source": [
    "Q2. Why *args and **kwargs is used in some functions? Create a function each for *args and **kwargs to  demonstrate their use. \n",
    "\n",
    "Ans: we can use *args and **kwargs as arguments of a function when you are unsure about the number of arguments to pass in the functions."
   ]
  },
  {
   "cell_type": "code",
   "execution_count": 22,
   "id": "2d73ba5f-426e-423b-9166-421118b085fc",
   "metadata": {},
   "outputs": [
    {
     "name": "stdout",
     "output_type": "stream",
     "text": [
      "Hello\n",
      "Welcome\n",
      "to\n",
      "Mumbai\n"
     ]
    }
   ],
   "source": [
    "#example of *args\n",
    "def args_Fun(*args):\n",
    "\tfor arg in args:\n",
    "\t\tprint(arg)\n",
    "\n",
    "args_Fun('Hello', 'Welcome', 'to', 'Mumbai')\n"
   ]
  },
  {
   "cell_type": "code",
   "execution_count": 21,
   "id": "af01ec93-487b-4e7e-bdad-9339b014f869",
   "metadata": {},
   "outputs": [
    {
     "name": "stdout",
     "output_type": "stream",
     "text": [
      "first_name : Ajay\n",
      "mid_name : Manoj\n",
      "last_name : Yadav\n"
     ]
    }
   ],
   "source": [
    "#example of **kwargs\n",
    "def myFun(**kwargs):\n",
    "\tfor key, value in kwargs.items():\n",
    "\t\tprint(\"%s : %s\" % (key, value))\n",
    "\n",
    "myFun(first_name='Ajay', mid_name='Manoj', last_name='Yadav')\n"
   ]
  },
  {
   "cell_type": "code",
   "execution_count": null,
   "id": "3e23abcc-e63e-4031-879b-ef60009ed1cd",
   "metadata": {},
   "outputs": [],
   "source": []
  },
  {
   "cell_type": "markdown",
   "id": "67cfc5c3-6d6a-4a8a-ba53-5b982678f31b",
   "metadata": {},
   "source": [
    "Q3.  What is an iterator in python? Name the method used to initialise the iterator object and the method  used for iteration.\\\n",
    "Use these methods to print the first five elements of the given list [2, 4, 6, 8, 10, 12, 14, 16,  18, 20]. \n",
    "\n",
    "Ans: Iterator in Python is an object that is used to iterate over iterable objects like lists, tuples, dicts, and sets. The iterator object is initialized using the iter() method. It uses the next() method for iteration.\n",
    "* The iter() method is called for the initialization of an iterator. This returns an iterator object\n",
    "* The next() method returns the next value for the iterable. When we use a for loop to traverse any iterable object, internally it uses the iter() method to get an iterator object, which further uses the next() method to iterate over. This method raises a StopIteration to signal the end of the iteration.\n"
   ]
  },
  {
   "cell_type": "code",
   "execution_count": 20,
   "id": "f1af6d82-a632-42e3-ae15-276f0bac4ef8",
   "metadata": {},
   "outputs": [
    {
     "name": "stdout",
     "output_type": "stream",
     "text": [
      "2 4 6 8 10 "
     ]
    }
   ],
   "source": [
    "#print the first five elements of the given list\n",
    "list_num =  [2, 4, 6, 8, 10, 12, 14, 16, 18, 20]\n",
    "ch_iterator = iter(list_num)\n",
    "\n",
    "for i in range(5):\n",
    "    print(next(ch_iterator), end=\" \")\n"
   ]
  },
  {
   "cell_type": "code",
   "execution_count": null,
   "id": "d32c72fe-46d5-4100-bbad-8eb37325dd3c",
   "metadata": {},
   "outputs": [],
   "source": []
  },
  {
   "cell_type": "markdown",
   "id": "9bdf2f2c-78f8-40af-a779-9e7dfa339526",
   "metadata": {},
   "source": [
    "Q4.  What is a generator function in python? Why yield keyword is used? Give an example of a generator  function. \n",
    "\n",
    "Ans: \n",
    "* In Python, a generator is a function that returns an iterator that produces a sequence of values when iterated over.\n",
    "* Generators are useful when we want to produce a large sequence of values, but we don't want to store all of them in memory at once.\n",
    "* In Python, similar to defining a normal function, we can define a generator function using the def keyword, but instead of the return statement we use the yield statement.\n",
    "* yield keyword is used to create a generator function. A type of function that is memory efficient and can be used like an iterator object.\n",
    "\n"
   ]
  },
  {
   "cell_type": "code",
   "execution_count": 19,
   "id": "791f5000-3cdb-4bb2-b33f-2a30a8f43119",
   "metadata": {},
   "outputs": [
    {
     "name": "stdout",
     "output_type": "stream",
     "text": [
      "0 1 2 3 4 5 "
     ]
    }
   ],
   "source": [
    "#example\n",
    "def generator_example(n):\n",
    "    num = 0\n",
    "    while num <= n:\n",
    "        yield num\n",
    "        num += 1\n",
    "for nums in generator_example(5):\n",
    "    print(nums, end=\" \")"
   ]
  },
  {
   "cell_type": "code",
   "execution_count": null,
   "id": "d4264992-6413-47b0-ad4c-4702ac5ce3c5",
   "metadata": {},
   "outputs": [],
   "source": []
  },
  {
   "cell_type": "markdown",
   "id": "25e5396a-5d89-417b-b689-59e9e08aa1c2",
   "metadata": {},
   "source": [
    "Q5. Create a generator function for prime numbers less than 1000. Use the next() method to print the  first 20 prime numbers.\\\n",
    "Ans:"
   ]
  },
  {
   "cell_type": "code",
   "execution_count": 17,
   "id": "bfc34207-ade0-4185-905b-44bc9ba17333",
   "metadata": {},
   "outputs": [
    {
     "name": "stdout",
     "output_type": "stream",
     "text": [
      "2 3 5 7 11 13 17 19 23 29 31 37 41 43 47 53 59 61 67 71 "
     ]
    }
   ],
   "source": [
    "def prime_numbers():\n",
    "    \"\"\"Create a generator function for prime numbers less than 1000\"\"\"\n",
    "    yield 2\n",
    "    prime_nums = [2]\n",
    "    for i in range(3, 1000):\n",
    "        is_prime = True\n",
    "        for prime in prime_nums:\n",
    "            if i % prime == 0:\n",
    "                is_prime = False\n",
    "                break\n",
    "        if is_prime:\n",
    "            prime_nums.append(i)\n",
    "            yield i\n",
    "\n",
    "prime_gen = primes()\n",
    "# the next() method to print the first 20 prime numbers.\n",
    "for i in range(20):\n",
    "    print(next(prime_gen), end=\" \")"
   ]
  }
 ],
 "metadata": {
  "kernelspec": {
   "display_name": "Python 3 (ipykernel)",
   "language": "python",
   "name": "python3"
  },
  "language_info": {
   "codemirror_mode": {
    "name": "ipython",
    "version": 3
   },
   "file_extension": ".py",
   "mimetype": "text/x-python",
   "name": "python",
   "nbconvert_exporter": "python",
   "pygments_lexer": "ipython3",
   "version": "3.10.8"
  }
 },
 "nbformat": 4,
 "nbformat_minor": 5
}
