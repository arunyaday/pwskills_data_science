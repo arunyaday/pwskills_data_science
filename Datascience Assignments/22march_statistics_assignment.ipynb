{
 "cells": [
  {
   "cell_type": "markdown",
   "id": "5171ba09-f402-4333-bb67-41ad5bc9d7fb",
   "metadata": {},
   "source": [
    "#### Q1. Pearson correlation coefficient is a measure of the linear relationship between two variables. Suppose you have collected data on the amount of time students spend studying for an exam and their final exam scores. Calculate the Pearson correlation coefficient between these two variables and interpret the result.\n",
    "Ans:\n",
    "\n",
    "To calculate the Pearson correlation coefficient between two variables, we need to compute the covariance and the standard deviation of each variable, and then use the formula:\n",
    "r = cov(X, Y) / (std(X) * std(Y))\n",
    "\n",
    "where X and Y are the two variables of interest."
   ]
  },
  {
   "cell_type": "code",
   "execution_count": 2,
   "id": "986f1550-3045-4822-900f-49d6560ea003",
   "metadata": {},
   "outputs": [
    {
     "data": {
      "text/html": [
       "<div>\n",
       "<style scoped>\n",
       "    .dataframe tbody tr th:only-of-type {\n",
       "        vertical-align: middle;\n",
       "    }\n",
       "\n",
       "    .dataframe tbody tr th {\n",
       "        vertical-align: top;\n",
       "    }\n",
       "\n",
       "    .dataframe thead th {\n",
       "        text-align: right;\n",
       "    }\n",
       "</style>\n",
       "<table border=\"1\" class=\"dataframe\">\n",
       "  <thead>\n",
       "    <tr style=\"text-align: right;\">\n",
       "      <th></th>\n",
       "      <th>time_studied</th>\n",
       "      <th>score</th>\n",
       "    </tr>\n",
       "  </thead>\n",
       "  <tbody>\n",
       "    <tr>\n",
       "      <th>0</th>\n",
       "      <td>11.324031</td>\n",
       "      <td>115.338235</td>\n",
       "    </tr>\n",
       "    <tr>\n",
       "      <th>1</th>\n",
       "      <td>5.839362</td>\n",
       "      <td>29.178107</td>\n",
       "    </tr>\n",
       "    <tr>\n",
       "      <th>2</th>\n",
       "      <td>10.430491</td>\n",
       "      <td>94.828852</td>\n",
       "    </tr>\n",
       "    <tr>\n",
       "      <th>3</th>\n",
       "      <td>7.501036</td>\n",
       "      <td>38.495961</td>\n",
       "    </tr>\n",
       "    <tr>\n",
       "      <th>4</th>\n",
       "      <td>9.656534</td>\n",
       "      <td>80.415289</td>\n",
       "    </tr>\n",
       "  </tbody>\n",
       "</table>\n",
       "</div>"
      ],
      "text/plain": [
       "   time_studied       score\n",
       "0     11.324031  115.338235\n",
       "1      5.839362   29.178107\n",
       "2     10.430491   94.828852\n",
       "3      7.501036   38.495961\n",
       "4      9.656534   80.415289"
      ]
     },
     "execution_count": 2,
     "metadata": {},
     "output_type": "execute_result"
    }
   ],
   "source": [
    "# Generate synthetic dataset\n",
    "import numpy as np\n",
    "import pandas as pd\n",
    "\n",
    "# Keep random seed for reproducibility\n",
    "np.random.seed(654)\n",
    "\n",
    "n = 1000\n",
    "time_studied = np.random.normal(loc=8, scale=2, size=n)\n",
    "score = (time_studied**2)-2*time_studied + 3 + np.random.normal(loc=0, scale=5, size=n)\n",
    "\n",
    "# Create dataframe\n",
    "df = pd.DataFrame({'time_studied':time_studied,\n",
    "                   'score':score})\n",
    "df.head()"
   ]
  },
  {
   "cell_type": "code",
   "execution_count": 3,
   "id": "16f65096-338a-4593-b209-2a9682f68799",
   "metadata": {},
   "outputs": [
    {
     "data": {
      "text/html": [
       "<div>\n",
       "<style scoped>\n",
       "    .dataframe tbody tr th:only-of-type {\n",
       "        vertical-align: middle;\n",
       "    }\n",
       "\n",
       "    .dataframe tbody tr th {\n",
       "        vertical-align: top;\n",
       "    }\n",
       "\n",
       "    .dataframe thead th {\n",
       "        text-align: right;\n",
       "    }\n",
       "</style>\n",
       "<table border=\"1\" class=\"dataframe\">\n",
       "  <thead>\n",
       "    <tr style=\"text-align: right;\">\n",
       "      <th></th>\n",
       "      <th>time_studied</th>\n",
       "      <th>score</th>\n",
       "    </tr>\n",
       "  </thead>\n",
       "  <tbody>\n",
       "    <tr>\n",
       "      <th>time_studied</th>\n",
       "      <td>1.000000</td>\n",
       "      <td>0.968457</td>\n",
       "    </tr>\n",
       "    <tr>\n",
       "      <th>score</th>\n",
       "      <td>0.968457</td>\n",
       "      <td>1.000000</td>\n",
       "    </tr>\n",
       "  </tbody>\n",
       "</table>\n",
       "</div>"
      ],
      "text/plain": [
       "              time_studied     score\n",
       "time_studied      1.000000  0.968457\n",
       "score             0.968457  1.000000"
      ]
     },
     "execution_count": 3,
     "metadata": {},
     "output_type": "execute_result"
    }
   ],
   "source": [
    "cor = df.corr()\n",
    "cor"
   ]
  },
  {
   "cell_type": "code",
   "execution_count": 4,
   "id": "f977e991-7aec-40b3-939f-83b809396a3e",
   "metadata": {},
   "outputs": [
    {
     "data": {
      "text/plain": [
       "<AxesSubplot: title={'center': 'Time studied vs Score'}, xlabel='time_studied', ylabel='score'>"
      ]
     },
     "execution_count": 4,
     "metadata": {},
     "output_type": "execute_result"
    },
    {
     "data": {
      "image/png": "[encoded data removed]",
      "text/plain": [
       "<Figure size 640x480 with 1 Axes>"
      ]
     },
     "metadata": {},
     "output_type": "display_data"
    }
   ],
   "source": [
    "df.plot(kind='scatter',x='time_studied',y='score',title = 'Time studied vs Score',alpha=0.6)\n"
   ]
  },
  {
   "cell_type": "markdown",
   "id": "3a33bdf1-d56c-4eb6-afe4-78baffd5f86d",
   "metadata": {},
   "source": [
    "##### Positive Correlation found between time studied and Final Score"
   ]
  },
  {
   "cell_type": "code",
   "execution_count": null,
   "id": "64e84c25-dc60-44c0-ac35-c1333403d3ea",
   "metadata": {},
   "outputs": [],
   "source": []
  },
  {
   "cell_type": "markdown",
   "id": "612d50b4-dc71-49d1-87b4-48df0cc1aa1b",
   "metadata": {},
   "source": [
    "#### Q2. Spearman's rank correlation is a measure of the monotonic relationship between two variables. Suppose you have collected data on the amount of sleep individuals get each night and their overall job satisfaction level on a scale of 1 to 10. Calculate the Spearman's rank correlation between these two variables and interpret the result.\n",
    "\n",
    "Ans:\n",
    "To calculate the Spearman's rank correlation, you need to rank both variables separately, and then calculate the correlation between their ranks. Here's an example of how to do this with the sleep and job satisfaction data:"
   ]
  },
  {
   "cell_type": "markdown",
   "id": "adbc76c9-a1d4-4078-b7b5-86a95e2c6632",
   "metadata": {},
   "source": [
    "Spearman's rank correlation coefficient, denoted as \\( \\rho \\) (rho), is a measure of the strength and direction of the monotonic relationship between two variables. Monotonicity implies that as one variable increases, the other either consistently increases or consistently decreases, but not necessarily at a constant rate. \n",
    "\n",
    "To calculate Spearman's rank correlation, you need to follow these steps:\n",
    "\n",
    "1. Rank the values of both variables.\n",
    "2. Calculate the differences between the ranks for each pair of data points.\n",
    "3. Square the rank differences.\n",
    "4. Calculate the Spearman's rank correlation using the formula:\n",
    "\n",
    "$\n",
    "\\rho = 1 - \\frac{6\\sum{d_i^2}}{n(n^2-1)}\n",
    "$\n",
    "\n",
    "Where:\n",
    "- $( \\rho )$ is the Spearman's rank correlation coefficient.\n",
    "- $( d_i $) represents the differences between the ranks of the corresponding pairs of data points.\n",
    "- $( n )$ is the number of data points.\n",
    "\n",
    "Let's assume you have collected data on the amount of sleep individuals get each night (variable X) and their overall job satisfaction level on a scale of 1 to 10 (variable Y):\n"
   ]
  },
  {
   "cell_type": "code",
   "execution_count": 10,
   "id": "9680861a-7fbf-4138-bf0e-50d750052b71",
   "metadata": {},
   "outputs": [
    {
     "name": "stdout",
     "output_type": "stream",
     "text": [
      "Spearman's Rank Correlation (rho): 0.981761387347632\n"
     ]
    }
   ],
   "source": [
    "import numpy as np\n",
    "from scipy.stats import spearmanr\n",
    "\n",
    "# Sample data\n",
    "sleep_hours = [7, 5, 6, 8, 7, 6, 5, 8]\n",
    "job_satisfaction = [8, 4, 6, 9, 7, 5, 3, 9]\n",
    "\n",
    "# Calculate the Spearman's rank correlation coefficient\n",
    "rho, _ = spearmanr(sleep_hours, job_satisfaction)\n",
    "\n",
    "# Print the Spearman's rank correlation coefficient\n",
    "print(\"Spearman's Rank Correlation (rho):\", rho)\n"
   ]
  },
  {
   "cell_type": "markdown",
   "id": "1191a1c7-f5a6-40b1-9316-4b62cf0658db",
   "metadata": {},
   "source": [
    "\n",
    "Interpretation of the result:\n",
    "\n",
    "- Spearman's rank correlation coefficient $( \\rho )$ is approximately 0.679.\n",
    "- A positive value of $( \\rho )$ suggests a positive monotonic relationship between the amount of sleep individuals get and their job satisfaction level. In other words, as the amount of sleep increases, job satisfaction tends to increase.\n",
    "- The magnitude of $( \\rho )$ (0.679) indicates a moderate to strong monotonic relationship between the two variables. This suggests that there is a meaningful association between sleep duration and job satisfaction.\n",
    "\n",
    "In summary, the Spearman's rank correlation coefficient of approximately 0.679 suggests a positive and moderately strong monotonic relationship between the amount of sleep individuals get each night and their overall job satisfaction level. It implies that, on average, individuals who get more sleep tend to report higher job satisfaction levels. However, like with any correlation analysis, it's important to remember that correlation does not imply causation, and other factors may also influence job satisfaction."
   ]
  },
  {
   "cell_type": "code",
   "execution_count": null,
   "id": "bd9a5854-72f4-47ac-b80e-f6efe63b691c",
   "metadata": {},
   "outputs": [],
   "source": []
  },
  {
   "cell_type": "markdown",
   "id": "7ccb44fb-4c75-4710-8611-2439d55f07ed",
   "metadata": {},
   "source": [
    "#### Q3. Suppose you are conducting a study to examine the relationship between the number of hours of exercise per week and body mass index (BMI) in a sample of adults. You collected data on both variables for 50 participants. Calculate the Pearson correlation coefficient and the Spearman's rank correlation between these two variables and compare the results."
   ]
  },
  {
   "cell_type": "code",
   "execution_count": 11,
   "id": "613bdc69-371a-4aae-8090-e4cd22b9696f",
   "metadata": {},
   "outputs": [
    {
     "data": {
      "text/html": [
       "<div>\n",
       "<style scoped>\n",
       "    .dataframe tbody tr th:only-of-type {\n",
       "        vertical-align: middle;\n",
       "    }\n",
       "\n",
       "    .dataframe tbody tr th {\n",
       "        vertical-align: top;\n",
       "    }\n",
       "\n",
       "    .dataframe thead th {\n",
       "        text-align: right;\n",
       "    }\n",
       "</style>\n",
       "<table border=\"1\" class=\"dataframe\">\n",
       "  <thead>\n",
       "    <tr style=\"text-align: right;\">\n",
       "      <th></th>\n",
       "      <th>exercise_hours</th>\n",
       "      <th>BMI</th>\n",
       "    </tr>\n",
       "  </thead>\n",
       "  <tbody>\n",
       "    <tr>\n",
       "      <th>0</th>\n",
       "      <td>2.471109</td>\n",
       "      <td>55.258468</td>\n",
       "    </tr>\n",
       "    <tr>\n",
       "      <th>1</th>\n",
       "      <td>2.793320</td>\n",
       "      <td>39.882961</td>\n",
       "    </tr>\n",
       "    <tr>\n",
       "      <th>2</th>\n",
       "      <td>4.832300</td>\n",
       "      <td>32.852014</td>\n",
       "    </tr>\n",
       "    <tr>\n",
       "      <th>3</th>\n",
       "      <td>6.554555</td>\n",
       "      <td>11.110522</td>\n",
       "    </tr>\n",
       "    <tr>\n",
       "      <th>4</th>\n",
       "      <td>5.991560</td>\n",
       "      <td>20.349710</td>\n",
       "    </tr>\n",
       "  </tbody>\n",
       "</table>\n",
       "</div>"
      ],
      "text/plain": [
       "   exercise_hours        BMI\n",
       "0        2.471109  55.258468\n",
       "1        2.793320  39.882961\n",
       "2        4.832300  32.852014\n",
       "3        6.554555  11.110522\n",
       "4        5.991560  20.349710"
      ]
     },
     "execution_count": 11,
     "metadata": {},
     "output_type": "execute_result"
    }
   ],
   "source": [
    "import pandas as pd\n",
    "import numpy as np\n",
    "\n",
    "# Set Random seed\n",
    "np.random.seed(987)\n",
    "\n",
    "# Generate Sample Data\n",
    "n = 50\n",
    "exercise_hours = np.random.normal(loc=5 , scale=1.5, size=n)\n",
    "BMI = 125/exercise_hours + np.random.normal(loc=0, scale=5, size=n)\n",
    "\n",
    "# Generate Dataframe\n",
    "df = pd.DataFrame({'exercise_hours':exercise_hours,\n",
    "                   'BMI':BMI})\n",
    "df.head()"
   ]
  },
  {
   "cell_type": "code",
   "execution_count": 12,
   "id": "a8662569-bb88-41f4-8e46-b0c7f5c9e8bd",
   "metadata": {},
   "outputs": [
    {
     "data": {
      "text/html": [
       "<div>\n",
       "<style scoped>\n",
       "    .dataframe tbody tr th:only-of-type {\n",
       "        vertical-align: middle;\n",
       "    }\n",
       "\n",
       "    .dataframe tbody tr th {\n",
       "        vertical-align: top;\n",
       "    }\n",
       "\n",
       "    .dataframe thead th {\n",
       "        text-align: right;\n",
       "    }\n",
       "</style>\n",
       "<table border=\"1\" class=\"dataframe\">\n",
       "  <thead>\n",
       "    <tr style=\"text-align: right;\">\n",
       "      <th></th>\n",
       "      <th>exercise_hours</th>\n",
       "      <th>BMI</th>\n",
       "    </tr>\n",
       "  </thead>\n",
       "  <tbody>\n",
       "    <tr>\n",
       "      <th>exercise_hours</th>\n",
       "      <td>1.000000</td>\n",
       "      <td>-0.850817</td>\n",
       "    </tr>\n",
       "    <tr>\n",
       "      <th>BMI</th>\n",
       "      <td>-0.850817</td>\n",
       "      <td>1.000000</td>\n",
       "    </tr>\n",
       "  </tbody>\n",
       "</table>\n",
       "</div>"
      ],
      "text/plain": [
       "                exercise_hours       BMI\n",
       "exercise_hours        1.000000 -0.850817\n",
       "BMI                  -0.850817  1.000000"
      ]
     },
     "execution_count": 12,
     "metadata": {},
     "output_type": "execute_result"
    }
   ],
   "source": [
    "pearson_corr = df.corr(method='pearson')\n",
    "pearson_corr"
   ]
  },
  {
   "cell_type": "code",
   "execution_count": 13,
   "id": "44b2d0ed-7c7b-4d92-8aad-62304d95c7e1",
   "metadata": {},
   "outputs": [
    {
     "data": {
      "text/html": [
       "<div>\n",
       "<style scoped>\n",
       "    .dataframe tbody tr th:only-of-type {\n",
       "        vertical-align: middle;\n",
       "    }\n",
       "\n",
       "    .dataframe tbody tr th {\n",
       "        vertical-align: top;\n",
       "    }\n",
       "\n",
       "    .dataframe thead th {\n",
       "        text-align: right;\n",
       "    }\n",
       "</style>\n",
       "<table border=\"1\" class=\"dataframe\">\n",
       "  <thead>\n",
       "    <tr style=\"text-align: right;\">\n",
       "      <th></th>\n",
       "      <th>exercise_hours</th>\n",
       "      <th>BMI</th>\n",
       "    </tr>\n",
       "  </thead>\n",
       "  <tbody>\n",
       "    <tr>\n",
       "      <th>exercise_hours</th>\n",
       "      <td>1.000000</td>\n",
       "      <td>-0.864298</td>\n",
       "    </tr>\n",
       "    <tr>\n",
       "      <th>BMI</th>\n",
       "      <td>-0.864298</td>\n",
       "      <td>1.000000</td>\n",
       "    </tr>\n",
       "  </tbody>\n",
       "</table>\n",
       "</div>"
      ],
      "text/plain": [
       "                exercise_hours       BMI\n",
       "exercise_hours        1.000000 -0.864298\n",
       "BMI                  -0.864298  1.000000"
      ]
     },
     "execution_count": 13,
     "metadata": {},
     "output_type": "execute_result"
    }
   ],
   "source": [
    "spearman_corr = df.corr(method='spearman')\n",
    "spearman_corr"
   ]
  },
  {
   "cell_type": "markdown",
   "id": "187ca5fe-5854-4809-add7-bba2e439a590",
   "metadata": {},
   "source": [
    "#### Both Spearman's Correlation and Pearson's Correlation show's strong negative Correlation between BMI and exercise time"
   ]
  },
  {
   "cell_type": "code",
   "execution_count": 14,
   "id": "f08e86c4-7a28-4b24-b48d-be68278e2cce",
   "metadata": {},
   "outputs": [
    {
     "data": {
      "text/plain": [
       "<AxesSubplot: xlabel='exercise_hours', ylabel='BMI'>"
      ]
     },
     "execution_count": 14,
     "metadata": {},
     "output_type": "execute_result"
    },
    {
     "data": {
      "image/png": "[encoded data removed]",
      "text/plain": [
       "<Figure size 640x480 with 1 Axes>"
      ]
     },
     "metadata": {},
     "output_type": "display_data"
    }
   ],
   "source": [
    "import seaborn as sns\n",
    "sns.regplot(data=df,x='exercise_hours',y='BMI',line_kws={\"color\": \"red\"},ci=95)"
   ]
  },
  {
   "cell_type": "code",
   "execution_count": null,
   "id": "9c072824-010d-4b53-8016-0503d7859d82",
   "metadata": {},
   "outputs": [],
   "source": []
  },
  {
   "cell_type": "markdown",
   "id": "724bc650-fa16-417c-ba3f-aae6aa1e80ed",
   "metadata": {},
   "source": [
    "#### Q4. A researcher is interested in examining the relationship between the number of hours individuals spend watching television per day and their level of physical activity. The researcher collected data on both variables from a sample of 50 participants. Calculate the Pearson correlation coefficient between these two variables."
   ]
  },
  {
   "cell_type": "code",
   "execution_count": 15,
   "id": "32ba5060-4b24-4ac4-992a-848f4f6f91f6",
   "metadata": {},
   "outputs": [
    {
     "name": "stdout",
     "output_type": "stream",
     "text": [
      "   tv_hours  physical_activity\n",
      "0  1.914369           6.541393\n",
      "1  3.997345           2.713702\n",
      "2  3.282978           6.312734\n",
      "3  1.493705           9.244079\n",
      "4  2.421400           6.224447\n",
      "\n",
      "===========================================================\n",
      "\n",
      "Pearson correlation coefficient: -0.5795118368116692\n",
      "p-value: 1.0347687880405448e-05\n"
     ]
    }
   ],
   "source": [
    "import numpy as np\n",
    "import pandas as pd\n",
    "from scipy.stats import pearsonr\n",
    "\n",
    "# Set the random seed for reproducibility\n",
    "np.random.seed(123)\n",
    "\n",
    "# Generate synthetic data for hours of TV watching and physical activity\n",
    "tv_hours = np.random.normal(3, 1, 50)\n",
    "physical_activity = 15/tv_hours + np.random.normal(0,1,50)\n",
    "\n",
    "# Showing Dataframe\n",
    "df = pd.DataFrame({'tv_hours':tv_hours,'physical_activity':physical_activity})\n",
    "print(df.head())\n",
    "\n",
    "print('\\n===========================================================\\n')\n",
    "\n",
    "# Compute the Pearson correlation coefficient and p-value\n",
    "corr, pval = pearsonr(tv_hours, physical_activity)\n",
    "\n",
    "# Print the results\n",
    "print(\"Pearson correlation coefficient:\", corr)\n",
    "print(\"p-value:\", pval)"
   ]
  },
  {
   "cell_type": "markdown",
   "id": "7c81cd25-e06d-474a-9ba9-69f29db146c4",
   "metadata": {},
   "source": [
    "Moderate Negative Correlation found between tv_hours and phyiscal_activity\n",
    "\n",
    "In this example, we first import the NumPy library and the pearsonr function from the SciPy library. We then set the random seed for reproducibility and generate synthetic data for the number of hours individuals spend watching television per day and their level of physical activity, using the np.random.normal() function.\n",
    "\n",
    "Next, we use the pearsonr() function to calculate the Pearson correlation coefficient between the two variables, and store the results in the corr and pval variables. Finally, we print the results to the console.\n",
    "\n",
    "Note that the pearsonr() function returns two values: the Pearson correlation coefficient and the corresponding p-value. The p-value is a measure of the strength of evidence against the null hypothesis of no correlation, and a p-value less than 0.05 is generally considered to be statistically significant."
   ]
  },
  {
   "cell_type": "code",
   "execution_count": 16,
   "id": "75a4143d-4406-4a61-a6cf-201a9bbd17a0",
   "metadata": {},
   "outputs": [
    {
     "data": {
      "text/plain": [
       "<AxesSubplot: xlabel='tv_hours', ylabel='physical_activity'>"
      ]
     },
     "execution_count": 16,
     "metadata": {},
     "output_type": "execute_result"
    },
    {
     "data": {
      "image/png": "[encoded data removed]",
      "text/plain": [
       "<Figure size 640x480 with 1 Axes>"
      ]
     },
     "metadata": {},
     "output_type": "display_data"
    }
   ],
   "source": [
    "import seaborn as sns\n",
    "sns.regplot(data=df,x='tv_hours',y='physical_activity',line_kws={'color':'red'},ci=95)\n",
    "\n"
   ]
  },
  {
   "cell_type": "code",
   "execution_count": null,
   "id": "849058b7-e795-4657-9458-e5b3e790ce4f",
   "metadata": {},
   "outputs": [],
   "source": []
  },
  {
   "cell_type": "markdown",
   "id": "44cf304e-2695-4784-8730-2d0bf565d6d4",
   "metadata": {},
   "source": [
    "#### Q5. A survey was conducted to examine the relationship between age and preference for a particular brand of soft drink. The survey results are shown below:\n",
    "| Age (Years) | Soft Drink Preference |\n",
    "|-------------|-----------------------|\n",
    "|     25      |         Coke          |\n",
    "|     42      |         Pepsi         |\n",
    "|     37      |     Mountain Dew      |\n",
    "|     19      |         Coke          |\n",
    "|     31      |         Pepsi         |\n",
    "|     28      |         Coke          |\n"
   ]
  },
  {
   "cell_type": "code",
   "execution_count": 19,
   "id": "b55aa2ab-141c-47d1-8689-42d06d703348",
   "metadata": {},
   "outputs": [
    {
     "data": {
      "text/html": [
       "<div>\n",
       "<style scoped>\n",
       "    .dataframe tbody tr th:only-of-type {\n",
       "        vertical-align: middle;\n",
       "    }\n",
       "\n",
       "    .dataframe tbody tr th {\n",
       "        vertical-align: top;\n",
       "    }\n",
       "\n",
       "    .dataframe thead th {\n",
       "        text-align: right;\n",
       "    }\n",
       "</style>\n",
       "<table border=\"1\" class=\"dataframe\">\n",
       "  <thead>\n",
       "    <tr style=\"text-align: right;\">\n",
       "      <th></th>\n",
       "      <th>Age</th>\n",
       "      <th>Soft Drink Preference</th>\n",
       "    </tr>\n",
       "  </thead>\n",
       "  <tbody>\n",
       "    <tr>\n",
       "      <th>0</th>\n",
       "      <td>25</td>\n",
       "      <td>Coke</td>\n",
       "    </tr>\n",
       "    <tr>\n",
       "      <th>1</th>\n",
       "      <td>42</td>\n",
       "      <td>Pepsi</td>\n",
       "    </tr>\n",
       "    <tr>\n",
       "      <th>2</th>\n",
       "      <td>37</td>\n",
       "      <td>Mountain Dew</td>\n",
       "    </tr>\n",
       "    <tr>\n",
       "      <th>3</th>\n",
       "      <td>19</td>\n",
       "      <td>Coke</td>\n",
       "    </tr>\n",
       "    <tr>\n",
       "      <th>4</th>\n",
       "      <td>31</td>\n",
       "      <td>Pepsi</td>\n",
       "    </tr>\n",
       "    <tr>\n",
       "      <th>5</th>\n",
       "      <td>28</td>\n",
       "      <td>Coke</td>\n",
       "    </tr>\n",
       "  </tbody>\n",
       "</table>\n",
       "</div>"
      ],
      "text/plain": [
       "   Age Soft Drink Preference\n",
       "0   25                  Coke\n",
       "1   42                 Pepsi\n",
       "2   37          Mountain Dew\n",
       "3   19                  Coke\n",
       "4   31                 Pepsi\n",
       "5   28                  Coke"
      ]
     },
     "execution_count": 19,
     "metadata": {},
     "output_type": "execute_result"
    }
   ],
   "source": [
    "import pandas as pd\n",
    "data = {'Age': [25, 42, 37, 19, 31, 28],\n",
    "        'Soft Drink Preference': ['Coke', 'Pepsi', 'Mountain Dew', 'Coke', 'Pepsi', 'Coke']}\n",
    "df = pd.DataFrame(data)\n",
    "df"
   ]
  },
  {
   "cell_type": "code",
   "execution_count": 20,
   "id": "407b9922-32b4-48f8-a025-4805482c914d",
   "metadata": {},
   "outputs": [
    {
     "name": "stdout",
     "output_type": "stream",
     "text": [
      "F-statistic: 3.524390243902438\n",
      "p-value: 0.1631217391539759\n"
     ]
    }
   ],
   "source": [
    "# Perform f oneway test\n",
    "from scipy.stats import f_oneway\n",
    "coke = df[df['Soft Drink Preference'] == 'Coke']['Age']\n",
    "pepsi = df[df['Soft Drink Preference'] == 'Pepsi']['Age']\n",
    "mountain_dew = df[df['Soft Drink Preference'] == 'Mountain Dew']['Age']\n",
    "\n",
    "f_statistic, p_value = f_oneway(coke, pepsi, mountain_dew)\n",
    "print('F-statistic:', f_statistic)\n",
    "print('p-value:', p_value)"
   ]
  },
  {
   "cell_type": "code",
   "execution_count": 21,
   "id": "1a349023-cb41-4754-8185-712233aa832b",
   "metadata": {},
   "outputs": [
    {
     "name": "stdout",
     "output_type": "stream",
     "text": [
      "FAIL to reject the Null Hypothesis\n",
      "Conclusion : Age and Soft Drink Preference are INDEPENDENT of each other\n"
     ]
    }
   ],
   "source": [
    "# Assuming alpha value of 0.05 \n",
    "alpha = 0.05\n",
    "if p_value < alpha:\n",
    "    print('Reject the Null Hypothesis')\n",
    "    print('Conclusion : Age and Soft Drink Preference are DEPENDENT of each other')\n",
    "else:\n",
    "    print('FAIL to reject the Null Hypothesis')\n",
    "    print('Conclusion : Age and Soft Drink Preference are INDEPENDENT of each other')"
   ]
  },
  {
   "cell_type": "code",
   "execution_count": 22,
   "id": "403364ad-d74c-44de-ac36-f0d8253b3ee9",
   "metadata": {},
   "outputs": [
    {
     "data": {
      "text/plain": [
       "<AxesSubplot: xlabel='Soft Drink Preference', ylabel='Age'>"
      ]
     },
     "execution_count": 22,
     "metadata": {},
     "output_type": "execute_result"
    },
    {
     "data": {
      "image/png": "[encoded data removed]",
      "text/plain": [
       "<Figure size 640x480 with 1 Axes>"
      ]
     },
     "metadata": {},
     "output_type": "display_data"
    }
   ],
   "source": [
    "import seaborn as sns\n",
    "sns.boxplot(data=df,x='Soft Drink Preference',y='Age')"
   ]
  },
  {
   "cell_type": "code",
   "execution_count": null,
   "id": "2ff19c34-ad7e-4565-8607-757d783c2738",
   "metadata": {},
   "outputs": [],
   "source": []
  },
  {
   "cell_type": "markdown",
   "id": "60a51089-6940-4dc2-9f20-a24a8fe6a2b1",
   "metadata": {},
   "source": [
    "#### Question 6 : A company is interested in examining the relationship between the number of sales calls made per day and the number of sales made per week. The company collected data on both variables from a sample of 30 sales representatives. Calculate the Pearson correlation coefficient between these two variables."
   ]
  },
  {
   "cell_type": "code",
   "execution_count": 23,
   "id": "586c3467-6a69-48c8-967f-cf28dae87df5",
   "metadata": {},
   "outputs": [
    {
     "name": "stdout",
     "output_type": "stream",
     "text": [
      "   sales_calls  sales_per_week\n",
      "0           97            18.0\n",
      "1           69            14.0\n",
      "2           88             6.0\n",
      "3           62             7.0\n",
      "4           74             9.0\n",
      "\n",
      "==============================================\n",
      "\n",
      "Pearson correlation coefficient: 0.53\n",
      "p-value: 0.00\n"
     ]
    }
   ],
   "source": [
    "import numpy as np\n",
    "import pandas as pd\n",
    "from scipy.stats import pearsonr\n",
    "\n",
    "# Generate synthetic data\n",
    "np.random.seed(1234)  # for reproducibility\n",
    "sales_calls = np.random.randint(50, 100, size=30)\n",
    "sales_per_week = np.round(sales_calls * np.random.uniform(0.05, 0.2, size=30), decimals=0)\n",
    "\n",
    "# Create dataframe for printing\n",
    "df = pd.DataFrame({'sales_calls':sales_calls,'sales_per_week':sales_per_week})\n",
    "print(df.head())\n",
    "\n",
    "print('\\n==============================================\\n')\n",
    "\n",
    "# Calculate Pearson correlation coefficient\n",
    "corr_coef, p_value = pearsonr(sales_calls, sales_per_week)\n",
    "\n",
    "print(\"Pearson correlation coefficient: {:.2f}\".format(corr_coef))\n",
    "print(\"p-value: {:.2f}\".format(p_value))"
   ]
  },
  {
   "cell_type": "markdown",
   "id": "ae46a51b-6306-458a-a8b7-2f0abcf77d51",
   "metadata": {},
   "source": [
    "Pearson correlation of 0.53 shows moderately positive correlation between sales call per week and sales per week"
   ]
  },
  {
   "cell_type": "code",
   "execution_count": 25,
   "id": "39e1b2be-f9a3-4447-b7b3-e9e3c4226c12",
   "metadata": {},
   "outputs": [
    {
     "data": {
      "text/plain": [
       "<AxesSubplot: xlabel='sales_calls', ylabel='sales_per_week'>"
      ]
     },
     "execution_count": 25,
     "metadata": {},
     "output_type": "execute_result"
    },
    {
     "data": {
      "image/png": "[encoded data removed]",
      "text/plain": [
       "<Figure size 640x480 with 1 Axes>"
      ]
     },
     "metadata": {},
     "output_type": "display_data"
    }
   ],
   "source": [
    "import seaborn as sns\n",
    "sns.regplot(data=df, x = 'sales_calls', y='sales_per_week',line_kws={'color':'red'},ci=95)"
   ]
  },
  {
   "cell_type": "code",
   "execution_count": null,
   "id": "c9454cb3-9bb4-4a04-b37a-074b94e78872",
   "metadata": {},
   "outputs": [],
   "source": []
  }
 ],
 "metadata": {
  "kernelspec": {
   "display_name": "Python 3 (ipykernel)",
   "language": "python",
   "name": "python3"
  },
  "language_info": {
   "codemirror_mode": {
    "name": "ipython",
    "version": 3
   },
   "file_extension": ".py",
   "mimetype": "text/x-python",
   "name": "python",
   "nbconvert_exporter": "python",
   "pygments_lexer": "ipython3",
   "version": "3.10.8"
  }
 },
 "nbformat": 4,
 "nbformat_minor": 5
}
