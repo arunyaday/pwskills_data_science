{
 "cells": [
  {
   "cell_type": "markdown",
   "id": "a330c0a9-ee5c-4ac1-a2b6-b09adfe42f89",
   "metadata": {},
   "source": [
    "#### Q1. What is an Exception in python? Write the difference between Exceptions and Syntax errors.\n",
    "Ans: An Exception is an error that happens during the execution of a program. Whenever there is an error, Python generates an exception that could be handled. It basically prevents the program from getting crashed.\\\n",
    "Many a time, there are valid as well as invalid exceptions. Exceptions are convenient in many ways for handling errors and special conditions in a program. When we think that we have a code which can produce an error, we can use exception handling technique.\\\n",
    "we can raise an exception in our program by using the raise exception statement. Raising an exception breaks current code execution and returns the exception back until it is handled.\n",
    "\n",
    "Diffrence: Errors cannot be handled, while Python exceptions can be handled at the run time. An error can be a syntax (parsing) error, while there can be many types of exceptions that could occur during the execution and are not unconditionally inoperable. An Error might indicate critical problems that a reasonable application should not try to catch, while an Exception might indicate conditions that an application should try to catch. Errors are a form of an unchecked exception and are irrecoverable like an OutOfMemoryError, which a programmer should not try to handle.\n",
    "\n",
    "Here's an example that demonstrates the difference between Exceptions and Syntax errors:"
   ]
  },
  {
   "cell_type": "code",
   "execution_count": 2,
   "id": "11401ad3-39df-47c2-b608-d611a6c011bd",
   "metadata": {},
   "outputs": [
    {
     "ename": "SyntaxError",
     "evalue": "invalid syntax. Maybe you meant '==' or ':=' instead of '='? (3946249330.py, line 9)",
     "output_type": "error",
     "traceback": [
      "\u001b[0;36m  Cell \u001b[0;32mIn[2], line 9\u001b[0;36m\u001b[0m\n\u001b[0;31m    if b = 50:\u001b[0m\n\u001b[0m       ^\u001b[0m\n\u001b[0;31mSyntaxError\u001b[0m\u001b[0;31m:\u001b[0m invalid syntax. Maybe you meant '==' or ':=' instead of '='?\n"
     ]
    }
   ],
   "source": [
    "# Example of an Exception\n",
    "try:\n",
    "    a = 10 / 0\n",
    "except ZeroDivisionError:\n",
    "    print(\"Error: Division by zero\")\n",
    "\n",
    "# Example of a Syntax error\n",
    "b = 100\n",
    "if b = 50:\n",
    "    print(\"b is equal to 5\")"
   ]
  },
  {
   "cell_type": "code",
   "execution_count": null,
   "id": "5d24befc-619b-4ac4-afee-c283bc62f2ca",
   "metadata": {},
   "outputs": [],
   "source": []
  },
  {
   "cell_type": "markdown",
   "id": "a7f84303-6d09-4866-a4ea-0f516f723ff9",
   "metadata": {},
   "source": [
    "#### Q2. What happens when an exception is not handled? Explain with an example.\n",
    "Ans: If an exception is not handled , the runtime system will abort the program  and an exception message will print to the terminal.\n"
   ]
  },
  {
   "cell_type": "code",
   "execution_count": 3,
   "id": "231b40d1-1c68-4b52-90fe-5ec09d0a4d46",
   "metadata": {},
   "outputs": [
    {
     "ename": "ZeroDivisionError",
     "evalue": "division by zero",
     "output_type": "error",
     "traceback": [
      "\u001b[0;31m---------------------------------------------------------------------------\u001b[0m",
      "\u001b[0;31mZeroDivisionError\u001b[0m                         Traceback (most recent call last)",
      "Cell \u001b[0;32mIn[3], line 2\u001b[0m\n\u001b[1;32m      1\u001b[0m \u001b[38;5;66;03m# Example of an unhandled exception\u001b[39;00m\n\u001b[0;32m----> 2\u001b[0m a \u001b[38;5;241m=\u001b[39m \u001b[38;5;241;43m10\u001b[39;49m\u001b[43m \u001b[49m\u001b[38;5;241;43m/\u001b[39;49m\u001b[43m \u001b[49m\u001b[38;5;241;43m0\u001b[39;49m\n\u001b[1;32m      3\u001b[0m \u001b[38;5;28mprint\u001b[39m(\u001b[38;5;124m\"\u001b[39m\u001b[38;5;124mResult: \u001b[39m\u001b[38;5;124m\"\u001b[39m, a)\n",
      "\u001b[0;31mZeroDivisionError\u001b[0m: division by zero"
     ]
    }
   ],
   "source": [
    "# Example of an unhandled exception\n",
    "a = 10 / 0\n",
    "print(\"Result: \", a)"
   ]
  },
  {
   "cell_type": "markdown",
   "id": "e1236acb-374c-4dfb-93bf-04b6f4626024",
   "metadata": {},
   "source": [
    "As we can see from the error message, Python tells us that a ZeroDivisionError occurred and that it was caused by a division by zero on line 1 of the code. The \"Traceback\" section of the error message shows the sequence of function calls that led to the exception.\n",
    "\n",
    "In summary, if an exception is not handled in a Python program, it will cause the program to terminate and display an error message that describes the type of exception that occurred and the line of code where the exception occurred. It's important to handle exceptions in your code to prevent unexpected program termination and to provide a graceful way to handle errors."
   ]
  },
  {
   "cell_type": "code",
   "execution_count": null,
   "id": "3ff99ad9-6e86-4edb-93db-6c1b96eee868",
   "metadata": {},
   "outputs": [],
   "source": []
  },
  {
   "cell_type": "markdown",
   "id": "14cce68e-7f5a-49d8-8507-96e8d9f67508",
   "metadata": {},
   "source": [
    "#### Q3. Which Python statements are used to catch and handle exceptions? Explain with an example.\n",
    "Ans: In Python, the try and except statements are used to catch and handle exceptions. The try statement is used to enclose a block of code that might raise an exception, while the except statement is used to specify how to handle the exception if one is raised.\n",
    "\n",
    "Here's an example that demonstrates how to catch and handle an exception in Python using try and except:"
   ]
  },
  {
   "cell_type": "code",
   "execution_count": 4,
   "id": "1fe43a8c-61c7-4f3b-85ab-1deba18e1651",
   "metadata": {},
   "outputs": [
    {
     "name": "stdout",
     "output_type": "stream",
     "text": [
      "Error: Division by zero\n"
     ]
    }
   ],
   "source": [
    "try:\n",
    "    a = 10 / 0\n",
    "except ZeroDivisionError:\n",
    "    print(\"Error: Division by zero\")"
   ]
  },
  {
   "cell_type": "code",
   "execution_count": null,
   "id": "ea6172b5-8646-461e-9649-42301fe30c56",
   "metadata": {},
   "outputs": [],
   "source": []
  },
  {
   "cell_type": "markdown",
   "id": "7a10e1dc-2e89-4652-8efb-3dc8c4680d6b",
   "metadata": {},
   "source": [
    "#### Q4. Explain with an example: a. try and else b. finally c. raise\n",
    "Ans: In Python, the try statement can be followed by an optional else block. The else block is executed only if the try block does not raise an exception. It is often used to specify code that should be executed regardless of whether an exception occurred or not. "
   ]
  },
  {
   "cell_type": "code",
   "execution_count": 9,
   "id": "3c4107ce-8a5b-4b0c-bd84-a730010a7286",
   "metadata": {},
   "outputs": [
    {
     "name": "stdout",
     "output_type": "stream",
     "text": [
      "a = 20.0\n"
     ]
    }
   ],
   "source": [
    "#Here's an example:\n",
    "try:\n",
    "    a = 100 / 5\n",
    "except ZeroDivisionError:\n",
    "    print(\"Error: Division by zero\")\n",
    "else:\n",
    "    print(\"a =\", a)"
   ]
  },
  {
   "cell_type": "markdown",
   "id": "d3acd00e-c9a6-4209-adbf-567e018ce8be",
   "metadata": {},
   "source": [
    "b. finally:\\\n",
    "In Python, the finally block can be used to specify code that should be executed regardless of whether an exception was raised or not. The finally block is always executed, even if an exception occurred and was caught by an except block. "
   ]
  },
  {
   "cell_type": "code",
   "execution_count": 10,
   "id": "06a0aa8e-87c8-4092-b55c-9e135debbfdf",
   "metadata": {},
   "outputs": [
    {
     "name": "stdout",
     "output_type": "stream",
     "text": [
      "This is 1st line\n",
      "This is 2nd line\n",
      "This is 3rd line\n",
      "This is 4th line\n",
      "This is 5th line\n"
     ]
    }
   ],
   "source": [
    "#Here's an example:\n",
    "try:\n",
    "    file = open(\"file1.txt\", \"r\")\n",
    "    contents = file.read()\n",
    "    print(contents)\n",
    "except FileNotFoundError:\n",
    "    print(\"Error: File not found\")\n",
    "finally:\n",
    "    file.close()"
   ]
  },
  {
   "cell_type": "markdown",
   "id": "dd3d4ed8-88df-45a2-8ada-ab6557d3d405",
   "metadata": {},
   "source": [
    "c. raise:\\\n",
    "In Python, the raise statement can be used to raise an exception manually. It is often used to indicate that an error has occurred and to stop the execution of the program. "
   ]
  },
  {
   "cell_type": "code",
   "execution_count": null,
   "id": "878c54dc-90a1-414a-b496-862564d2dfec",
   "metadata": {},
   "outputs": [],
   "source": [
    "#Here's an example:\n",
    "def divide(a, b):\n",
    "    if b == 0:\n",
    "        raise ZeroDivisionError(\"Error: Division by zero\")\n",
    "    else:\n",
    "        return a / b\n",
    "\n",
    "try:\n",
    "    result = divide(10, 0)\n",
    "except ZeroDivisionError as e:\n",
    "    print(e)"
   ]
  },
  {
   "cell_type": "markdown",
   "id": "5f4ba65a-8c58-454b-8acd-75d77566e448",
   "metadata": {},
   "source": [
    "#### Q5. What are Custom Exceptions in python? Why do we need Custom Exceptions? Explain with an example.\n",
    "Ans: In Python, custom exceptions can be defined by creating a new class that inherits from the built-in Exception class. These custom exceptions can be used to represent specific error conditions that are not covered by the built-in exceptions, and can provide more specific information about what went wrong in the code.\n",
    "\n",
    "We need custom exceptions in Python when we want to raise exceptions that are specific to our own code or application. By creating custom exceptions, we can give more meaningful error messages and provide better feedback to the user. This can help with debugging and troubleshooting, and can make our code more readable and maintainable."
   ]
  },
  {
   "cell_type": "code",
   "execution_count": 14,
   "id": "2bd4cbed-6b00-4c21-a77e-5f22891a14fd",
   "metadata": {},
   "outputs": [
    {
     "name": "stdout",
     "output_type": "stream",
     "text": [
      "Error: Negative number not allowed: -7\n"
     ]
    }
   ],
   "source": [
    "#example of how to create a custom exception in Python:\n",
    "\n",
    "class NegativeNumberError(Exception):\n",
    "    def __init__(self, number):\n",
    "        self.number = number\n",
    "        self.message = \"Error: Negative number not allowed\"\n",
    "        super().__init__(self.message)\n",
    "\n",
    "    def __str__(self):\n",
    "        return f\"{self.message}: {self.number}\"\n",
    "\n",
    "def divide(a, b):\n",
    "    if b < 0:\n",
    "        raise NegativeNumberError(b)\n",
    "    else:\n",
    "        return a / b\n",
    "\n",
    "try:\n",
    "    result = divide(10, -7)\n",
    "except NegativeNumberError as e:\n",
    "    print(e)"
   ]
  },
  {
   "cell_type": "markdown",
   "id": "7516ae73-cc06-4639-a793-ea87d7424b61",
   "metadata": {},
   "source": [
    "Q6. Create custom exception class. Use this class to handle an exception.\n",
    "Ans: "
   ]
  },
  {
   "cell_type": "code",
   "execution_count": 22,
   "id": "ccd401b5-976a-4713-912e-4a8fe714de85",
   "metadata": {},
   "outputs": [
    {
     "name": "stdout",
     "output_type": "stream",
     "text": [
      "Error: Division by zero not allowed\n"
     ]
    }
   ],
   "source": [
    "class custom_exception(Exception):\n",
    "    def __init__(self, message):\n",
    "        self.message = message\n",
    "        super().__init__(self.message)\n",
    "\n",
    "def divide(a, b):\n",
    "    if b == 0:\n",
    "        raise custom_exception(\"Error: Division by zero not allowed\")\n",
    "    else:\n",
    "        return a / b\n",
    "\n",
    "try:\n",
    "    result = divide(10, 0)\n",
    "except custom_exception as e:\n",
    "    print(e.message)"
   ]
  }
 ],
 "metadata": {
  "kernelspec": {
   "display_name": "Python 3 (ipykernel)",
   "language": "python",
   "name": "python3"
  },
  "language_info": {
   "codemirror_mode": {
    "name": "ipython",
    "version": 3
   },
   "file_extension": ".py",
   "mimetype": "text/x-python",
   "name": "python",
   "nbconvert_exporter": "python",
   "pygments_lexer": "ipython3",
   "version": "3.10.8"
  }
 },
 "nbformat": 4,
 "nbformat_minor": 5
}
